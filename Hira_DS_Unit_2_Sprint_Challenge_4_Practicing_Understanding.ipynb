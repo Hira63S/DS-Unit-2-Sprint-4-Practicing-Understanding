{
  "nbformat": 4,
  "nbformat_minor": 0,
  "metadata": {
    "colab": {
      "name": "Hira DS_Unit_2_Sprint_Challenge_4_Practicing_Understanding.ipynb",
      "version": "0.3.2",
      "provenance": [],
      "include_colab_link": true
    },
    "language_info": {
      "codemirror_mode": {
        "name": "ipython",
        "version": 3
      },
      "file_extension": ".py",
      "mimetype": "text/x-python",
      "name": "python",
      "nbconvert_exporter": "python",
      "pygments_lexer": "ipython3",
      "version": "3.7.1"
    },
    "kernelspec": {
      "display_name": "Python 3",
      "language": "python",
      "name": "python3"
    }
  },
  "cells": [
    {
      "cell_type": "markdown",
      "metadata": {
        "id": "view-in-github",
        "colab_type": "text"
      },
      "source": [
        "<a href=\"https://colab.research.google.com/github/Hira63S/DS-Unit-2-Sprint-4-Practicing-Understanding/blob/master/Hira_DS_Unit_2_Sprint_Challenge_4_Practicing_Understanding.ipynb\" target=\"_parent\"><img src=\"https://colab.research.google.com/assets/colab-badge.svg\" alt=\"Open In Colab\"/></a>"
      ]
    },
    {
      "cell_type": "markdown",
      "metadata": {
        "id": "xttZXMmbT2Vp",
        "colab_type": "text"
      },
      "source": [
        "_Lambda School Data Science Unit 2_\n",
        " \n",
        " # Sprint Challenge: Practicing & Understanding Predictive Modeling"
      ]
    },
    {
      "cell_type": "markdown",
      "metadata": {
        "id": "4XQJAKTGT2Vt",
        "colab_type": "text"
      },
      "source": [
        "### Chicago Food Inspections\n",
        "\n",
        "For this Sprint Challenge, you'll use a dataset with information from inspections of restaurants and other food establishments in Chicago from January 2010 to March 2019. \n",
        "\n",
        "[See this PDF](https://data.cityofchicago.org/api/assets/BAD5301B-681A-4202-9D25-51B2CAE672FF) for descriptions of the data elements included in this dataset.\n",
        "\n",
        "According to [Chicago Department of Public Health — Food Protection Services](https://www.chicago.gov/city/en/depts/cdph/provdrs/healthy_restaurants/svcs/food-protection-services.html), \"Chicago is home to 16,000 food establishments like restaurants, grocery stores, bakeries, wholesalers, lunchrooms, mobile food vendors and more. Our business is food safety and sanitation with one goal, to prevent the spread of food-borne disease. We do this by inspecting food businesses, responding to complaints and food recalls.\" "
      ]
    },
    {
      "cell_type": "markdown",
      "metadata": {
        "id": "kiwcMTGST2Vv",
        "colab_type": "text"
      },
      "source": [
        "#### Your challenge: Predict whether inspections failed\n",
        "\n",
        "The target is the `Fail` column.\n",
        "\n",
        "- When the food establishment failed the inspection, the target is `1`.\n",
        "- When the establishment passed, the target is `0`."
      ]
    },
    {
      "cell_type": "code",
      "metadata": {
        "id": "ve6b2vnA1ubz",
        "colab_type": "code",
        "colab": {
          "base_uri": "https://localhost:8080/",
          "height": 222
        },
        "outputId": "f9f7ab68-9670-4195-b756-a59735a71213"
      },
      "source": [
        "!pip install eli5"
      ],
      "execution_count": 588,
      "outputs": [
        {
          "output_type": "stream",
          "text": [
            "Requirement already satisfied: eli5 in /usr/local/lib/python3.6/dist-packages (0.8.2)\n",
            "Requirement already satisfied: six in /usr/local/lib/python3.6/dist-packages (from eli5) (1.12.0)\n",
            "Requirement already satisfied: numpy>=1.9.0 in /usr/local/lib/python3.6/dist-packages (from eli5) (1.16.3)\n",
            "Requirement already satisfied: graphviz in /usr/local/lib/python3.6/dist-packages (from eli5) (0.10.1)\n",
            "Requirement already satisfied: scikit-learn>=0.18 in /usr/local/lib/python3.6/dist-packages (from eli5) (0.20.3)\n",
            "Requirement already satisfied: attrs>16.0.0 in /usr/local/lib/python3.6/dist-packages (from eli5) (19.1.0)\n",
            "Requirement already satisfied: jinja2 in /usr/local/lib/python3.6/dist-packages (from eli5) (2.10.1)\n",
            "Requirement already satisfied: scipy in /usr/local/lib/python3.6/dist-packages (from eli5) (1.2.1)\n",
            "Requirement already satisfied: tabulate>=0.7.7 in /usr/local/lib/python3.6/dist-packages (from eli5) (0.8.3)\n",
            "Requirement already satisfied: typing in /usr/local/lib/python3.6/dist-packages (from eli5) (3.6.6)\n",
            "Requirement already satisfied: MarkupSafe>=0.23 in /usr/local/lib/python3.6/dist-packages (from jinja2->eli5) (1.1.1)\n"
          ],
          "name": "stdout"
        }
      ]
    },
    {
      "cell_type": "code",
      "metadata": {
        "id": "8SkmjbvNZDLG",
        "colab_type": "code",
        "colab": {
          "base_uri": "https://localhost:8080/",
          "height": 205
        },
        "outputId": "278550fb-d04c-4921-beb7-57fe3da2da95"
      },
      "source": [
        "!pip install category_encoders"
      ],
      "execution_count": 365,
      "outputs": [
        {
          "output_type": "stream",
          "text": [
            "Requirement already satisfied: category_encoders in /usr/local/lib/python3.6/dist-packages (2.0.0)\n",
            "Requirement already satisfied: scikit-learn>=0.20.0 in /usr/local/lib/python3.6/dist-packages (from category_encoders) (0.20.3)\n",
            "Requirement already satisfied: statsmodels>=0.6.1 in /usr/local/lib/python3.6/dist-packages (from category_encoders) (0.9.0)\n",
            "Requirement already satisfied: patsy>=0.4.1 in /usr/local/lib/python3.6/dist-packages (from category_encoders) (0.5.1)\n",
            "Requirement already satisfied: pandas>=0.21.1 in /usr/local/lib/python3.6/dist-packages (from category_encoders) (0.24.2)\n",
            "Requirement already satisfied: numpy>=1.11.3 in /usr/local/lib/python3.6/dist-packages (from category_encoders) (1.16.3)\n",
            "Requirement already satisfied: scipy>=0.19.0 in /usr/local/lib/python3.6/dist-packages (from category_encoders) (1.2.1)\n",
            "Requirement already satisfied: six in /usr/local/lib/python3.6/dist-packages (from patsy>=0.4.1->category_encoders) (1.12.0)\n",
            "Requirement already satisfied: python-dateutil>=2.5.0 in /usr/local/lib/python3.6/dist-packages (from pandas>=0.21.1->category_encoders) (2.5.3)\n",
            "Requirement already satisfied: pytz>=2011k in /usr/local/lib/python3.6/dist-packages (from pandas>=0.21.1->category_encoders) (2018.9)\n"
          ],
          "name": "stdout"
        }
      ]
    },
    {
      "cell_type": "markdown",
      "metadata": {
        "id": "iUIlzEkXT2Vx",
        "colab_type": "text"
      },
      "source": [
        "#### Run this cell to load the data:"
      ]
    },
    {
      "cell_type": "code",
      "metadata": {
        "id": "AX8R8EuyT2Vz",
        "colab_type": "code",
        "colab": {}
      },
      "source": [
        "import pandas as pd\n",
        "\n",
        "train_url = 'https://drive.google.com/uc?export=download&id=13_tP9JpLcZHSPVpWcua4t2rY44K_s4H5'\n",
        "test_url  = 'https://drive.google.com/uc?export=download&id=1GkDHjsiGrzOXoF_xcYjdzBTSjOIi3g5a'\n",
        "\n",
        "train = pd.read_csv(train_url)\n",
        "test  = pd.read_csv(test_url)\n",
        "\n",
        "assert train.shape == (51916, 17)\n",
        "assert test.shape  == (17306, 17)"
      ],
      "execution_count": 0,
      "outputs": []
    },
    {
      "cell_type": "code",
      "metadata": {
        "id": "sM5Kp19GUmZ6",
        "colab_type": "code",
        "colab": {
          "base_uri": "https://localhost:8080/",
          "height": 568
        },
        "outputId": "110cc14a-95b1-49a6-fb53-0f40d3a6dd47"
      },
      "source": [
        "train.head()"
      ],
      "execution_count": 367,
      "outputs": [
        {
          "output_type": "execute_result",
          "data": {
            "text/html": [
              "<div>\n",
              "<style scoped>\n",
              "    .dataframe tbody tr th:only-of-type {\n",
              "        vertical-align: middle;\n",
              "    }\n",
              "\n",
              "    .dataframe tbody tr th {\n",
              "        vertical-align: top;\n",
              "    }\n",
              "\n",
              "    .dataframe thead th {\n",
              "        text-align: right;\n",
              "    }\n",
              "</style>\n",
              "<table border=\"1\" class=\"dataframe\">\n",
              "  <thead>\n",
              "    <tr style=\"text-align: right;\">\n",
              "      <th></th>\n",
              "      <th>Inspection ID</th>\n",
              "      <th>DBA Name</th>\n",
              "      <th>AKA Name</th>\n",
              "      <th>License #</th>\n",
              "      <th>Facility Type</th>\n",
              "      <th>Risk</th>\n",
              "      <th>Address</th>\n",
              "      <th>City</th>\n",
              "      <th>State</th>\n",
              "      <th>Zip</th>\n",
              "      <th>Inspection Date</th>\n",
              "      <th>Inspection Type</th>\n",
              "      <th>Violations</th>\n",
              "      <th>Latitude</th>\n",
              "      <th>Longitude</th>\n",
              "      <th>Location</th>\n",
              "      <th>Fail</th>\n",
              "    </tr>\n",
              "  </thead>\n",
              "  <tbody>\n",
              "    <tr>\n",
              "      <th>0</th>\n",
              "      <td>2088270</td>\n",
              "      <td>TOM YUM RICE &amp; NOODLE, INC.</td>\n",
              "      <td>TOM YUM CAFE</td>\n",
              "      <td>2354911.0</td>\n",
              "      <td>Restaurant</td>\n",
              "      <td>Risk 1 (High)</td>\n",
              "      <td>608 W BARRY</td>\n",
              "      <td>CHICAGO</td>\n",
              "      <td>IL</td>\n",
              "      <td>60657.0</td>\n",
              "      <td>2017-09-15T00:00:00</td>\n",
              "      <td>Canvass</td>\n",
              "      <td>3. POTENTIALLY HAZARDOUS FOOD MEETS TEMPERATUR...</td>\n",
              "      <td>41.938007</td>\n",
              "      <td>-87.644755</td>\n",
              "      <td>{'longitude': '-87.6447545707008', 'latitude':...</td>\n",
              "      <td>1</td>\n",
              "    </tr>\n",
              "    <tr>\n",
              "      <th>1</th>\n",
              "      <td>555268</td>\n",
              "      <td>FILLING STATION  &amp; CONVENIENCE  STORE</td>\n",
              "      <td>FILLING STATION  &amp; CONVENIENCE  STORE</td>\n",
              "      <td>1044901.0</td>\n",
              "      <td>Grocery Store</td>\n",
              "      <td>Risk 3 (Low)</td>\n",
              "      <td>6646-6658 S WESTERN AVE</td>\n",
              "      <td>CHICAGO</td>\n",
              "      <td>IL</td>\n",
              "      <td>60636.0</td>\n",
              "      <td>2011-10-20T00:00:00</td>\n",
              "      <td>Complaint Re-Inspection</td>\n",
              "      <td>32. FOOD AND NON-FOOD CONTACT SURFACES PROPERL...</td>\n",
              "      <td>41.772402</td>\n",
              "      <td>-87.683603</td>\n",
              "      <td>{'longitude': '-87.68360273081268', 'latitude'...</td>\n",
              "      <td>0</td>\n",
              "    </tr>\n",
              "    <tr>\n",
              "      <th>2</th>\n",
              "      <td>1751394</td>\n",
              "      <td>A P DELI</td>\n",
              "      <td>A P DELI</td>\n",
              "      <td>47405.0</td>\n",
              "      <td>Restaurant</td>\n",
              "      <td>Risk 1 (High)</td>\n",
              "      <td>2025 E 75TH ST</td>\n",
              "      <td>CHICAGO</td>\n",
              "      <td>IL</td>\n",
              "      <td>60649.0</td>\n",
              "      <td>2016-04-05T00:00:00</td>\n",
              "      <td>Canvass Re-Inspection</td>\n",
              "      <td>35. WALLS, CEILINGS, ATTACHED EQUIPMENT CONSTR...</td>\n",
              "      <td>41.758779</td>\n",
              "      <td>-87.575054</td>\n",
              "      <td>{'longitude': '-87.57505446746121', 'latitude'...</td>\n",
              "      <td>0</td>\n",
              "    </tr>\n",
              "    <tr>\n",
              "      <th>3</th>\n",
              "      <td>1763905</td>\n",
              "      <td>FRANK'S CHICAGO SHRIMP HOUSE</td>\n",
              "      <td>FRANK'S CHICAGO SHRIMP HOUSE</td>\n",
              "      <td>6414.0</td>\n",
              "      <td>Restaurant</td>\n",
              "      <td>Risk 2 (Medium)</td>\n",
              "      <td>4459 S ARCHER AVE</td>\n",
              "      <td>CHICAGO</td>\n",
              "      <td>IL</td>\n",
              "      <td>60632.0</td>\n",
              "      <td>2016-04-29T00:00:00</td>\n",
              "      <td>Canvass</td>\n",
              "      <td>38. VENTILATION: ROOMS AND EQUIPMENT VENTED AS...</td>\n",
              "      <td>41.812181</td>\n",
              "      <td>-87.707125</td>\n",
              "      <td>{'longitude': '-87.70712481334274', 'latitude'...</td>\n",
              "      <td>0</td>\n",
              "    </tr>\n",
              "    <tr>\n",
              "      <th>4</th>\n",
              "      <td>453326</td>\n",
              "      <td>MORRILL</td>\n",
              "      <td>MORRILL</td>\n",
              "      <td>24571.0</td>\n",
              "      <td>School</td>\n",
              "      <td>Risk 1 (High)</td>\n",
              "      <td>6011 S Rockwell (2600W) AVE</td>\n",
              "      <td>CHICAGO</td>\n",
              "      <td>IL</td>\n",
              "      <td>60629.0</td>\n",
              "      <td>2011-01-10T00:00:00</td>\n",
              "      <td>Canvass</td>\n",
              "      <td>34. FLOORS: CONSTRUCTED PER CODE, CLEANED, GOO...</td>\n",
              "      <td>NaN</td>\n",
              "      <td>NaN</td>\n",
              "      <td>NaN</td>\n",
              "      <td>0</td>\n",
              "    </tr>\n",
              "  </tbody>\n",
              "</table>\n",
              "</div>"
            ],
            "text/plain": [
              "   Inspection ID  ... Fail\n",
              "0        2088270  ...    1\n",
              "1         555268  ...    0\n",
              "2        1751394  ...    0\n",
              "3        1763905  ...    0\n",
              "4         453326  ...    0\n",
              "\n",
              "[5 rows x 17 columns]"
            ]
          },
          "metadata": {
            "tags": []
          },
          "execution_count": 367
        }
      ]
    },
    {
      "cell_type": "markdown",
      "metadata": {
        "id": "t4qDcFmFU21L",
        "colab_type": "text"
      },
      "source": [
        "###Risk level highly seems like the leakage feature i.e. we already have pre-known information that would lead us to fail/pass the restaurant. "
      ]
    },
    {
      "cell_type": "markdown",
      "metadata": {
        "id": "d0AoKpKfT2V7",
        "colab_type": "text"
      },
      "source": [
        "### Part 1: Preprocessing\n",
        "\n",
        "You may choose which features you want to use, and whether/how you will preprocess them. If you use categorical features, you may use any tools and techniques for encoding. (Pandas, category_encoders, sklearn.preprocessing, or any other library.)\n",
        "\n",
        "_To earn a score of 3 for this part, find and explain leakage. The dataset has a feature that will give you an ROC AUC score > 0.90 if you process and use the feature. Find the leakage and explain why the feature shouldn't be used in a real-world model to predict the results of future inspections._\n",
        "\n",
        "\n",
        "\n"
      ]
    },
    {
      "cell_type": "code",
      "metadata": {
        "id": "2N7r6E1bgGsl",
        "colab_type": "code",
        "colab": {
          "base_uri": "https://localhost:8080/",
          "height": 34
        },
        "outputId": "98a26a64-d703-41f8-9614-4ad66a52ae9b"
      },
      "source": [
        "train['Violations'].isnull().sum()"
      ],
      "execution_count": 368,
      "outputs": [
        {
          "output_type": "execute_result",
          "data": {
            "text/plain": [
              "9655"
            ]
          },
          "metadata": {
            "tags": []
          },
          "execution_count": 368
        }
      ]
    },
    {
      "cell_type": "markdown",
      "metadata": {
        "id": "xyaspRq7gEuo",
        "colab_type": "text"
      },
      "source": [
        "###Violations & Zip column\n",
        "- seems to have a lot of null values and high cardinality, won't be using this feature."
      ]
    },
    {
      "cell_type": "code",
      "metadata": {
        "id": "J2xRc5QBfmgh",
        "colab_type": "code",
        "colab": {
          "base_uri": "https://localhost:8080/",
          "height": 319
        },
        "outputId": "628c2293-092e-44fc-83f0-b62b401869b9"
      },
      "source": [
        "train.isnull().sum()"
      ],
      "execution_count": 369,
      "outputs": [
        {
          "output_type": "execute_result",
          "data": {
            "text/plain": [
              "Inspection ID         0\n",
              "DBA Name              0\n",
              "AKA Name            623\n",
              "License #             5\n",
              "Facility Type       224\n",
              "Risk                 12\n",
              "Address               0\n",
              "City                 53\n",
              "State                10\n",
              "Zip                  26\n",
              "Inspection Date       0\n",
              "Inspection Type       1\n",
              "Violations         9655\n",
              "Latitude            198\n",
              "Longitude           198\n",
              "Location            198\n",
              "Fail                  0\n",
              "dtype: int64"
            ]
          },
          "metadata": {
            "tags": []
          },
          "execution_count": 369
        }
      ]
    },
    {
      "cell_type": "code",
      "metadata": {
        "id": "04fOJMEkV5wY",
        "colab_type": "code",
        "colab": {
          "base_uri": "https://localhost:8080/",
          "height": 302
        },
        "outputId": "765d7238-ddf9-4455-ed7f-67f5f1d271d7"
      },
      "source": [
        "train.columns.tolist()"
      ],
      "execution_count": 370,
      "outputs": [
        {
          "output_type": "execute_result",
          "data": {
            "text/plain": [
              "['Inspection ID',\n",
              " 'DBA Name',\n",
              " 'AKA Name',\n",
              " 'License #',\n",
              " 'Facility Type',\n",
              " 'Risk',\n",
              " 'Address',\n",
              " 'City',\n",
              " 'State',\n",
              " 'Zip',\n",
              " 'Inspection Date',\n",
              " 'Inspection Type',\n",
              " 'Violations',\n",
              " 'Latitude',\n",
              " 'Longitude',\n",
              " 'Location',\n",
              " 'Fail']"
            ]
          },
          "metadata": {
            "tags": []
          },
          "execution_count": 370
        }
      ]
    },
    {
      "cell_type": "code",
      "metadata": {
        "id": "qP-s0oAfgqUf",
        "colab_type": "code",
        "colab": {
          "base_uri": "https://localhost:8080/",
          "height": 84
        },
        "outputId": "86f3a252-bf4a-4775-9a10-a5bf9be6e29f"
      },
      "source": [
        "train['Risk'].value_counts()"
      ],
      "execution_count": 460,
      "outputs": [
        {
          "output_type": "execute_result",
          "data": {
            "text/plain": [
              "Risk 1 (High)      37731\n",
              "Risk 2 (Medium)    10136\n",
              "Risk 3 (Low)        4037\n",
              "Name: Risk, dtype: int64"
            ]
          },
          "metadata": {
            "tags": []
          },
          "execution_count": 460
        }
      ]
    },
    {
      "cell_type": "code",
      "metadata": {
        "id": "bDqFTNMWelMO",
        "colab_type": "code",
        "colab": {
          "base_uri": "https://localhost:8080/",
          "height": 101
        },
        "outputId": "02b39145-95b2-4cd1-bf69-8874e7a1db61"
      },
      "source": [
        "X_train['Risk'].value_counts()"
      ],
      "execution_count": 376,
      "outputs": [
        {
          "output_type": "execute_result",
          "data": {
            "text/plain": [
              "1    37731\n",
              "3    10136\n",
              "2     4037\n",
              "4       12\n",
              "Name: Risk, dtype: int64"
            ]
          },
          "metadata": {
            "tags": []
          },
          "execution_count": 376
        }
      ]
    },
    {
      "cell_type": "markdown",
      "metadata": {
        "id": "FQWnyvAR7KjD",
        "colab_type": "text"
      },
      "source": [
        "###Defining X_train, X_test"
      ]
    },
    {
      "cell_type": "code",
      "metadata": {
        "id": "fW-3yLW4UYV2",
        "colab_type": "code",
        "colab": {}
      },
      "source": [
        "features = ['DBA Name', 'Facility Type', 'Risk', 'Inspection Date', 'Inspection Type',\n",
        "           'Violations', 'City']\n",
        "target = 'Fail'\n",
        "\n",
        "X_train = train[features]\n",
        "y_train = train[target]\n",
        "\n",
        "X_test = test[features]\n",
        "y_test = test[target]\n"
      ],
      "execution_count": 0,
      "outputs": []
    },
    {
      "cell_type": "markdown",
      "metadata": {
        "id": "i0dXmLstWvY0",
        "colab_type": "text"
      },
      "source": [
        "Determining the majority class, "
      ]
    },
    {
      "cell_type": "code",
      "metadata": {
        "id": "RbEbBKP8Woax",
        "colab_type": "code",
        "colab": {
          "base_uri": "https://localhost:8080/",
          "height": 67
        },
        "outputId": "2bff264f-f76d-46fa-a0d0-e14484cb879a"
      },
      "source": [
        "y_train.value_counts(normalize=True)"
      ],
      "execution_count": 591,
      "outputs": [
        {
          "output_type": "execute_result",
          "data": {
            "text/plain": [
              "0    0.74139\n",
              "1    0.25861\n",
              "Name: Fail, dtype: float64"
            ]
          },
          "metadata": {
            "tags": []
          },
          "execution_count": 591
        }
      ]
    },
    {
      "cell_type": "markdown",
      "metadata": {
        "id": "djapQuD5W2Qt",
        "colab_type": "text"
      },
      "source": [
        "0 is passing 1 is failing the inspection. 74%+ stores passed the inspection."
      ]
    },
    {
      "cell_type": "markdown",
      "metadata": {
        "id": "g_ZOj3t5g3us",
        "colab_type": "text"
      },
      "source": [
        "##Creating Baseline"
      ]
    },
    {
      "cell_type": "code",
      "metadata": {
        "id": "alvazZDOXSWa",
        "colab_type": "code",
        "colab": {}
      },
      "source": [
        "majority_class = y_train.mode()[0] #which one happened the most\n",
        "y_pred = [majority_class] * len(y_train) #fake predictions, we want to predict majority class\n",
        "#over and over"
      ],
      "execution_count": 0,
      "outputs": []
    },
    {
      "cell_type": "code",
      "metadata": {
        "id": "UyoKeBUdXL8t",
        "colab_type": "code",
        "colab": {
          "base_uri": "https://localhost:8080/",
          "height": 34
        },
        "outputId": "19fb7857-60b1-4e6a-d3ac-beaff7ff9c04"
      },
      "source": [
        "from sklearn.metrics import roc_auc_score\n",
        "roc_auc_score(y_train, y_pred)"
      ],
      "execution_count": 593,
      "outputs": [
        {
          "output_type": "execute_result",
          "data": {
            "text/plain": [
              "0.5"
            ]
          },
          "metadata": {
            "tags": []
          },
          "execution_count": 593
        }
      ]
    },
    {
      "cell_type": "markdown",
      "metadata": {
        "id": "O1FplJ8BXhLQ",
        "colab_type": "text"
      },
      "source": [
        "as anticipated. above 0.5 would show that prediction is better than random guessing. "
      ]
    },
    {
      "cell_type": "code",
      "metadata": {
        "id": "fzrZ6THGXpbh",
        "colab_type": "code",
        "colab": {
          "base_uri": "https://localhost:8080/",
          "height": 134
        },
        "outputId": "a14881e8-fab1-411e-8fff-05ec886d68af"
      },
      "source": [
        "X_train.isnull().sum().sort_values()"
      ],
      "execution_count": 594,
      "outputs": [
        {
          "output_type": "execute_result",
          "data": {
            "text/plain": [
              "DBA Name              0\n",
              "Inspection Date       0\n",
              "Inspection Type       1\n",
              "Risk                 12\n",
              "Facility Type       224\n",
              "Violations         9655\n",
              "dtype: int64"
            ]
          },
          "metadata": {
            "tags": []
          },
          "execution_count": 594
        }
      ]
    },
    {
      "cell_type": "markdown",
      "metadata": {
        "id": "V1ERIPa7X521",
        "colab_type": "text"
      },
      "source": [
        "Let's create a shallow tree as a baseline to find out the leaky feature."
      ]
    },
    {
      "cell_type": "code",
      "metadata": {
        "id": "JxbImlAcb4as",
        "colab_type": "code",
        "colab": {}
      },
      "source": [
        "import warnings\n",
        "from sklearn.exceptions import DataConversionWarning\n",
        "warnings.filterwarnings(action='ignore', category=DataConversionWarning)"
      ],
      "execution_count": 0,
      "outputs": []
    },
    {
      "cell_type": "code",
      "metadata": {
        "id": "aVWVSrhAX5Fk",
        "colab_type": "code",
        "colab": {}
      },
      "source": [
        "from sklearn.tree import DecisionTreeClassifier\n",
        "from sklearn.model_selection import cross_val_score\n",
        "from sklearn.pipeline import make_pipeline\n",
        "from sklearn.exceptions import DataConversionWarning\n",
        "from sklearn.preprocessing import StandardScaler\n",
        "from sklearn.pipeline import make_pipeline\n",
        "import category_encoders as ce\n",
        "from sklearn.pipeline import Pipeline\n",
        "from sklearn.impute import SimpleImputer\n",
        "from sklearn.model_selection import RandomizedSearchCV\n",
        "from xgboost import XGBClassifier"
      ],
      "execution_count": 0,
      "outputs": []
    },
    {
      "cell_type": "code",
      "metadata": {
        "id": "Ks2tkdIdbrwS",
        "colab_type": "code",
        "colab": {}
      },
      "source": [
        "encoder = ce.OrdinalEncoder()\n",
        "X_train = encoder.fit_transform(X_train[features])"
      ],
      "execution_count": 0,
      "outputs": []
    },
    {
      "cell_type": "code",
      "metadata": {
        "id": "fyRB4CchbpFY",
        "colab_type": "code",
        "colab": {
          "base_uri": "https://localhost:8080/",
          "height": 34
        },
        "outputId": "3c666fb2-ee6d-45a1-a671-f2c75faa049b"
      },
      "source": [
        "#encoder = encoder \n",
        "\n",
        "pipeline = make_pipeline(\n",
        "    StandardScaler(),    \n",
        "    DecisionTreeClassifier(max_depth = 3)\n",
        ")\n",
        "\n",
        "pipeline.fit(X_train, y_train)\n",
        "y_pred_proba = pipeline.predict_proba(X_train)[:, 1]\n",
        "\n",
        "roc_auc_score(y_train, y_pred_proba)"
      ],
      "execution_count": 598,
      "outputs": [
        {
          "output_type": "execute_result",
          "data": {
            "text/plain": [
              "0.6681911271998658"
            ]
          },
          "metadata": {
            "tags": []
          },
          "execution_count": 598
        }
      ]
    },
    {
      "cell_type": "markdown",
      "metadata": {
        "id": "1IV7d6VfdYS7",
        "colab_type": "text"
      },
      "source": [
        "###Visualize the tree to see which ones were most informative."
      ]
    },
    {
      "cell_type": "code",
      "metadata": {
        "id": "SrUsW7ctdrRX",
        "colab_type": "code",
        "colab": {
          "base_uri": "https://localhost:8080/",
          "height": 118
        },
        "outputId": "9457c120-fd03-41e4-9a48-5667243526fd"
      },
      "source": [
        "tree = DecisionTreeClassifier(max_depth =4)\n",
        "tree.fit(X_train,y_train)"
      ],
      "execution_count": 430,
      "outputs": [
        {
          "output_type": "execute_result",
          "data": {
            "text/plain": [
              "DecisionTreeClassifier(class_weight=None, criterion='gini', max_depth=4,\n",
              "            max_features=None, max_leaf_nodes=None,\n",
              "            min_impurity_decrease=0.0, min_impurity_split=None,\n",
              "            min_samples_leaf=1, min_samples_split=2,\n",
              "            min_weight_fraction_leaf=0.0, presort=False, random_state=None,\n",
              "            splitter='best')"
            ]
          },
          "metadata": {
            "tags": []
          },
          "execution_count": 430
        }
      ]
    },
    {
      "cell_type": "code",
      "metadata": {
        "id": "ZhUou-irdeZw",
        "colab_type": "code",
        "colab": {
          "base_uri": "https://localhost:8080/",
          "height": 677
        },
        "outputId": "c5176c7b-f5bd-4cdb-bd8a-13d715d16ffe"
      },
      "source": [
        "import graphviz\n",
        "from sklearn.tree import export_graphviz\n",
        "\n",
        "dot_data = export_graphviz(tree, out_file=None, feature_names=X_train.columns, \n",
        "                           class_names=['Fail', 'Pass'], filled=True, impurity=False, proportion=True)\n",
        "\n",
        "graphviz.Source(dot_data)"
      ],
      "execution_count": 431,
      "outputs": [
        {
          "output_type": "execute_result",
          "data": {
            "text/plain": [
              "<graphviz.files.Source at 0x7fb849288748>"
            ],
            "image/svg+xml": "<?xml version=\"1.0\" encoding=\"UTF-8\" standalone=\"no\"?>\n<!DOCTYPE svg PUBLIC \"-//W3C//DTD SVG 1.1//EN\"\n \"http://www.w3.org/Graphics/SVG/1.1/DTD/svg11.dtd\">\n<!-- Generated by graphviz version 2.40.1 (20161225.0304)\n -->\n<!-- Title: Tree Pages: 1 -->\n<svg width=\"2630pt\" height=\"477pt\"\n viewBox=\"0.00 0.00 2629.50 477.00\" xmlns=\"http://www.w3.org/2000/svg\" xmlns:xlink=\"http://www.w3.org/1999/xlink\">\n<g id=\"graph0\" class=\"graph\" transform=\"scale(1 1) rotate(0) translate(4 473)\">\n<title>Tree</title>\n<polygon fill=\"#ffffff\" stroke=\"transparent\" points=\"-4,4 -4,-473 2625.5,-473 2625.5,4 -4,4\"/>\n<!-- 0 -->\n<g id=\"node1\" class=\"node\">\n<title>0</title>\n<polygon fill=\"#e58139\" fill-opacity=\"0.650980\" stroke=\"#000000\" points=\"1384,-469 1232,-469 1232,-401 1384,-401 1384,-469\"/>\n<text text-anchor=\"middle\" x=\"1308\" y=\"-453.8\" font-family=\"Times,serif\" font-size=\"14.00\" fill=\"#000000\">Inspection Type &lt;= 4.5</text>\n<text text-anchor=\"middle\" x=\"1308\" y=\"-438.8\" font-family=\"Times,serif\" font-size=\"14.00\" fill=\"#000000\">samples = 100.0%</text>\n<text text-anchor=\"middle\" x=\"1308\" y=\"-423.8\" font-family=\"Times,serif\" font-size=\"14.00\" fill=\"#000000\">value = [0.741, 0.259]</text>\n<text text-anchor=\"middle\" x=\"1308\" y=\"-408.8\" font-family=\"Times,serif\" font-size=\"14.00\" fill=\"#000000\">class = Fail</text>\n</g>\n<!-- 1 -->\n<g id=\"node2\" class=\"node\">\n<title>1</title>\n<polygon fill=\"#e58139\" fill-opacity=\"0.741176\" stroke=\"#000000\" points=\"1056,-365 904,-365 904,-297 1056,-297 1056,-365\"/>\n<text text-anchor=\"middle\" x=\"980\" y=\"-349.8\" font-family=\"Times,serif\" font-size=\"14.00\" fill=\"#000000\">Inspection Type &lt;= 1.5</text>\n<text text-anchor=\"middle\" x=\"980\" y=\"-334.8\" font-family=\"Times,serif\" font-size=\"14.00\" fill=\"#000000\">samples = 68.9%</text>\n<text text-anchor=\"middle\" x=\"980\" y=\"-319.8\" font-family=\"Times,serif\" font-size=\"14.00\" fill=\"#000000\">value = [0.795, 0.205]</text>\n<text text-anchor=\"middle\" x=\"980\" y=\"-304.8\" font-family=\"Times,serif\" font-size=\"14.00\" fill=\"#000000\">class = Fail</text>\n</g>\n<!-- 0&#45;&gt;1 -->\n<g id=\"edge1\" class=\"edge\">\n<title>0&#45;&gt;1</title>\n<path fill=\"none\" stroke=\"#000000\" d=\"M1231.9258,-410.8789C1182.3227,-395.1511 1117.4837,-374.5924 1066.0077,-358.2707\"/>\n<polygon fill=\"#000000\" stroke=\"#000000\" points=\"1066.8193,-354.8564 1056.2291,-355.1702 1064.7035,-361.529 1066.8193,-354.8564\"/>\n<text text-anchor=\"middle\" x=\"1067.737\" y=\"-373.6641\" font-family=\"Times,serif\" font-size=\"14.00\" fill=\"#000000\">True</text>\n</g>\n<!-- 16 -->\n<g id=\"node17\" class=\"node\">\n<title>16</title>\n<polygon fill=\"#e58139\" fill-opacity=\"0.396078\" stroke=\"#000000\" points=\"1713.5,-365 1566.5,-365 1566.5,-297 1713.5,-297 1713.5,-365\"/>\n<text text-anchor=\"middle\" x=\"1640\" y=\"-349.8\" font-family=\"Times,serif\" font-size=\"14.00\" fill=\"#000000\">Violations &lt;= 14.5</text>\n<text text-anchor=\"middle\" x=\"1640\" y=\"-334.8\" font-family=\"Times,serif\" font-size=\"14.00\" fill=\"#000000\">samples = 31.1%</text>\n<text text-anchor=\"middle\" x=\"1640\" y=\"-319.8\" font-family=\"Times,serif\" font-size=\"14.00\" fill=\"#000000\">value = [0.624, 0.376]</text>\n<text text-anchor=\"middle\" x=\"1640\" y=\"-304.8\" font-family=\"Times,serif\" font-size=\"14.00\" fill=\"#000000\">class = Fail</text>\n</g>\n<!-- 0&#45;&gt;16 -->\n<g id=\"edge16\" class=\"edge\">\n<title>0&#45;&gt;16</title>\n<path fill=\"none\" stroke=\"#000000\" d=\"M1384.1675,-411.1403C1435.7115,-394.994 1503.7913,-373.6678 1556.7621,-357.0745\"/>\n<polygon fill=\"#000000\" stroke=\"#000000\" points=\"1557.9732,-360.3629 1566.4697,-354.0336 1555.8807,-353.683 1557.9732,-360.3629\"/>\n<text text-anchor=\"middle\" x=\"1554.8847\" y=\"-372.4873\" font-family=\"Times,serif\" font-size=\"14.00\" fill=\"#000000\">False</text>\n</g>\n<!-- 2 -->\n<g id=\"node3\" class=\"node\">\n<title>2</title>\n<polygon fill=\"#e58139\" fill-opacity=\"0.650980\" stroke=\"#000000\" points=\"565.5,-261 418.5,-261 418.5,-193 565.5,-193 565.5,-261\"/>\n<text text-anchor=\"middle\" x=\"492\" y=\"-245.8\" font-family=\"Times,serif\" font-size=\"14.00\" fill=\"#000000\">Violations &lt;= 16.0</text>\n<text text-anchor=\"middle\" x=\"492\" y=\"-230.8\" font-family=\"Times,serif\" font-size=\"14.00\" fill=\"#000000\">samples = 46.6%</text>\n<text text-anchor=\"middle\" x=\"492\" y=\"-215.8\" font-family=\"Times,serif\" font-size=\"14.00\" fill=\"#000000\">value = [0.741, 0.259]</text>\n<text text-anchor=\"middle\" x=\"492\" y=\"-200.8\" font-family=\"Times,serif\" font-size=\"14.00\" fill=\"#000000\">class = Fail</text>\n</g>\n<!-- 1&#45;&gt;2 -->\n<g id=\"edge2\" class=\"edge\">\n<title>1&#45;&gt;2</title>\n<path fill=\"none\" stroke=\"#000000\" d=\"M903.75,-314.75C814.6478,-295.761 667.7007,-264.4444 575.5668,-244.8093\"/>\n<polygon fill=\"#000000\" stroke=\"#000000\" points=\"576.2291,-241.3719 565.7192,-242.7107 574.77,-248.2182 576.2291,-241.3719\"/>\n</g>\n<!-- 9 -->\n<g id=\"node10\" class=\"node\">\n<title>9</title>\n<polygon fill=\"#e58139\" fill-opacity=\"0.898039\" stroke=\"#000000\" points=\"1053.5,-261 906.5,-261 906.5,-193 1053.5,-193 1053.5,-261\"/>\n<text text-anchor=\"middle\" x=\"980\" y=\"-245.8\" font-family=\"Times,serif\" font-size=\"14.00\" fill=\"#000000\">Violations &lt;= 122.5</text>\n<text text-anchor=\"middle\" x=\"980\" y=\"-230.8\" font-family=\"Times,serif\" font-size=\"14.00\" fill=\"#000000\">samples = 22.3%</text>\n<text text-anchor=\"middle\" x=\"980\" y=\"-215.8\" font-family=\"Times,serif\" font-size=\"14.00\" fill=\"#000000\">value = [0.907, 0.093]</text>\n<text text-anchor=\"middle\" x=\"980\" y=\"-200.8\" font-family=\"Times,serif\" font-size=\"14.00\" fill=\"#000000\">class = Fail</text>\n</g>\n<!-- 1&#45;&gt;9 -->\n<g id=\"edge9\" class=\"edge\">\n<title>1&#45;&gt;9</title>\n<path fill=\"none\" stroke=\"#000000\" d=\"M980,-296.9465C980,-288.776 980,-279.9318 980,-271.3697\"/>\n<polygon fill=\"#000000\" stroke=\"#000000\" points=\"983.5001,-271.13 980,-261.13 976.5001,-271.13 983.5001,-271.13\"/>\n</g>\n<!-- 3 -->\n<g id=\"node4\" class=\"node\">\n<title>3</title>\n<polygon fill=\"#e58139\" fill-opacity=\"0.831373\" stroke=\"#000000\" points=\"311.5,-157 164.5,-157 164.5,-89 311.5,-89 311.5,-157\"/>\n<text text-anchor=\"middle\" x=\"238\" y=\"-141.8\" font-family=\"Times,serif\" font-size=\"14.00\" fill=\"#000000\">Facility Type &lt;= 23.5</text>\n<text text-anchor=\"middle\" x=\"238\" y=\"-126.8\" font-family=\"Times,serif\" font-size=\"14.00\" fill=\"#000000\">samples = 2.1%</text>\n<text text-anchor=\"middle\" x=\"238\" y=\"-111.8\" font-family=\"Times,serif\" font-size=\"14.00\" fill=\"#000000\">value = [0.855, 0.145]</text>\n<text text-anchor=\"middle\" x=\"238\" y=\"-96.8\" font-family=\"Times,serif\" font-size=\"14.00\" fill=\"#000000\">class = Fail</text>\n</g>\n<!-- 2&#45;&gt;3 -->\n<g id=\"edge3\" class=\"edge\">\n<title>2&#45;&gt;3</title>\n<path fill=\"none\" stroke=\"#000000\" d=\"M418.1915,-196.7792C387.7938,-184.3329 352.4338,-169.8548 321.1285,-157.0369\"/>\n<polygon fill=\"#000000\" stroke=\"#000000\" points=\"322.1338,-153.6665 311.5532,-153.1163 319.4813,-160.1445 322.1338,-153.6665\"/>\n</g>\n<!-- 6 -->\n<g id=\"node7\" class=\"node\">\n<title>6</title>\n<polygon fill=\"#e58139\" fill-opacity=\"0.639216\" stroke=\"#000000\" points=\"577.5,-157 406.5,-157 406.5,-89 577.5,-89 577.5,-157\"/>\n<text text-anchor=\"middle\" x=\"492\" y=\"-141.8\" font-family=\"Times,serif\" font-size=\"14.00\" fill=\"#000000\">Inspection Date &lt;= 2105.5</text>\n<text text-anchor=\"middle\" x=\"492\" y=\"-126.8\" font-family=\"Times,serif\" font-size=\"14.00\" fill=\"#000000\">samples = 44.4%</text>\n<text text-anchor=\"middle\" x=\"492\" y=\"-111.8\" font-family=\"Times,serif\" font-size=\"14.00\" fill=\"#000000\">value = [0.735, 0.265]</text>\n<text text-anchor=\"middle\" x=\"492\" y=\"-96.8\" font-family=\"Times,serif\" font-size=\"14.00\" fill=\"#000000\">class = Fail</text>\n</g>\n<!-- 2&#45;&gt;6 -->\n<g id=\"edge6\" class=\"edge\">\n<title>2&#45;&gt;6</title>\n<path fill=\"none\" stroke=\"#000000\" d=\"M492,-192.9465C492,-184.776 492,-175.9318 492,-167.3697\"/>\n<polygon fill=\"#000000\" stroke=\"#000000\" points=\"495.5001,-167.13 492,-157.13 488.5001,-167.13 495.5001,-167.13\"/>\n</g>\n<!-- 4 -->\n<g id=\"node5\" class=\"node\">\n<title>4</title>\n<polygon fill=\"#e58139\" fill-opacity=\"0.874510\" stroke=\"#000000\" points=\"146,-53 0,-53 0,0 146,0 146,-53\"/>\n<text text-anchor=\"middle\" x=\"73\" y=\"-37.8\" font-family=\"Times,serif\" font-size=\"14.00\" fill=\"#000000\">samples = 1.8%</text>\n<text text-anchor=\"middle\" x=\"73\" y=\"-22.8\" font-family=\"Times,serif\" font-size=\"14.00\" fill=\"#000000\">value = [0.887, 0.113]</text>\n<text text-anchor=\"middle\" x=\"73\" y=\"-7.8\" font-family=\"Times,serif\" font-size=\"14.00\" fill=\"#000000\">class = Fail</text>\n</g>\n<!-- 3&#45;&gt;4 -->\n<g id=\"edge4\" class=\"edge\">\n<title>3&#45;&gt;4</title>\n<path fill=\"none\" stroke=\"#000000\" d=\"M179.8272,-88.9777C162.682,-78.9504 143.9975,-68.0228 127.118,-58.1508\"/>\n<polygon fill=\"#000000\" stroke=\"#000000\" points=\"128.8724,-55.1223 118.4734,-53.095 125.3385,-61.1648 128.8724,-55.1223\"/>\n</g>\n<!-- 5 -->\n<g id=\"node6\" class=\"node\">\n<title>5</title>\n<polygon fill=\"#e58139\" fill-opacity=\"0.435294\" stroke=\"#000000\" points=\"311.5,-53 164.5,-53 164.5,0 311.5,0 311.5,-53\"/>\n<text text-anchor=\"middle\" x=\"238\" y=\"-37.8\" font-family=\"Times,serif\" font-size=\"14.00\" fill=\"#000000\">samples = 0.3%</text>\n<text text-anchor=\"middle\" x=\"238\" y=\"-22.8\" font-family=\"Times,serif\" font-size=\"14.00\" fill=\"#000000\">value = [0.639, 0.361]</text>\n<text text-anchor=\"middle\" x=\"238\" y=\"-7.8\" font-family=\"Times,serif\" font-size=\"14.00\" fill=\"#000000\">class = Fail</text>\n</g>\n<!-- 3&#45;&gt;5 -->\n<g id=\"edge5\" class=\"edge\">\n<title>3&#45;&gt;5</title>\n<path fill=\"none\" stroke=\"#000000\" d=\"M238,-88.9777C238,-80.7364 238,-71.887 238,-63.5153\"/>\n<polygon fill=\"#000000\" stroke=\"#000000\" points=\"241.5001,-63.2484 238,-53.2485 234.5001,-63.2485 241.5001,-63.2484\"/>\n</g>\n<!-- 7 -->\n<g id=\"node8\" class=\"node\">\n<title>7</title>\n<polygon fill=\"#e58139\" fill-opacity=\"0.643137\" stroke=\"#000000\" points=\"476.5,-53 329.5,-53 329.5,0 476.5,0 476.5,-53\"/>\n<text text-anchor=\"middle\" x=\"403\" y=\"-37.8\" font-family=\"Times,serif\" font-size=\"14.00\" fill=\"#000000\">samples = 43.7%</text>\n<text text-anchor=\"middle\" x=\"403\" y=\"-22.8\" font-family=\"Times,serif\" font-size=\"14.00\" fill=\"#000000\">value = [0.737, 0.263]</text>\n<text text-anchor=\"middle\" x=\"403\" y=\"-7.8\" font-family=\"Times,serif\" font-size=\"14.00\" fill=\"#000000\">class = Fail</text>\n</g>\n<!-- 6&#45;&gt;7 -->\n<g id=\"edge7\" class=\"edge\">\n<title>6&#45;&gt;7</title>\n<path fill=\"none\" stroke=\"#000000\" d=\"M460.6219,-88.9777C452.1766,-79.8207 443.0389,-69.9129 434.5825,-60.744\"/>\n<polygon fill=\"#000000\" stroke=\"#000000\" points=\"437.0221,-58.2266 427.6696,-53.2485 431.8764,-62.9723 437.0221,-58.2266\"/>\n</g>\n<!-- 8 -->\n<g id=\"node9\" class=\"node\">\n<title>8</title>\n<polygon fill=\"#e58139\" fill-opacity=\"0.447059\" stroke=\"#000000\" points=\"641.5,-53 494.5,-53 494.5,0 641.5,0 641.5,-53\"/>\n<text text-anchor=\"middle\" x=\"568\" y=\"-37.8\" font-family=\"Times,serif\" font-size=\"14.00\" fill=\"#000000\">samples = 0.8%</text>\n<text text-anchor=\"middle\" x=\"568\" y=\"-22.8\" font-family=\"Times,serif\" font-size=\"14.00\" fill=\"#000000\">value = [0.644, 0.356]</text>\n<text text-anchor=\"middle\" x=\"568\" y=\"-7.8\" font-family=\"Times,serif\" font-size=\"14.00\" fill=\"#000000\">class = Fail</text>\n</g>\n<!-- 6&#45;&gt;8 -->\n<g id=\"edge8\" class=\"edge\">\n<title>6&#45;&gt;8</title>\n<path fill=\"none\" stroke=\"#000000\" d=\"M518.7948,-88.9777C525.8622,-80.0039 533.4976,-70.3089 540.5967,-61.295\"/>\n<polygon fill=\"#000000\" stroke=\"#000000\" points=\"543.4963,-63.2701 546.9338,-53.2485 537.997,-58.9391 543.4963,-63.2701\"/>\n</g>\n<!-- 10 -->\n<g id=\"node11\" class=\"node\">\n<title>10</title>\n<polygon fill=\"#e58139\" fill-opacity=\"0.996078\" stroke=\"#000000\" points=\"969.5,-157 822.5,-157 822.5,-89 969.5,-89 969.5,-157\"/>\n<text text-anchor=\"middle\" x=\"896\" y=\"-141.8\" font-family=\"Times,serif\" font-size=\"14.00\" fill=\"#000000\">Facility Type &lt;= 11.5</text>\n<text text-anchor=\"middle\" x=\"896\" y=\"-126.8\" font-family=\"Times,serif\" font-size=\"14.00\" fill=\"#000000\">samples = 8.8%</text>\n<text text-anchor=\"middle\" x=\"896\" y=\"-111.8\" font-family=\"Times,serif\" font-size=\"14.00\" fill=\"#000000\">value = [0.994, 0.006]</text>\n<text text-anchor=\"middle\" x=\"896\" y=\"-96.8\" font-family=\"Times,serif\" font-size=\"14.00\" fill=\"#000000\">class = Fail</text>\n</g>\n<!-- 9&#45;&gt;10 -->\n<g id=\"edge10\" class=\"edge\">\n<title>9&#45;&gt;10</title>\n<path fill=\"none\" stroke=\"#000000\" d=\"M952.4953,-192.9465C945.3159,-184.0578 937.4924,-174.3716 930.019,-165.1188\"/>\n<polygon fill=\"#000000\" stroke=\"#000000\" points=\"932.5727,-162.7102 923.5665,-157.13 927.1271,-167.1086 932.5727,-162.7102\"/>\n</g>\n<!-- 13 -->\n<g id=\"node14\" class=\"node\">\n<title>13</title>\n<polygon fill=\"#e58139\" fill-opacity=\"0.823529\" stroke=\"#000000\" points=\"1140,-157 988,-157 988,-89 1140,-89 1140,-157\"/>\n<text text-anchor=\"middle\" x=\"1064\" y=\"-141.8\" font-family=\"Times,serif\" font-size=\"14.00\" fill=\"#000000\">Inspection Type &lt;= 3.5</text>\n<text text-anchor=\"middle\" x=\"1064\" y=\"-126.8\" font-family=\"Times,serif\" font-size=\"14.00\" fill=\"#000000\">samples = 13.5%</text>\n<text text-anchor=\"middle\" x=\"1064\" y=\"-111.8\" font-family=\"Times,serif\" font-size=\"14.00\" fill=\"#000000\">value = [0.85, 0.15]</text>\n<text text-anchor=\"middle\" x=\"1064\" y=\"-96.8\" font-family=\"Times,serif\" font-size=\"14.00\" fill=\"#000000\">class = Fail</text>\n</g>\n<!-- 9&#45;&gt;13 -->\n<g id=\"edge13\" class=\"edge\">\n<title>9&#45;&gt;13</title>\n<path fill=\"none\" stroke=\"#000000\" d=\"M1007.5047,-192.9465C1014.6841,-184.0578 1022.5076,-174.3716 1029.981,-165.1188\"/>\n<polygon fill=\"#000000\" stroke=\"#000000\" points=\"1032.8729,-167.1086 1036.4335,-157.13 1027.4273,-162.7102 1032.8729,-167.1086\"/>\n</g>\n<!-- 11 -->\n<g id=\"node12\" class=\"node\">\n<title>11</title>\n<polygon fill=\"#e58139\" fill-opacity=\"0.996078\" stroke=\"#000000\" points=\"806.5,-53 659.5,-53 659.5,0 806.5,0 806.5,-53\"/>\n<text text-anchor=\"middle\" x=\"733\" y=\"-37.8\" font-family=\"Times,serif\" font-size=\"14.00\" fill=\"#000000\">samples = 7.9%</text>\n<text text-anchor=\"middle\" x=\"733\" y=\"-22.8\" font-family=\"Times,serif\" font-size=\"14.00\" fill=\"#000000\">value = [0.996, 0.004]</text>\n<text text-anchor=\"middle\" x=\"733\" y=\"-7.8\" font-family=\"Times,serif\" font-size=\"14.00\" fill=\"#000000\">class = Fail</text>\n</g>\n<!-- 10&#45;&gt;11 -->\n<g id=\"edge11\" class=\"edge\">\n<title>10&#45;&gt;11</title>\n<path fill=\"none\" stroke=\"#000000\" d=\"M838.5323,-88.9777C821.7504,-79.0424 803.4754,-68.2232 786.9214,-58.4228\"/>\n<polygon fill=\"#000000\" stroke=\"#000000\" points=\"788.3103,-55.1777 777.9222,-53.095 784.7442,-61.2013 788.3103,-55.1777\"/>\n</g>\n<!-- 12 -->\n<g id=\"node13\" class=\"node\">\n<title>12</title>\n<polygon fill=\"#e58139\" fill-opacity=\"0.976471\" stroke=\"#000000\" points=\"971.5,-53 824.5,-53 824.5,0 971.5,0 971.5,-53\"/>\n<text text-anchor=\"middle\" x=\"898\" y=\"-37.8\" font-family=\"Times,serif\" font-size=\"14.00\" fill=\"#000000\">samples = 0.9%</text>\n<text text-anchor=\"middle\" x=\"898\" y=\"-22.8\" font-family=\"Times,serif\" font-size=\"14.00\" fill=\"#000000\">value = [0.978, 0.022]</text>\n<text text-anchor=\"middle\" x=\"898\" y=\"-7.8\" font-family=\"Times,serif\" font-size=\"14.00\" fill=\"#000000\">class = Fail</text>\n</g>\n<!-- 10&#45;&gt;12 -->\n<g id=\"edge12\" class=\"edge\">\n<title>10&#45;&gt;12</title>\n<path fill=\"none\" stroke=\"#000000\" d=\"M896.7051,-88.9777C896.8759,-80.7364 897.0593,-71.887 897.2328,-63.5153\"/>\n<polygon fill=\"#000000\" stroke=\"#000000\" points=\"900.7376,-63.3189 897.4456,-53.2485 893.7391,-63.1738 900.7376,-63.3189\"/>\n</g>\n<!-- 14 -->\n<g id=\"node15\" class=\"node\">\n<title>14</title>\n<polygon fill=\"#e58139\" fill-opacity=\"0.866667\" stroke=\"#000000\" points=\"1136,-53 990,-53 990,0 1136,0 1136,-53\"/>\n<text text-anchor=\"middle\" x=\"1063\" y=\"-37.8\" font-family=\"Times,serif\" font-size=\"14.00\" fill=\"#000000\">samples = 11.3%</text>\n<text text-anchor=\"middle\" x=\"1063\" y=\"-22.8\" font-family=\"Times,serif\" font-size=\"14.00\" fill=\"#000000\">value = [0.883, 0.117]</text>\n<text text-anchor=\"middle\" x=\"1063\" y=\"-7.8\" font-family=\"Times,serif\" font-size=\"14.00\" fill=\"#000000\">class = Fail</text>\n</g>\n<!-- 13&#45;&gt;14 -->\n<g id=\"edge14\" class=\"edge\">\n<title>13&#45;&gt;14</title>\n<path fill=\"none\" stroke=\"#000000\" d=\"M1063.6474,-88.9777C1063.562,-80.7364 1063.4703,-71.887 1063.3836,-63.5153\"/>\n<polygon fill=\"#000000\" stroke=\"#000000\" points=\"1066.8807,-63.2116 1063.2772,-53.2485 1059.8811,-63.2842 1066.8807,-63.2116\"/>\n</g>\n<!-- 15 -->\n<g id=\"node16\" class=\"node\">\n<title>15</title>\n<polygon fill=\"#e58139\" fill-opacity=\"0.521569\" stroke=\"#000000\" points=\"1301.5,-53 1154.5,-53 1154.5,0 1301.5,0 1301.5,-53\"/>\n<text text-anchor=\"middle\" x=\"1228\" y=\"-37.8\" font-family=\"Times,serif\" font-size=\"14.00\" fill=\"#000000\">samples = 2.2%</text>\n<text text-anchor=\"middle\" x=\"1228\" y=\"-22.8\" font-family=\"Times,serif\" font-size=\"14.00\" fill=\"#000000\">value = [0.677, 0.323]</text>\n<text text-anchor=\"middle\" x=\"1228\" y=\"-7.8\" font-family=\"Times,serif\" font-size=\"14.00\" fill=\"#000000\">class = Fail</text>\n</g>\n<!-- 13&#45;&gt;15 -->\n<g id=\"edge15\" class=\"edge\">\n<title>13&#45;&gt;15</title>\n<path fill=\"none\" stroke=\"#000000\" d=\"M1121.8203,-88.9777C1138.7052,-79.0424 1157.0922,-68.2232 1173.7478,-58.4228\"/>\n<polygon fill=\"#000000\" stroke=\"#000000\" points=\"1175.9585,-61.183 1182.8022,-53.095 1172.4086,-55.1499 1175.9585,-61.183\"/>\n</g>\n<!-- 17 -->\n<g id=\"node18\" class=\"node\">\n<title>17</title>\n<polygon fill=\"#e58139\" fill-opacity=\"0.701961\" stroke=\"#000000\" points=\"1716,-261 1564,-261 1564,-193 1716,-193 1716,-261\"/>\n<text text-anchor=\"middle\" x=\"1640\" y=\"-245.8\" font-family=\"Times,serif\" font-size=\"14.00\" fill=\"#000000\">Inspection Type &lt;= 6.5</text>\n<text text-anchor=\"middle\" x=\"1640\" y=\"-230.8\" font-family=\"Times,serif\" font-size=\"14.00\" fill=\"#000000\">samples = 7.8%</text>\n<text text-anchor=\"middle\" x=\"1640\" y=\"-215.8\" font-family=\"Times,serif\" font-size=\"14.00\" fill=\"#000000\">value = [0.771, 0.229]</text>\n<text text-anchor=\"middle\" x=\"1640\" y=\"-200.8\" font-family=\"Times,serif\" font-size=\"14.00\" fill=\"#000000\">class = Fail</text>\n</g>\n<!-- 16&#45;&gt;17 -->\n<g id=\"edge17\" class=\"edge\">\n<title>16&#45;&gt;17</title>\n<path fill=\"none\" stroke=\"#000000\" d=\"M1640,-296.9465C1640,-288.776 1640,-279.9318 1640,-271.3697\"/>\n<polygon fill=\"#000000\" stroke=\"#000000\" points=\"1643.5001,-271.13 1640,-261.13 1636.5001,-271.13 1643.5001,-271.13\"/>\n</g>\n<!-- 24 -->\n<g id=\"node25\" class=\"node\">\n<title>24</title>\n<polygon fill=\"#e58139\" fill-opacity=\"0.258824\" stroke=\"#000000\" points=\"2208,-261 2056,-261 2056,-193 2208,-193 2208,-261\"/>\n<text text-anchor=\"middle\" x=\"2132\" y=\"-245.8\" font-family=\"Times,serif\" font-size=\"14.00\" fill=\"#000000\">Inspection Type &lt;= 6.5</text>\n<text text-anchor=\"middle\" x=\"2132\" y=\"-230.8\" font-family=\"Times,serif\" font-size=\"14.00\" fill=\"#000000\">samples = 23.4%</text>\n<text text-anchor=\"middle\" x=\"2132\" y=\"-215.8\" font-family=\"Times,serif\" font-size=\"14.00\" fill=\"#000000\">value = [0.575, 0.425]</text>\n<text text-anchor=\"middle\" x=\"2132\" y=\"-200.8\" font-family=\"Times,serif\" font-size=\"14.00\" fill=\"#000000\">class = Fail</text>\n</g>\n<!-- 16&#45;&gt;24 -->\n<g id=\"edge24\" class=\"edge\">\n<title>16&#45;&gt;24</title>\n<path fill=\"none\" stroke=\"#000000\" d=\"M1713.6574,-315.4301C1802.5019,-296.65 1951.6172,-265.1297 2045.7482,-245.2321\"/>\n<polygon fill=\"#000000\" stroke=\"#000000\" points=\"2046.7533,-248.5971 2055.8132,-243.1045 2045.3056,-241.7484 2046.7533,-248.5971\"/>\n</g>\n<!-- 18 -->\n<g id=\"node19\" class=\"node\">\n<title>18</title>\n<polygon fill=\"#e58139\" fill-opacity=\"0.650980\" stroke=\"#000000\" points=\"1628.5,-157 1481.5,-157 1481.5,-89 1628.5,-89 1628.5,-157\"/>\n<text text-anchor=\"middle\" x=\"1555\" y=\"-141.8\" font-family=\"Times,serif\" font-size=\"14.00\" fill=\"#000000\">Facility Type &lt;= 5.5</text>\n<text text-anchor=\"middle\" x=\"1555\" y=\"-126.8\" font-family=\"Times,serif\" font-size=\"14.00\" fill=\"#000000\">samples = 5.5%</text>\n<text text-anchor=\"middle\" x=\"1555\" y=\"-111.8\" font-family=\"Times,serif\" font-size=\"14.00\" fill=\"#000000\">value = [0.742, 0.258]</text>\n<text text-anchor=\"middle\" x=\"1555\" y=\"-96.8\" font-family=\"Times,serif\" font-size=\"14.00\" fill=\"#000000\">class = Fail</text>\n</g>\n<!-- 17&#45;&gt;18 -->\n<g id=\"edge18\" class=\"edge\">\n<title>17&#45;&gt;18</title>\n<path fill=\"none\" stroke=\"#000000\" d=\"M1612.1678,-192.9465C1604.903,-184.0578 1596.9864,-174.3716 1589.424,-165.1188\"/>\n<polygon fill=\"#000000\" stroke=\"#000000\" points=\"1591.9331,-162.658 1582.8947,-157.13 1586.513,-167.0878 1591.9331,-162.658\"/>\n</g>\n<!-- 21 -->\n<g id=\"node22\" class=\"node\">\n<title>21</title>\n<polygon fill=\"#e58139\" fill-opacity=\"0.811765\" stroke=\"#000000\" points=\"1805,-157 1647,-157 1647,-89 1805,-89 1805,-157\"/>\n<text text-anchor=\"middle\" x=\"1726\" y=\"-141.8\" font-family=\"Times,serif\" font-size=\"14.00\" fill=\"#000000\">Inspection Type &lt;= 11.5</text>\n<text text-anchor=\"middle\" x=\"1726\" y=\"-126.8\" font-family=\"Times,serif\" font-size=\"14.00\" fill=\"#000000\">samples = 2.2%</text>\n<text text-anchor=\"middle\" x=\"1726\" y=\"-111.8\" font-family=\"Times,serif\" font-size=\"14.00\" fill=\"#000000\">value = [0.842, 0.158]</text>\n<text text-anchor=\"middle\" x=\"1726\" y=\"-96.8\" font-family=\"Times,serif\" font-size=\"14.00\" fill=\"#000000\">class = Fail</text>\n</g>\n<!-- 17&#45;&gt;21 -->\n<g id=\"edge21\" class=\"edge\">\n<title>17&#45;&gt;21</title>\n<path fill=\"none\" stroke=\"#000000\" d=\"M1668.1596,-192.9465C1675.5842,-183.968 1683.6815,-174.1758 1691.4028,-164.8385\"/>\n<polygon fill=\"#000000\" stroke=\"#000000\" points=\"1694.1017,-167.0669 1697.7771,-157.13 1688.7072,-162.606 1694.1017,-167.0669\"/>\n</g>\n<!-- 19 -->\n<g id=\"node20\" class=\"node\">\n<title>19</title>\n<polygon fill=\"#e58139\" fill-opacity=\"0.603922\" stroke=\"#000000\" points=\"1466.5,-53 1319.5,-53 1319.5,0 1466.5,0 1466.5,-53\"/>\n<text text-anchor=\"middle\" x=\"1393\" y=\"-37.8\" font-family=\"Times,serif\" font-size=\"14.00\" fill=\"#000000\">samples = 4.1%</text>\n<text text-anchor=\"middle\" x=\"1393\" y=\"-22.8\" font-family=\"Times,serif\" font-size=\"14.00\" fill=\"#000000\">value = [0.717, 0.283]</text>\n<text text-anchor=\"middle\" x=\"1393\" y=\"-7.8\" font-family=\"Times,serif\" font-size=\"14.00\" fill=\"#000000\">class = Fail</text>\n</g>\n<!-- 18&#45;&gt;19 -->\n<g id=\"edge19\" class=\"edge\">\n<title>18&#45;&gt;19</title>\n<path fill=\"none\" stroke=\"#000000\" d=\"M1497.8849,-88.9777C1481.2059,-79.0424 1463.0431,-68.2232 1446.5906,-58.4228\"/>\n<polygon fill=\"#000000\" stroke=\"#000000\" points=\"1448.029,-55.2058 1437.6466,-53.095 1444.4467,-61.2197 1448.029,-55.2058\"/>\n</g>\n<!-- 20 -->\n<g id=\"node21\" class=\"node\">\n<title>20</title>\n<polygon fill=\"#e58139\" fill-opacity=\"0.772549\" stroke=\"#000000\" points=\"1631.5,-53 1484.5,-53 1484.5,0 1631.5,0 1631.5,-53\"/>\n<text text-anchor=\"middle\" x=\"1558\" y=\"-37.8\" font-family=\"Times,serif\" font-size=\"14.00\" fill=\"#000000\">samples = 1.4%</text>\n<text text-anchor=\"middle\" x=\"1558\" y=\"-22.8\" font-family=\"Times,serif\" font-size=\"14.00\" fill=\"#000000\">value = [0.815, 0.185]</text>\n<text text-anchor=\"middle\" x=\"1558\" y=\"-7.8\" font-family=\"Times,serif\" font-size=\"14.00\" fill=\"#000000\">class = Fail</text>\n</g>\n<!-- 18&#45;&gt;20 -->\n<g id=\"edge20\" class=\"edge\">\n<title>18&#45;&gt;20</title>\n<path fill=\"none\" stroke=\"#000000\" d=\"M1556.0577,-88.9777C1556.3139,-80.7364 1556.589,-71.887 1556.8493,-63.5153\"/>\n<polygon fill=\"#000000\" stroke=\"#000000\" points=\"1560.3559,-63.3524 1557.1684,-53.2485 1553.3593,-63.1349 1560.3559,-63.3524\"/>\n</g>\n<!-- 22 -->\n<g id=\"node23\" class=\"node\">\n<title>22</title>\n<polygon fill=\"#e58139\" fill-opacity=\"0.929412\" stroke=\"#000000\" points=\"1796.5,-53 1649.5,-53 1649.5,0 1796.5,0 1796.5,-53\"/>\n<text text-anchor=\"middle\" x=\"1723\" y=\"-37.8\" font-family=\"Times,serif\" font-size=\"14.00\" fill=\"#000000\">samples = 1.6%</text>\n<text text-anchor=\"middle\" x=\"1723\" y=\"-22.8\" font-family=\"Times,serif\" font-size=\"14.00\" fill=\"#000000\">value = [0.934, 0.066]</text>\n<text text-anchor=\"middle\" x=\"1723\" y=\"-7.8\" font-family=\"Times,serif\" font-size=\"14.00\" fill=\"#000000\">class = Fail</text>\n</g>\n<!-- 21&#45;&gt;22 -->\n<g id=\"edge22\" class=\"edge\">\n<title>21&#45;&gt;22</title>\n<path fill=\"none\" stroke=\"#000000\" d=\"M1724.9423,-88.9777C1724.6861,-80.7364 1724.411,-71.887 1724.1507,-63.5153\"/>\n<polygon fill=\"#000000\" stroke=\"#000000\" points=\"1727.6407,-63.1349 1723.8316,-53.2485 1720.6441,-63.3524 1727.6407,-63.1349\"/>\n</g>\n<!-- 23 -->\n<g id=\"node24\" class=\"node\">\n<title>23</title>\n<polygon fill=\"#e58139\" fill-opacity=\"0.423529\" stroke=\"#000000\" points=\"1961.5,-53 1814.5,-53 1814.5,0 1961.5,0 1961.5,-53\"/>\n<text text-anchor=\"middle\" x=\"1888\" y=\"-37.8\" font-family=\"Times,serif\" font-size=\"14.00\" fill=\"#000000\">samples = 0.7%</text>\n<text text-anchor=\"middle\" x=\"1888\" y=\"-22.8\" font-family=\"Times,serif\" font-size=\"14.00\" fill=\"#000000\">value = [0.634, 0.366]</text>\n<text text-anchor=\"middle\" x=\"1888\" y=\"-7.8\" font-family=\"Times,serif\" font-size=\"14.00\" fill=\"#000000\">class = Fail</text>\n</g>\n<!-- 21&#45;&gt;23 -->\n<g id=\"edge23\" class=\"edge\">\n<title>21&#45;&gt;23</title>\n<path fill=\"none\" stroke=\"#000000\" d=\"M1783.1151,-88.9777C1799.7941,-79.0424 1817.9569,-68.2232 1834.4094,-58.4228\"/>\n<polygon fill=\"#000000\" stroke=\"#000000\" points=\"1836.5533,-61.2197 1843.3534,-53.095 1832.971,-55.2058 1836.5533,-61.2197\"/>\n</g>\n<!-- 25 -->\n<g id=\"node26\" class=\"node\">\n<title>25</title>\n<polygon fill=\"#e58139\" fill-opacity=\"0.145098\" stroke=\"#000000\" points=\"2205.5,-157 2058.5,-157 2058.5,-89 2205.5,-89 2205.5,-157\"/>\n<text text-anchor=\"middle\" x=\"2132\" y=\"-141.8\" font-family=\"Times,serif\" font-size=\"14.00\" fill=\"#000000\">Risk &lt;= 1.5</text>\n<text text-anchor=\"middle\" x=\"2132\" y=\"-126.8\" font-family=\"Times,serif\" font-size=\"14.00\" fill=\"#000000\">samples = 19.1%</text>\n<text text-anchor=\"middle\" x=\"2132\" y=\"-111.8\" font-family=\"Times,serif\" font-size=\"14.00\" fill=\"#000000\">value = [0.539, 0.461]</text>\n<text text-anchor=\"middle\" x=\"2132\" y=\"-96.8\" font-family=\"Times,serif\" font-size=\"14.00\" fill=\"#000000\">class = Fail</text>\n</g>\n<!-- 24&#45;&gt;25 -->\n<g id=\"edge25\" class=\"edge\">\n<title>24&#45;&gt;25</title>\n<path fill=\"none\" stroke=\"#000000\" d=\"M2132,-192.9465C2132,-184.776 2132,-175.9318 2132,-167.3697\"/>\n<polygon fill=\"#000000\" stroke=\"#000000\" points=\"2135.5001,-167.13 2132,-157.13 2128.5001,-167.13 2135.5001,-167.13\"/>\n</g>\n<!-- 28 -->\n<g id=\"node29\" class=\"node\">\n<title>28</title>\n<polygon fill=\"#e58139\" fill-opacity=\"0.643137\" stroke=\"#000000\" points=\"2462.5,-157 2303.5,-157 2303.5,-89 2462.5,-89 2462.5,-157\"/>\n<text text-anchor=\"middle\" x=\"2383\" y=\"-141.8\" font-family=\"Times,serif\" font-size=\"14.00\" fill=\"#000000\">Inspection Type &lt;= 12.5</text>\n<text text-anchor=\"middle\" x=\"2383\" y=\"-126.8\" font-family=\"Times,serif\" font-size=\"14.00\" fill=\"#000000\">samples = 4.3%</text>\n<text text-anchor=\"middle\" x=\"2383\" y=\"-111.8\" font-family=\"Times,serif\" font-size=\"14.00\" fill=\"#000000\">value = [0.737, 0.263]</text>\n<text text-anchor=\"middle\" x=\"2383\" y=\"-96.8\" font-family=\"Times,serif\" font-size=\"14.00\" fill=\"#000000\">class = Fail</text>\n</g>\n<!-- 24&#45;&gt;28 -->\n<g id=\"edge28\" class=\"edge\">\n<title>24&#45;&gt;28</title>\n<path fill=\"none\" stroke=\"#000000\" d=\"M2208.3306,-195.373C2235.2835,-184.2052 2265.8304,-171.5484 2293.7571,-159.9771\"/>\n<polygon fill=\"#000000\" stroke=\"#000000\" points=\"2295.2199,-163.1596 2303.1185,-156.0983 2292.5404,-156.6928 2295.2199,-163.1596\"/>\n</g>\n<!-- 26 -->\n<g id=\"node27\" class=\"node\">\n<title>26</title>\n<polygon fill=\"#e58139\" fill-opacity=\"0.231373\" stroke=\"#000000\" points=\"2126.5,-53 1979.5,-53 1979.5,0 2126.5,0 2126.5,-53\"/>\n<text text-anchor=\"middle\" x=\"2053\" y=\"-37.8\" font-family=\"Times,serif\" font-size=\"14.00\" fill=\"#000000\">samples = 12.6%</text>\n<text text-anchor=\"middle\" x=\"2053\" y=\"-22.8\" font-family=\"Times,serif\" font-size=\"14.00\" fill=\"#000000\">value = [0.565, 0.435]</text>\n<text text-anchor=\"middle\" x=\"2053\" y=\"-7.8\" font-family=\"Times,serif\" font-size=\"14.00\" fill=\"#000000\">class = Fail</text>\n</g>\n<!-- 25&#45;&gt;26 -->\n<g id=\"edge26\" class=\"edge\">\n<title>25&#45;&gt;26</title>\n<path fill=\"none\" stroke=\"#000000\" d=\"M2104.1476,-88.9777C2096.7261,-79.9123 2088.7023,-70.111 2081.2593,-61.0192\"/>\n<polygon fill=\"#000000\" stroke=\"#000000\" points=\"2083.9405,-58.7692 2074.8977,-53.2485 2078.5241,-63.2034 2083.9405,-58.7692\"/>\n</g>\n<!-- 27 -->\n<g id=\"node28\" class=\"node\">\n<title>27</title>\n<polygon fill=\"#399de5\" fill-opacity=\"0.047059\" stroke=\"#000000\" points=\"2291.5,-53 2144.5,-53 2144.5,0 2291.5,0 2291.5,-53\"/>\n<text text-anchor=\"middle\" x=\"2218\" y=\"-37.8\" font-family=\"Times,serif\" font-size=\"14.00\" fill=\"#000000\">samples = 6.5%</text>\n<text text-anchor=\"middle\" x=\"2218\" y=\"-22.8\" font-family=\"Times,serif\" font-size=\"14.00\" fill=\"#000000\">value = [0.488, 0.512]</text>\n<text text-anchor=\"middle\" x=\"2218\" y=\"-7.8\" font-family=\"Times,serif\" font-size=\"14.00\" fill=\"#000000\">class = Pass</text>\n</g>\n<!-- 25&#45;&gt;27 -->\n<g id=\"edge27\" class=\"edge\">\n<title>25&#45;&gt;27</title>\n<path fill=\"none\" stroke=\"#000000\" d=\"M2162.3204,-88.9777C2170.481,-79.8207 2179.3108,-69.9129 2187.4821,-60.744\"/>\n<polygon fill=\"#000000\" stroke=\"#000000\" points=\"2190.1217,-63.0427 2194.162,-53.2485 2184.8958,-58.3854 2190.1217,-63.0427\"/>\n</g>\n<!-- 29 -->\n<g id=\"node30\" class=\"node\">\n<title>29</title>\n<polygon fill=\"#e58139\" fill-opacity=\"0.721569\" stroke=\"#000000\" points=\"2456.5,-53 2309.5,-53 2309.5,0 2456.5,0 2456.5,-53\"/>\n<text text-anchor=\"middle\" x=\"2383\" y=\"-37.8\" font-family=\"Times,serif\" font-size=\"14.00\" fill=\"#000000\">samples = 3.4%</text>\n<text text-anchor=\"middle\" x=\"2383\" y=\"-22.8\" font-family=\"Times,serif\" font-size=\"14.00\" fill=\"#000000\">value = [0.782, 0.218]</text>\n<text text-anchor=\"middle\" x=\"2383\" y=\"-7.8\" font-family=\"Times,serif\" font-size=\"14.00\" fill=\"#000000\">class = Fail</text>\n</g>\n<!-- 28&#45;&gt;29 -->\n<g id=\"edge29\" class=\"edge\">\n<title>28&#45;&gt;29</title>\n<path fill=\"none\" stroke=\"#000000\" d=\"M2383,-88.9777C2383,-80.7364 2383,-71.887 2383,-63.5153\"/>\n<polygon fill=\"#000000\" stroke=\"#000000\" points=\"2386.5001,-63.2484 2383,-53.2485 2379.5001,-63.2485 2386.5001,-63.2484\"/>\n</g>\n<!-- 30 -->\n<g id=\"node31\" class=\"node\">\n<title>30</title>\n<polygon fill=\"#e58139\" fill-opacity=\"0.196078\" stroke=\"#000000\" points=\"2621.5,-53 2474.5,-53 2474.5,0 2621.5,0 2621.5,-53\"/>\n<text text-anchor=\"middle\" x=\"2548\" y=\"-37.8\" font-family=\"Times,serif\" font-size=\"14.00\" fill=\"#000000\">samples = 0.8%</text>\n<text text-anchor=\"middle\" x=\"2548\" y=\"-22.8\" font-family=\"Times,serif\" font-size=\"14.00\" fill=\"#000000\">value = [0.554, 0.446]</text>\n<text text-anchor=\"middle\" x=\"2548\" y=\"-7.8\" font-family=\"Times,serif\" font-size=\"14.00\" fill=\"#000000\">class = Fail</text>\n</g>\n<!-- 28&#45;&gt;30 -->\n<g id=\"edge30\" class=\"edge\">\n<title>28&#45;&gt;30</title>\n<path fill=\"none\" stroke=\"#000000\" d=\"M2441.1728,-88.9777C2458.318,-78.9504 2477.0025,-68.0228 2493.882,-58.1508\"/>\n<polygon fill=\"#000000\" stroke=\"#000000\" points=\"2495.6615,-61.1648 2502.5266,-53.095 2492.1276,-55.1223 2495.6615,-61.1648\"/>\n</g>\n</g>\n</svg>\n"
          },
          "metadata": {
            "tags": []
          },
          "execution_count": 431
        }
      ]
    },
    {
      "cell_type": "markdown",
      "metadata": {
        "id": "FDVuZGureLc0",
        "colab_type": "text"
      },
      "source": [
        "- Inspection type seems to be the leakage feature as well as violation but the risk doesn't show up as previously anticipated. "
      ]
    },
    {
      "cell_type": "markdown",
      "metadata": {
        "id": "4k-JhNQ7eec-",
        "colab_type": "text"
      },
      "source": [
        "###Let's drop the inspection type feature and let's see if the roc_auc score drops. "
      ]
    },
    {
      "cell_type": "code",
      "metadata": {
        "id": "wtIJmVyPej1F",
        "colab_type": "code",
        "colab": {}
      },
      "source": [
        "X_train = X_train.drop(columns = 'Violations')\n",
        "\n",
        "X_test = X_test.drop(columns = 'Violations')"
      ],
      "execution_count": 0,
      "outputs": []
    },
    {
      "cell_type": "code",
      "metadata": {
        "id": "igjCiZYz7YaX",
        "colab_type": "code",
        "colab": {
          "base_uri": "https://localhost:8080/",
          "height": 195
        },
        "outputId": "9047bd3d-ef9b-49f1-aced-f98bb66e1b58"
      },
      "source": [
        "X_train.head()"
      ],
      "execution_count": 433,
      "outputs": [
        {
          "output_type": "execute_result",
          "data": {
            "text/html": [
              "<div>\n",
              "<style scoped>\n",
              "    .dataframe tbody tr th:only-of-type {\n",
              "        vertical-align: middle;\n",
              "    }\n",
              "\n",
              "    .dataframe tbody tr th {\n",
              "        vertical-align: top;\n",
              "    }\n",
              "\n",
              "    .dataframe thead th {\n",
              "        text-align: right;\n",
              "    }\n",
              "</style>\n",
              "<table border=\"1\" class=\"dataframe\">\n",
              "  <thead>\n",
              "    <tr style=\"text-align: right;\">\n",
              "      <th></th>\n",
              "      <th>DBA Name</th>\n",
              "      <th>Facility Type</th>\n",
              "      <th>Risk</th>\n",
              "      <th>Inspection Date</th>\n",
              "      <th>Inspection Type</th>\n",
              "    </tr>\n",
              "  </thead>\n",
              "  <tbody>\n",
              "    <tr>\n",
              "      <th>0</th>\n",
              "      <td>1</td>\n",
              "      <td>1</td>\n",
              "      <td>1</td>\n",
              "      <td>1</td>\n",
              "      <td>1</td>\n",
              "    </tr>\n",
              "    <tr>\n",
              "      <th>1</th>\n",
              "      <td>2</td>\n",
              "      <td>2</td>\n",
              "      <td>2</td>\n",
              "      <td>2</td>\n",
              "      <td>2</td>\n",
              "    </tr>\n",
              "    <tr>\n",
              "      <th>2</th>\n",
              "      <td>3</td>\n",
              "      <td>1</td>\n",
              "      <td>1</td>\n",
              "      <td>3</td>\n",
              "      <td>3</td>\n",
              "    </tr>\n",
              "    <tr>\n",
              "      <th>3</th>\n",
              "      <td>4</td>\n",
              "      <td>1</td>\n",
              "      <td>3</td>\n",
              "      <td>4</td>\n",
              "      <td>1</td>\n",
              "    </tr>\n",
              "    <tr>\n",
              "      <th>4</th>\n",
              "      <td>5</td>\n",
              "      <td>3</td>\n",
              "      <td>1</td>\n",
              "      <td>5</td>\n",
              "      <td>1</td>\n",
              "    </tr>\n",
              "  </tbody>\n",
              "</table>\n",
              "</div>"
            ],
            "text/plain": [
              "   DBA Name  Facility Type  Risk  Inspection Date  Inspection Type\n",
              "0         1              1     1                1                1\n",
              "1         2              2     2                2                2\n",
              "2         3              1     1                3                3\n",
              "3         4              1     3                4                1\n",
              "4         5              3     1                5                1"
            ]
          },
          "metadata": {
            "tags": []
          },
          "execution_count": 433
        }
      ]
    },
    {
      "cell_type": "code",
      "metadata": {
        "id": "4wegymYhepyO",
        "colab_type": "code",
        "colab": {
          "base_uri": "https://localhost:8080/",
          "height": 34
        },
        "outputId": "9cdda877-a599-4305-8f88-da59d9a34f0c"
      },
      "source": [
        "pipeline = make_pipeline(\n",
        "    StandardScaler(),\n",
        "    DecisionTreeClassifier(max_depth = 3)\n",
        ")\n",
        "\n",
        "pipeline.fit(X_train, y_train)\n",
        "y_pred_proba = pipeline.predict_proba(X_train)[:, 1]\n",
        "\n",
        "roc_auc_score = roc_auc_score(y_train, y_pred_proba)\n",
        "\n",
        "print('ROC_AUC Sscore without Violation  is:', roc_auc_score)"
      ],
      "execution_count": 434,
      "outputs": [
        {
          "output_type": "stream",
          "text": [
            "ROC_AUC Sscore without Violation  is: 0.6635065039208986\n"
          ],
          "name": "stdout"
        }
      ]
    },
    {
      "cell_type": "code",
      "metadata": {
        "id": "RGGWs_nTfGAM",
        "colab_type": "code",
        "colab": {
          "base_uri": "https://localhost:8080/",
          "height": 118
        },
        "outputId": "9b3c1da0-f3cb-4034-f8eb-77aaa1837570"
      },
      "source": [
        "tree = DecisionTreeClassifier(max_depth =4)\n",
        "tree.fit(X_train,y_train)"
      ],
      "execution_count": 435,
      "outputs": [
        {
          "output_type": "execute_result",
          "data": {
            "text/plain": [
              "DecisionTreeClassifier(class_weight=None, criterion='gini', max_depth=4,\n",
              "            max_features=None, max_leaf_nodes=None,\n",
              "            min_impurity_decrease=0.0, min_impurity_split=None,\n",
              "            min_samples_leaf=1, min_samples_split=2,\n",
              "            min_weight_fraction_leaf=0.0, presort=False, random_state=None,\n",
              "            splitter='best')"
            ]
          },
          "metadata": {
            "tags": []
          },
          "execution_count": 435
        }
      ]
    },
    {
      "cell_type": "code",
      "metadata": {
        "id": "-ss1nwZjfLGc",
        "colab_type": "code",
        "colab": {
          "base_uri": "https://localhost:8080/",
          "height": 677
        },
        "outputId": "7f36a86f-999b-4899-c187-0d4be1d06e53"
      },
      "source": [
        "dot_data = export_graphviz(tree, out_file=None, feature_names=X_train.columns, \n",
        "                           class_names=['No', 'Yes'], filled=True, impurity=False, proportion=True)\n",
        "\n",
        "graphviz.Source(dot_data)"
      ],
      "execution_count": 436,
      "outputs": [
        {
          "output_type": "execute_result",
          "data": {
            "text/plain": [
              "<graphviz.files.Source at 0x7fb847363438>"
            ],
            "image/svg+xml": "<?xml version=\"1.0\" encoding=\"UTF-8\" standalone=\"no\"?>\n<!DOCTYPE svg PUBLIC \"-//W3C//DTD SVG 1.1//EN\"\n \"http://www.w3.org/Graphics/SVG/1.1/DTD/svg11.dtd\">\n<!-- Generated by graphviz version 2.40.1 (20161225.0304)\n -->\n<!-- Title: Tree Pages: 1 -->\n<svg width=\"2527pt\" height=\"477pt\"\n viewBox=\"0.00 0.00 2527.00 477.00\" xmlns=\"http://www.w3.org/2000/svg\" xmlns:xlink=\"http://www.w3.org/1999/xlink\">\n<g id=\"graph0\" class=\"graph\" transform=\"scale(1 1) rotate(0) translate(4 473)\">\n<title>Tree</title>\n<polygon fill=\"#ffffff\" stroke=\"transparent\" points=\"-4,4 -4,-473 2523,-473 2523,4 -4,4\"/>\n<!-- 0 -->\n<g id=\"node1\" class=\"node\">\n<title>0</title>\n<polygon fill=\"#e58139\" fill-opacity=\"0.650980\" stroke=\"#000000\" points=\"1328.5,-469 1176.5,-469 1176.5,-401 1328.5,-401 1328.5,-469\"/>\n<text text-anchor=\"middle\" x=\"1252.5\" y=\"-453.8\" font-family=\"Times,serif\" font-size=\"14.00\" fill=\"#000000\">Inspection Type &lt;= 4.5</text>\n<text text-anchor=\"middle\" x=\"1252.5\" y=\"-438.8\" font-family=\"Times,serif\" font-size=\"14.00\" fill=\"#000000\">samples = 100.0%</text>\n<text text-anchor=\"middle\" x=\"1252.5\" y=\"-423.8\" font-family=\"Times,serif\" font-size=\"14.00\" fill=\"#000000\">value = [0.741, 0.259]</text>\n<text text-anchor=\"middle\" x=\"1252.5\" y=\"-408.8\" font-family=\"Times,serif\" font-size=\"14.00\" fill=\"#000000\">class = No</text>\n</g>\n<!-- 1 -->\n<g id=\"node2\" class=\"node\">\n<title>1</title>\n<polygon fill=\"#e58139\" fill-opacity=\"0.741176\" stroke=\"#000000\" points=\"1013.5,-365 861.5,-365 861.5,-297 1013.5,-297 1013.5,-365\"/>\n<text text-anchor=\"middle\" x=\"937.5\" y=\"-349.8\" font-family=\"Times,serif\" font-size=\"14.00\" fill=\"#000000\">Inspection Type &lt;= 1.5</text>\n<text text-anchor=\"middle\" x=\"937.5\" y=\"-334.8\" font-family=\"Times,serif\" font-size=\"14.00\" fill=\"#000000\">samples = 68.9%</text>\n<text text-anchor=\"middle\" x=\"937.5\" y=\"-319.8\" font-family=\"Times,serif\" font-size=\"14.00\" fill=\"#000000\">value = [0.795, 0.205]</text>\n<text text-anchor=\"middle\" x=\"937.5\" y=\"-304.8\" font-family=\"Times,serif\" font-size=\"14.00\" fill=\"#000000\">class = No</text>\n</g>\n<!-- 0&#45;&gt;1 -->\n<g id=\"edge1\" class=\"edge\">\n<title>0&#45;&gt;1</title>\n<path fill=\"none\" stroke=\"#000000\" d=\"M1176.2473,-409.8245C1130.0839,-394.5832 1071.097,-375.1082 1023.306,-359.3296\"/>\n<polygon fill=\"#000000\" stroke=\"#000000\" points=\"1024.189,-355.9353 1013.5958,-356.1237 1021.9943,-362.5824 1024.189,-355.9353\"/>\n<text text-anchor=\"middle\" x=\"1024.84\" y=\"-374.7523\" font-family=\"Times,serif\" font-size=\"14.00\" fill=\"#000000\">True</text>\n</g>\n<!-- 16 -->\n<g id=\"node17\" class=\"node\">\n<title>16</title>\n<polygon fill=\"#e58139\" fill-opacity=\"0.396078\" stroke=\"#000000\" points=\"1642.5,-365 1490.5,-365 1490.5,-297 1642.5,-297 1642.5,-365\"/>\n<text text-anchor=\"middle\" x=\"1566.5\" y=\"-349.8\" font-family=\"Times,serif\" font-size=\"14.00\" fill=\"#000000\">Inspection Type &lt;= 6.5</text>\n<text text-anchor=\"middle\" x=\"1566.5\" y=\"-334.8\" font-family=\"Times,serif\" font-size=\"14.00\" fill=\"#000000\">samples = 31.1%</text>\n<text text-anchor=\"middle\" x=\"1566.5\" y=\"-319.8\" font-family=\"Times,serif\" font-size=\"14.00\" fill=\"#000000\">value = [0.624, 0.376]</text>\n<text text-anchor=\"middle\" x=\"1566.5\" y=\"-304.8\" font-family=\"Times,serif\" font-size=\"14.00\" fill=\"#000000\">class = No</text>\n</g>\n<!-- 0&#45;&gt;16 -->\n<g id=\"edge16\" class=\"edge\">\n<title>0&#45;&gt;16</title>\n<path fill=\"none\" stroke=\"#000000\" d=\"M1328.5106,-409.8245C1374.4426,-394.6114 1433.1102,-375.1801 1480.7026,-359.417\"/>\n<polygon fill=\"#000000\" stroke=\"#000000\" points=\"1481.9811,-362.6806 1490.3735,-356.2139 1479.7802,-356.0356 1481.9811,-362.6806\"/>\n<text text-anchor=\"middle\" x=\"1479.1505\" y=\"-374.8531\" font-family=\"Times,serif\" font-size=\"14.00\" fill=\"#000000\">False</text>\n</g>\n<!-- 2 -->\n<g id=\"node3\" class=\"node\">\n<title>2</title>\n<polygon fill=\"#e58139\" fill-opacity=\"0.650980\" stroke=\"#000000\" points=\"556,-261 385,-261 385,-193 556,-193 556,-261\"/>\n<text text-anchor=\"middle\" x=\"470.5\" y=\"-245.8\" font-family=\"Times,serif\" font-size=\"14.00\" fill=\"#000000\">Inspection Date &lt;= 2105.5</text>\n<text text-anchor=\"middle\" x=\"470.5\" y=\"-230.8\" font-family=\"Times,serif\" font-size=\"14.00\" fill=\"#000000\">samples = 46.6%</text>\n<text text-anchor=\"middle\" x=\"470.5\" y=\"-215.8\" font-family=\"Times,serif\" font-size=\"14.00\" fill=\"#000000\">value = [0.741, 0.259]</text>\n<text text-anchor=\"middle\" x=\"470.5\" y=\"-200.8\" font-family=\"Times,serif\" font-size=\"14.00\" fill=\"#000000\">class = No</text>\n</g>\n<!-- 1&#45;&gt;2 -->\n<g id=\"edge2\" class=\"edge\">\n<title>1&#45;&gt;2</title>\n<path fill=\"none\" stroke=\"#000000\" d=\"M861.429,-314.0591C780.7965,-296.1024 653.2825,-267.7053 565.957,-248.2581\"/>\n<polygon fill=\"#000000\" stroke=\"#000000\" points=\"566.5663,-244.8081 556.0446,-246.0506 565.0447,-251.6407 566.5663,-244.8081\"/>\n</g>\n<!-- 9 -->\n<g id=\"node10\" class=\"node\">\n<title>9</title>\n<polygon fill=\"#e58139\" fill-opacity=\"0.898039\" stroke=\"#000000\" points=\"1011,-261 864,-261 864,-193 1011,-193 1011,-261\"/>\n<text text-anchor=\"middle\" x=\"937.5\" y=\"-245.8\" font-family=\"Times,serif\" font-size=\"14.00\" fill=\"#000000\">Facility Type &lt;= 1.5</text>\n<text text-anchor=\"middle\" x=\"937.5\" y=\"-230.8\" font-family=\"Times,serif\" font-size=\"14.00\" fill=\"#000000\">samples = 22.3%</text>\n<text text-anchor=\"middle\" x=\"937.5\" y=\"-215.8\" font-family=\"Times,serif\" font-size=\"14.00\" fill=\"#000000\">value = [0.907, 0.093]</text>\n<text text-anchor=\"middle\" x=\"937.5\" y=\"-200.8\" font-family=\"Times,serif\" font-size=\"14.00\" fill=\"#000000\">class = No</text>\n</g>\n<!-- 1&#45;&gt;9 -->\n<g id=\"edge9\" class=\"edge\">\n<title>1&#45;&gt;9</title>\n<path fill=\"none\" stroke=\"#000000\" d=\"M937.5,-296.9465C937.5,-288.776 937.5,-279.9318 937.5,-271.3697\"/>\n<polygon fill=\"#000000\" stroke=\"#000000\" points=\"941.0001,-271.13 937.5,-261.13 934.0001,-271.13 941.0001,-271.13\"/>\n</g>\n<!-- 3 -->\n<g id=\"node4\" class=\"node\">\n<title>3</title>\n<polygon fill=\"#e58139\" fill-opacity=\"0.654902\" stroke=\"#000000\" points=\"305,-157 158,-157 158,-89 305,-89 305,-157\"/>\n<text text-anchor=\"middle\" x=\"231.5\" y=\"-141.8\" font-family=\"Times,serif\" font-size=\"14.00\" fill=\"#000000\">DBA Name &lt;= 213.0</text>\n<text text-anchor=\"middle\" x=\"231.5\" y=\"-126.8\" font-family=\"Times,serif\" font-size=\"14.00\" fill=\"#000000\">samples = 45.7%</text>\n<text text-anchor=\"middle\" x=\"231.5\" y=\"-111.8\" font-family=\"Times,serif\" font-size=\"14.00\" fill=\"#000000\">value = [0.742, 0.258]</text>\n<text text-anchor=\"middle\" x=\"231.5\" y=\"-96.8\" font-family=\"Times,serif\" font-size=\"14.00\" fill=\"#000000\">class = No</text>\n</g>\n<!-- 2&#45;&gt;3 -->\n<g id=\"edge3\" class=\"edge\">\n<title>2&#45;&gt;3</title>\n<path fill=\"none\" stroke=\"#000000\" d=\"M392.2425,-192.9465C367.2655,-182.0779 339.5486,-170.017 314.2626,-159.0139\"/>\n<polygon fill=\"#000000\" stroke=\"#000000\" points=\"315.6324,-155.7929 305.0663,-155.0121 312.8393,-162.2116 315.6324,-155.7929\"/>\n</g>\n<!-- 6 -->\n<g id=\"node7\" class=\"node\">\n<title>6</title>\n<polygon fill=\"#e58139\" fill-opacity=\"0.474510\" stroke=\"#000000\" points=\"549,-157 392,-157 392,-89 549,-89 549,-157\"/>\n<text text-anchor=\"middle\" x=\"470.5\" y=\"-141.8\" font-family=\"Times,serif\" font-size=\"14.00\" fill=\"#000000\">DBA Name &lt;= 16236.5</text>\n<text text-anchor=\"middle\" x=\"470.5\" y=\"-126.8\" font-family=\"Times,serif\" font-size=\"14.00\" fill=\"#000000\">samples = 0.8%</text>\n<text text-anchor=\"middle\" x=\"470.5\" y=\"-111.8\" font-family=\"Times,serif\" font-size=\"14.00\" fill=\"#000000\">value = [0.655, 0.345]</text>\n<text text-anchor=\"middle\" x=\"470.5\" y=\"-96.8\" font-family=\"Times,serif\" font-size=\"14.00\" fill=\"#000000\">class = No</text>\n</g>\n<!-- 2&#45;&gt;6 -->\n<g id=\"edge6\" class=\"edge\">\n<title>2&#45;&gt;6</title>\n<path fill=\"none\" stroke=\"#000000\" d=\"M470.5,-192.9465C470.5,-184.776 470.5,-175.9318 470.5,-167.3697\"/>\n<polygon fill=\"#000000\" stroke=\"#000000\" points=\"474.0001,-167.13 470.5,-157.13 467.0001,-167.13 474.0001,-167.13\"/>\n</g>\n<!-- 4 -->\n<g id=\"node5\" class=\"node\">\n<title>4</title>\n<polygon fill=\"#e58139\" fill-opacity=\"0.725490\" stroke=\"#000000\" points=\"147,-53 0,-53 0,0 147,0 147,-53\"/>\n<text text-anchor=\"middle\" x=\"73.5\" y=\"-37.8\" font-family=\"Times,serif\" font-size=\"14.00\" fill=\"#000000\">samples = 2.4%</text>\n<text text-anchor=\"middle\" x=\"73.5\" y=\"-22.8\" font-family=\"Times,serif\" font-size=\"14.00\" fill=\"#000000\">value = [0.785, 0.215]</text>\n<text text-anchor=\"middle\" x=\"73.5\" y=\"-7.8\" font-family=\"Times,serif\" font-size=\"14.00\" fill=\"#000000\">class = No</text>\n</g>\n<!-- 3&#45;&gt;4 -->\n<g id=\"edge4\" class=\"edge\">\n<title>3&#45;&gt;4</title>\n<path fill=\"none\" stroke=\"#000000\" d=\"M175.7951,-88.9777C159.528,-79.0424 141.8136,-68.2232 125.7674,-58.4228\"/>\n<polygon fill=\"#000000\" stroke=\"#000000\" points=\"127.4027,-55.3204 117.0442,-53.095 123.754,-61.2943 127.4027,-55.3204\"/>\n</g>\n<!-- 5 -->\n<g id=\"node6\" class=\"node\">\n<title>5</title>\n<polygon fill=\"#e58139\" fill-opacity=\"0.647059\" stroke=\"#000000\" points=\"297.5,-53 165.5,-53 165.5,0 297.5,0 297.5,-53\"/>\n<text text-anchor=\"middle\" x=\"231.5\" y=\"-37.8\" font-family=\"Times,serif\" font-size=\"14.00\" fill=\"#000000\">samples = 43.3%</text>\n<text text-anchor=\"middle\" x=\"231.5\" y=\"-22.8\" font-family=\"Times,serif\" font-size=\"14.00\" fill=\"#000000\">value = [0.74, 0.26]</text>\n<text text-anchor=\"middle\" x=\"231.5\" y=\"-7.8\" font-family=\"Times,serif\" font-size=\"14.00\" fill=\"#000000\">class = No</text>\n</g>\n<!-- 3&#45;&gt;5 -->\n<g id=\"edge5\" class=\"edge\">\n<title>3&#45;&gt;5</title>\n<path fill=\"none\" stroke=\"#000000\" d=\"M231.5,-88.9777C231.5,-80.7364 231.5,-71.887 231.5,-63.5153\"/>\n<polygon fill=\"#000000\" stroke=\"#000000\" points=\"235.0001,-63.2484 231.5,-53.2485 228.0001,-63.2485 235.0001,-63.2484\"/>\n</g>\n<!-- 7 -->\n<g id=\"node8\" class=\"node\">\n<title>7</title>\n<polygon fill=\"#e58139\" fill-opacity=\"0.486275\" stroke=\"#000000\" points=\"463,-53 316,-53 316,0 463,0 463,-53\"/>\n<text text-anchor=\"middle\" x=\"389.5\" y=\"-37.8\" font-family=\"Times,serif\" font-size=\"14.00\" fill=\"#000000\">samples = 0.8%</text>\n<text text-anchor=\"middle\" x=\"389.5\" y=\"-22.8\" font-family=\"Times,serif\" font-size=\"14.00\" fill=\"#000000\">value = [0.661, 0.339]</text>\n<text text-anchor=\"middle\" x=\"389.5\" y=\"-7.8\" font-family=\"Times,serif\" font-size=\"14.00\" fill=\"#000000\">class = No</text>\n</g>\n<!-- 6&#45;&gt;7 -->\n<g id=\"edge7\" class=\"edge\">\n<title>6&#45;&gt;7</title>\n<path fill=\"none\" stroke=\"#000000\" d=\"M441.9424,-88.9777C434.3331,-79.9123 426.1061,-70.111 418.4747,-61.0192\"/>\n<polygon fill=\"#000000\" stroke=\"#000000\" points=\"421.062,-58.6577 411.9521,-53.2485 415.7005,-63.1581 421.062,-58.6577\"/>\n</g>\n<!-- 8 -->\n<g id=\"node9\" class=\"node\">\n<title>8</title>\n<polygon fill=\"#399de5\" stroke=\"#000000\" points=\"598,-53 481,-53 481,0 598,0 598,-53\"/>\n<text text-anchor=\"middle\" x=\"539.5\" y=\"-37.8\" font-family=\"Times,serif\" font-size=\"14.00\" fill=\"#000000\">samples = 0.0%</text>\n<text text-anchor=\"middle\" x=\"539.5\" y=\"-22.8\" font-family=\"Times,serif\" font-size=\"14.00\" fill=\"#000000\">value = [0.0, 1.0]</text>\n<text text-anchor=\"middle\" x=\"539.5\" y=\"-7.8\" font-family=\"Times,serif\" font-size=\"14.00\" fill=\"#000000\">class = Yes</text>\n</g>\n<!-- 6&#45;&gt;8 -->\n<g id=\"edge8\" class=\"edge\">\n<title>6&#45;&gt;8</title>\n<path fill=\"none\" stroke=\"#000000\" d=\"M494.8268,-88.9777C501.1779,-80.0954 508.034,-70.5067 514.4232,-61.5711\"/>\n<polygon fill=\"#000000\" stroke=\"#000000\" points=\"517.4048,-63.4187 520.3741,-53.2485 511.7107,-59.3472 517.4048,-63.4187\"/>\n</g>\n<!-- 10 -->\n<g id=\"node11\" class=\"node\">\n<title>10</title>\n<polygon fill=\"#e58139\" fill-opacity=\"0.917647\" stroke=\"#000000\" points=\"923.5,-157 771.5,-157 771.5,-89 923.5,-89 923.5,-157\"/>\n<text text-anchor=\"middle\" x=\"847.5\" y=\"-141.8\" font-family=\"Times,serif\" font-size=\"14.00\" fill=\"#000000\">Inspection Type &lt;= 3.5</text>\n<text text-anchor=\"middle\" x=\"847.5\" y=\"-126.8\" font-family=\"Times,serif\" font-size=\"14.00\" fill=\"#000000\">samples = 14.6%</text>\n<text text-anchor=\"middle\" x=\"847.5\" y=\"-111.8\" font-family=\"Times,serif\" font-size=\"14.00\" fill=\"#000000\">value = [0.923, 0.077]</text>\n<text text-anchor=\"middle\" x=\"847.5\" y=\"-96.8\" font-family=\"Times,serif\" font-size=\"14.00\" fill=\"#000000\">class = No</text>\n</g>\n<!-- 9&#45;&gt;10 -->\n<g id=\"edge10\" class=\"edge\">\n<title>9&#45;&gt;10</title>\n<path fill=\"none\" stroke=\"#000000\" d=\"M908.0306,-192.9465C900.2607,-183.968 891.7868,-174.1758 883.7064,-164.8385\"/>\n<polygon fill=\"#000000\" stroke=\"#000000\" points=\"886.226,-162.4014 877.0356,-157.13 880.9328,-166.982 886.226,-162.4014\"/>\n</g>\n<!-- 13 -->\n<g id=\"node14\" class=\"node\">\n<title>13</title>\n<polygon fill=\"#e58139\" fill-opacity=\"0.858824\" stroke=\"#000000\" points=\"1113,-157 942,-157 942,-89 1113,-89 1113,-157\"/>\n<text text-anchor=\"middle\" x=\"1027.5\" y=\"-141.8\" font-family=\"Times,serif\" font-size=\"14.00\" fill=\"#000000\">Inspection Date &lt;= 2234.5</text>\n<text text-anchor=\"middle\" x=\"1027.5\" y=\"-126.8\" font-family=\"Times,serif\" font-size=\"14.00\" fill=\"#000000\">samples = 7.8%</text>\n<text text-anchor=\"middle\" x=\"1027.5\" y=\"-111.8\" font-family=\"Times,serif\" font-size=\"14.00\" fill=\"#000000\">value = [0.875, 0.125]</text>\n<text text-anchor=\"middle\" x=\"1027.5\" y=\"-96.8\" font-family=\"Times,serif\" font-size=\"14.00\" fill=\"#000000\">class = No</text>\n</g>\n<!-- 9&#45;&gt;13 -->\n<g id=\"edge13\" class=\"edge\">\n<title>9&#45;&gt;13</title>\n<path fill=\"none\" stroke=\"#000000\" d=\"M966.9694,-192.9465C974.7393,-183.968 983.2132,-174.1758 991.2936,-164.8385\"/>\n<polygon fill=\"#000000\" stroke=\"#000000\" points=\"994.0672,-166.982 997.9644,-157.13 988.774,-162.4014 994.0672,-166.982\"/>\n</g>\n<!-- 11 -->\n<g id=\"node12\" class=\"node\">\n<title>11</title>\n<polygon fill=\"#e58139\" fill-opacity=\"0.925490\" stroke=\"#000000\" points=\"763,-53 616,-53 616,0 763,0 763,-53\"/>\n<text text-anchor=\"middle\" x=\"689.5\" y=\"-37.8\" font-family=\"Times,serif\" font-size=\"14.00\" fill=\"#000000\">samples = 11.4%</text>\n<text text-anchor=\"middle\" x=\"689.5\" y=\"-22.8\" font-family=\"Times,serif\" font-size=\"14.00\" fill=\"#000000\">value = [0.931, 0.069]</text>\n<text text-anchor=\"middle\" x=\"689.5\" y=\"-7.8\" font-family=\"Times,serif\" font-size=\"14.00\" fill=\"#000000\">class = No</text>\n</g>\n<!-- 10&#45;&gt;11 -->\n<g id=\"edge11\" class=\"edge\">\n<title>10&#45;&gt;11</title>\n<path fill=\"none\" stroke=\"#000000\" d=\"M791.7951,-88.9777C775.528,-79.0424 757.8136,-68.2232 741.7674,-58.4228\"/>\n<polygon fill=\"#000000\" stroke=\"#000000\" points=\"743.4027,-55.3204 733.0442,-53.095 739.754,-61.2943 743.4027,-55.3204\"/>\n</g>\n<!-- 12 -->\n<g id=\"node13\" class=\"node\">\n<title>12</title>\n<polygon fill=\"#e58139\" fill-opacity=\"0.882353\" stroke=\"#000000\" points=\"928,-53 781,-53 781,0 928,0 928,-53\"/>\n<text text-anchor=\"middle\" x=\"854.5\" y=\"-37.8\" font-family=\"Times,serif\" font-size=\"14.00\" fill=\"#000000\">samples = 3.2%</text>\n<text text-anchor=\"middle\" x=\"854.5\" y=\"-22.8\" font-family=\"Times,serif\" font-size=\"14.00\" fill=\"#000000\">value = [0.895, 0.105]</text>\n<text text-anchor=\"middle\" x=\"854.5\" y=\"-7.8\" font-family=\"Times,serif\" font-size=\"14.00\" fill=\"#000000\">class = No</text>\n</g>\n<!-- 10&#45;&gt;12 -->\n<g id=\"edge12\" class=\"edge\">\n<title>10&#45;&gt;12</title>\n<path fill=\"none\" stroke=\"#000000\" d=\"M849.9679,-88.9777C850.5724,-80.6449 851.222,-71.6903 851.8352,-63.2364\"/>\n<polygon fill=\"#000000\" stroke=\"#000000\" points=\"855.3269,-63.4755 852.5597,-53.2485 848.3453,-62.969 855.3269,-63.4755\"/>\n</g>\n<!-- 14 -->\n<g id=\"node15\" class=\"node\">\n<title>14</title>\n<polygon fill=\"#e58139\" fill-opacity=\"0.858824\" stroke=\"#000000\" points=\"1093,-53 946,-53 946,0 1093,0 1093,-53\"/>\n<text text-anchor=\"middle\" x=\"1019.5\" y=\"-37.8\" font-family=\"Times,serif\" font-size=\"14.00\" fill=\"#000000\">samples = 7.7%</text>\n<text text-anchor=\"middle\" x=\"1019.5\" y=\"-22.8\" font-family=\"Times,serif\" font-size=\"14.00\" fill=\"#000000\">value = [0.876, 0.124]</text>\n<text text-anchor=\"middle\" x=\"1019.5\" y=\"-7.8\" font-family=\"Times,serif\" font-size=\"14.00\" fill=\"#000000\">class = No</text>\n</g>\n<!-- 13&#45;&gt;14 -->\n<g id=\"edge14\" class=\"edge\">\n<title>13&#45;&gt;14</title>\n<path fill=\"none\" stroke=\"#000000\" d=\"M1024.6795,-88.9777C1023.9887,-80.6449 1023.2463,-71.6903 1022.5455,-63.2364\"/>\n<polygon fill=\"#000000\" stroke=\"#000000\" points=\"1026.0318,-62.9251 1021.7175,-53.2485 1019.0557,-63.5035 1026.0318,-62.9251\"/>\n</g>\n<!-- 15 -->\n<g id=\"node16\" class=\"node\">\n<title>15</title>\n<polygon fill=\"#399de5\" stroke=\"#000000\" points=\"1228,-53 1111,-53 1111,0 1228,0 1228,-53\"/>\n<text text-anchor=\"middle\" x=\"1169.5\" y=\"-37.8\" font-family=\"Times,serif\" font-size=\"14.00\" fill=\"#000000\">samples = 0.0%</text>\n<text text-anchor=\"middle\" x=\"1169.5\" y=\"-22.8\" font-family=\"Times,serif\" font-size=\"14.00\" fill=\"#000000\">value = [0.0, 1.0]</text>\n<text text-anchor=\"middle\" x=\"1169.5\" y=\"-7.8\" font-family=\"Times,serif\" font-size=\"14.00\" fill=\"#000000\">class = Yes</text>\n</g>\n<!-- 13&#45;&gt;15 -->\n<g id=\"edge15\" class=\"edge\">\n<title>13&#45;&gt;15</title>\n<path fill=\"none\" stroke=\"#000000\" d=\"M1077.5639,-88.9777C1091.8469,-79.2713 1107.3713,-68.7213 1121.5263,-59.1018\"/>\n<polygon fill=\"#000000\" stroke=\"#000000\" points=\"1123.8359,-61.764 1130.1395,-53.2485 1119.9014,-55.9744 1123.8359,-61.764\"/>\n</g>\n<!-- 17 -->\n<g id=\"node18\" class=\"node\">\n<title>17</title>\n<polygon fill=\"#e58139\" fill-opacity=\"0.286275\" stroke=\"#000000\" points=\"1640,-261 1493,-261 1493,-193 1640,-193 1640,-261\"/>\n<text text-anchor=\"middle\" x=\"1566.5\" y=\"-245.8\" font-family=\"Times,serif\" font-size=\"14.00\" fill=\"#000000\">Facility Type &lt;= 5.5</text>\n<text text-anchor=\"middle\" x=\"1566.5\" y=\"-230.8\" font-family=\"Times,serif\" font-size=\"14.00\" fill=\"#000000\">samples = 24.6%</text>\n<text text-anchor=\"middle\" x=\"1566.5\" y=\"-215.8\" font-family=\"Times,serif\" font-size=\"14.00\" fill=\"#000000\">value = [0.584, 0.416]</text>\n<text text-anchor=\"middle\" x=\"1566.5\" y=\"-200.8\" font-family=\"Times,serif\" font-size=\"14.00\" fill=\"#000000\">class = No</text>\n</g>\n<!-- 16&#45;&gt;17 -->\n<g id=\"edge17\" class=\"edge\">\n<title>16&#45;&gt;17</title>\n<path fill=\"none\" stroke=\"#000000\" d=\"M1566.5,-296.9465C1566.5,-288.776 1566.5,-279.9318 1566.5,-271.3697\"/>\n<polygon fill=\"#000000\" stroke=\"#000000\" points=\"1570.0001,-271.13 1566.5,-261.13 1563.0001,-271.13 1570.0001,-271.13\"/>\n</g>\n<!-- 24 -->\n<g id=\"node25\" class=\"node\">\n<title>24</title>\n<polygon fill=\"#e58139\" fill-opacity=\"0.705882\" stroke=\"#000000\" points=\"2119.5,-261 1961.5,-261 1961.5,-193 2119.5,-193 2119.5,-261\"/>\n<text text-anchor=\"middle\" x=\"2040.5\" y=\"-245.8\" font-family=\"Times,serif\" font-size=\"14.00\" fill=\"#000000\">Inspection Type &lt;= 11.5</text>\n<text text-anchor=\"middle\" x=\"2040.5\" y=\"-230.8\" font-family=\"Times,serif\" font-size=\"14.00\" fill=\"#000000\">samples = 6.5%</text>\n<text text-anchor=\"middle\" x=\"2040.5\" y=\"-215.8\" font-family=\"Times,serif\" font-size=\"14.00\" fill=\"#000000\">value = [0.773, 0.227]</text>\n<text text-anchor=\"middle\" x=\"2040.5\" y=\"-200.8\" font-family=\"Times,serif\" font-size=\"14.00\" fill=\"#000000\">class = No</text>\n</g>\n<!-- 16&#45;&gt;24 -->\n<g id=\"edge24\" class=\"edge\">\n<title>16&#45;&gt;24</title>\n<path fill=\"none\" stroke=\"#000000\" d=\"M1642.6563,-314.2906C1726.9048,-295.8057 1862.4965,-266.0556 1951.557,-246.5149\"/>\n<polygon fill=\"#000000\" stroke=\"#000000\" points=\"1952.354,-249.9234 1961.3716,-244.3615 1950.8538,-243.086 1952.354,-249.9234\"/>\n</g>\n<!-- 18 -->\n<g id=\"node19\" class=\"node\">\n<title>18</title>\n<polygon fill=\"#e58139\" fill-opacity=\"0.250980\" stroke=\"#000000\" points=\"1558,-157 1411,-157 1411,-89 1558,-89 1558,-157\"/>\n<text text-anchor=\"middle\" x=\"1484.5\" y=\"-141.8\" font-family=\"Times,serif\" font-size=\"14.00\" fill=\"#000000\">Facility Type &lt;= 1.5</text>\n<text text-anchor=\"middle\" x=\"1484.5\" y=\"-126.8\" font-family=\"Times,serif\" font-size=\"14.00\" fill=\"#000000\">samples = 20.1%</text>\n<text text-anchor=\"middle\" x=\"1484.5\" y=\"-111.8\" font-family=\"Times,serif\" font-size=\"14.00\" fill=\"#000000\">value = [0.572, 0.428]</text>\n<text text-anchor=\"middle\" x=\"1484.5\" y=\"-96.8\" font-family=\"Times,serif\" font-size=\"14.00\" fill=\"#000000\">class = No</text>\n</g>\n<!-- 17&#45;&gt;18 -->\n<g id=\"edge18\" class=\"edge\">\n<title>17&#45;&gt;18</title>\n<path fill=\"none\" stroke=\"#000000\" d=\"M1539.6501,-192.9465C1532.6417,-184.0578 1525.0045,-174.3716 1517.709,-165.1188\"/>\n<polygon fill=\"#000000\" stroke=\"#000000\" points=\"1520.3502,-162.8157 1511.4102,-157.13 1514.8533,-167.1498 1520.3502,-162.8157\"/>\n</g>\n<!-- 21 -->\n<g id=\"node22\" class=\"node\">\n<title>21</title>\n<polygon fill=\"#e58139\" fill-opacity=\"0.431373\" stroke=\"#000000\" points=\"1723,-157 1576,-157 1576,-89 1723,-89 1723,-157\"/>\n<text text-anchor=\"middle\" x=\"1649.5\" y=\"-141.8\" font-family=\"Times,serif\" font-size=\"14.00\" fill=\"#000000\">Facility Type &lt;= 12.5</text>\n<text text-anchor=\"middle\" x=\"1649.5\" y=\"-126.8\" font-family=\"Times,serif\" font-size=\"14.00\" fill=\"#000000\">samples = 4.5%</text>\n<text text-anchor=\"middle\" x=\"1649.5\" y=\"-111.8\" font-family=\"Times,serif\" font-size=\"14.00\" fill=\"#000000\">value = [0.638, 0.362]</text>\n<text text-anchor=\"middle\" x=\"1649.5\" y=\"-96.8\" font-family=\"Times,serif\" font-size=\"14.00\" fill=\"#000000\">class = No</text>\n</g>\n<!-- 17&#45;&gt;21 -->\n<g id=\"edge21\" class=\"edge\">\n<title>17&#45;&gt;21</title>\n<path fill=\"none\" stroke=\"#000000\" d=\"M1593.6773,-192.9465C1600.7712,-184.0578 1608.5015,-174.3716 1615.886,-165.1188\"/>\n<polygon fill=\"#000000\" stroke=\"#000000\" points=\"1618.7594,-167.1293 1622.2616,-157.13 1613.2882,-162.7628 1618.7594,-167.1293\"/>\n</g>\n<!-- 19 -->\n<g id=\"node20\" class=\"node\">\n<title>19</title>\n<polygon fill=\"#e58139\" fill-opacity=\"0.294118\" stroke=\"#000000\" points=\"1393,-53 1246,-53 1246,0 1393,0 1393,-53\"/>\n<text text-anchor=\"middle\" x=\"1319.5\" y=\"-37.8\" font-family=\"Times,serif\" font-size=\"14.00\" fill=\"#000000\">samples = 15.5%</text>\n<text text-anchor=\"middle\" x=\"1319.5\" y=\"-22.8\" font-family=\"Times,serif\" font-size=\"14.00\" fill=\"#000000\">value = [0.587, 0.413]</text>\n<text text-anchor=\"middle\" x=\"1319.5\" y=\"-7.8\" font-family=\"Times,serif\" font-size=\"14.00\" fill=\"#000000\">class = No</text>\n</g>\n<!-- 18&#45;&gt;19 -->\n<g id=\"edge19\" class=\"edge\">\n<title>18&#45;&gt;19</title>\n<path fill=\"none\" stroke=\"#000000\" d=\"M1426.3272,-88.9777C1409.182,-78.9504 1390.4975,-68.0228 1373.618,-58.1508\"/>\n<polygon fill=\"#000000\" stroke=\"#000000\" points=\"1375.3724,-55.1223 1364.9734,-53.095 1371.8385,-61.1648 1375.3724,-55.1223\"/>\n</g>\n<!-- 20 -->\n<g id=\"node21\" class=\"node\">\n<title>20</title>\n<polygon fill=\"#e58139\" fill-opacity=\"0.090196\" stroke=\"#000000\" points=\"1558,-53 1411,-53 1411,0 1558,0 1558,-53\"/>\n<text text-anchor=\"middle\" x=\"1484.5\" y=\"-37.8\" font-family=\"Times,serif\" font-size=\"14.00\" fill=\"#000000\">samples = 4.6%</text>\n<text text-anchor=\"middle\" x=\"1484.5\" y=\"-22.8\" font-family=\"Times,serif\" font-size=\"14.00\" fill=\"#000000\">value = [0.523, 0.477]</text>\n<text text-anchor=\"middle\" x=\"1484.5\" y=\"-7.8\" font-family=\"Times,serif\" font-size=\"14.00\" fill=\"#000000\">class = No</text>\n</g>\n<!-- 18&#45;&gt;20 -->\n<g id=\"edge20\" class=\"edge\">\n<title>18&#45;&gt;20</title>\n<path fill=\"none\" stroke=\"#000000\" d=\"M1484.5,-88.9777C1484.5,-80.7364 1484.5,-71.887 1484.5,-63.5153\"/>\n<polygon fill=\"#000000\" stroke=\"#000000\" points=\"1488.0001,-63.2484 1484.5,-53.2485 1481.0001,-63.2485 1488.0001,-63.2484\"/>\n</g>\n<!-- 22 -->\n<g id=\"node23\" class=\"node\">\n<title>22</title>\n<polygon fill=\"#e58139\" fill-opacity=\"0.596078\" stroke=\"#000000\" points=\"1723,-53 1576,-53 1576,0 1723,0 1723,-53\"/>\n<text text-anchor=\"middle\" x=\"1649.5\" y=\"-37.8\" font-family=\"Times,serif\" font-size=\"14.00\" fill=\"#000000\">samples = 2.2%</text>\n<text text-anchor=\"middle\" x=\"1649.5\" y=\"-22.8\" font-family=\"Times,serif\" font-size=\"14.00\" fill=\"#000000\">value = [0.712, 0.288]</text>\n<text text-anchor=\"middle\" x=\"1649.5\" y=\"-7.8\" font-family=\"Times,serif\" font-size=\"14.00\" fill=\"#000000\">class = No</text>\n</g>\n<!-- 21&#45;&gt;22 -->\n<g id=\"edge22\" class=\"edge\">\n<title>21&#45;&gt;22</title>\n<path fill=\"none\" stroke=\"#000000\" d=\"M1649.5,-88.9777C1649.5,-80.7364 1649.5,-71.887 1649.5,-63.5153\"/>\n<polygon fill=\"#000000\" stroke=\"#000000\" points=\"1653.0001,-63.2484 1649.5,-53.2485 1646.0001,-63.2485 1653.0001,-63.2484\"/>\n</g>\n<!-- 23 -->\n<g id=\"node24\" class=\"node\">\n<title>23</title>\n<polygon fill=\"#e58139\" fill-opacity=\"0.235294\" stroke=\"#000000\" points=\"1888,-53 1741,-53 1741,0 1888,0 1888,-53\"/>\n<text text-anchor=\"middle\" x=\"1814.5\" y=\"-37.8\" font-family=\"Times,serif\" font-size=\"14.00\" fill=\"#000000\">samples = 2.3%</text>\n<text text-anchor=\"middle\" x=\"1814.5\" y=\"-22.8\" font-family=\"Times,serif\" font-size=\"14.00\" fill=\"#000000\">value = [0.567, 0.433]</text>\n<text text-anchor=\"middle\" x=\"1814.5\" y=\"-7.8\" font-family=\"Times,serif\" font-size=\"14.00\" fill=\"#000000\">class = No</text>\n</g>\n<!-- 21&#45;&gt;23 -->\n<g id=\"edge23\" class=\"edge\">\n<title>21&#45;&gt;23</title>\n<path fill=\"none\" stroke=\"#000000\" d=\"M1707.6728,-88.9777C1724.818,-78.9504 1743.5025,-68.0228 1760.382,-58.1508\"/>\n<polygon fill=\"#000000\" stroke=\"#000000\" points=\"1762.1615,-61.1648 1769.0266,-53.095 1758.6276,-55.1223 1762.1615,-61.1648\"/>\n</g>\n<!-- 25 -->\n<g id=\"node26\" class=\"node\">\n<title>25</title>\n<polygon fill=\"#e58139\" fill-opacity=\"0.796078\" stroke=\"#000000\" points=\"2114,-157 1967,-157 1967,-89 2114,-89 2114,-157\"/>\n<text text-anchor=\"middle\" x=\"2040.5\" y=\"-141.8\" font-family=\"Times,serif\" font-size=\"14.00\" fill=\"#000000\">Facility Type &lt;= 4.5</text>\n<text text-anchor=\"middle\" x=\"2040.5\" y=\"-126.8\" font-family=\"Times,serif\" font-size=\"14.00\" fill=\"#000000\">samples = 4.9%</text>\n<text text-anchor=\"middle\" x=\"2040.5\" y=\"-111.8\" font-family=\"Times,serif\" font-size=\"14.00\" fill=\"#000000\">value = [0.831, 0.169]</text>\n<text text-anchor=\"middle\" x=\"2040.5\" y=\"-96.8\" font-family=\"Times,serif\" font-size=\"14.00\" fill=\"#000000\">class = No</text>\n</g>\n<!-- 24&#45;&gt;25 -->\n<g id=\"edge25\" class=\"edge\">\n<title>24&#45;&gt;25</title>\n<path fill=\"none\" stroke=\"#000000\" d=\"M2040.5,-192.9465C2040.5,-184.776 2040.5,-175.9318 2040.5,-167.3697\"/>\n<polygon fill=\"#000000\" stroke=\"#000000\" points=\"2044.0001,-167.13 2040.5,-157.13 2037.0001,-167.13 2044.0001,-167.13\"/>\n</g>\n<!-- 28 -->\n<g id=\"node29\" class=\"node\">\n<title>28</title>\n<polygon fill=\"#e58139\" fill-opacity=\"0.325490\" stroke=\"#000000\" points=\"2360,-157 2201,-157 2201,-89 2360,-89 2360,-157\"/>\n<text text-anchor=\"middle\" x=\"2280.5\" y=\"-141.8\" font-family=\"Times,serif\" font-size=\"14.00\" fill=\"#000000\">Inspection Type &lt;= 13.5</text>\n<text text-anchor=\"middle\" x=\"2280.5\" y=\"-126.8\" font-family=\"Times,serif\" font-size=\"14.00\" fill=\"#000000\">samples = 1.6%</text>\n<text text-anchor=\"middle\" x=\"2280.5\" y=\"-111.8\" font-family=\"Times,serif\" font-size=\"14.00\" fill=\"#000000\">value = [0.598, 0.402]</text>\n<text text-anchor=\"middle\" x=\"2280.5\" y=\"-96.8\" font-family=\"Times,serif\" font-size=\"14.00\" fill=\"#000000\">class = No</text>\n</g>\n<!-- 24&#45;&gt;28 -->\n<g id=\"edge28\" class=\"edge\">\n<title>24&#45;&gt;28</title>\n<path fill=\"none\" stroke=\"#000000\" d=\"M2119.085,-192.9465C2142.4982,-182.8008 2168.309,-171.6161 2192.2935,-161.2228\"/>\n<polygon fill=\"#000000\" stroke=\"#000000\" points=\"2193.9546,-164.3176 2201.7385,-157.13 2191.1713,-157.8947 2193.9546,-164.3176\"/>\n</g>\n<!-- 26 -->\n<g id=\"node27\" class=\"node\">\n<title>26</title>\n<polygon fill=\"#e58139\" fill-opacity=\"0.807843\" stroke=\"#000000\" points=\"2038.5,-53 1906.5,-53 1906.5,0 2038.5,0 2038.5,-53\"/>\n<text text-anchor=\"middle\" x=\"1972.5\" y=\"-37.8\" font-family=\"Times,serif\" font-size=\"14.00\" fill=\"#000000\">samples = 4.6%</text>\n<text text-anchor=\"middle\" x=\"1972.5\" y=\"-22.8\" font-family=\"Times,serif\" font-size=\"14.00\" fill=\"#000000\">value = [0.84, 0.16]</text>\n<text text-anchor=\"middle\" x=\"1972.5\" y=\"-7.8\" font-family=\"Times,serif\" font-size=\"14.00\" fill=\"#000000\">class = No</text>\n</g>\n<!-- 25&#45;&gt;26 -->\n<g id=\"edge26\" class=\"edge\">\n<title>25&#45;&gt;26</title>\n<path fill=\"none\" stroke=\"#000000\" d=\"M2016.5257,-88.9777C2010.2667,-80.0954 2003.5099,-70.5067 1997.2133,-61.5711\"/>\n<polygon fill=\"#000000\" stroke=\"#000000\" points=\"1999.9699,-59.4068 1991.3487,-53.2485 1994.2479,-63.4389 1999.9699,-59.4068\"/>\n</g>\n<!-- 27 -->\n<g id=\"node28\" class=\"node\">\n<title>27</title>\n<polygon fill=\"#e58139\" fill-opacity=\"0.529412\" stroke=\"#000000\" points=\"2188.5,-53 2056.5,-53 2056.5,0 2188.5,0 2188.5,-53\"/>\n<text text-anchor=\"middle\" x=\"2122.5\" y=\"-37.8\" font-family=\"Times,serif\" font-size=\"14.00\" fill=\"#000000\">samples = 0.3%</text>\n<text text-anchor=\"middle\" x=\"2122.5\" y=\"-22.8\" font-family=\"Times,serif\" font-size=\"14.00\" fill=\"#000000\">value = [0.68, 0.32]</text>\n<text text-anchor=\"middle\" x=\"2122.5\" y=\"-7.8\" font-family=\"Times,serif\" font-size=\"14.00\" fill=\"#000000\">class = No</text>\n</g>\n<!-- 25&#45;&gt;27 -->\n<g id=\"edge27\" class=\"edge\">\n<title>25&#45;&gt;27</title>\n<path fill=\"none\" stroke=\"#000000\" d=\"M2069.4101,-88.9777C2077.1134,-79.9123 2085.4419,-70.111 2093.1676,-61.0192\"/>\n<polygon fill=\"#000000\" stroke=\"#000000\" points=\"2095.9625,-63.1352 2099.7707,-53.2485 2090.6282,-58.6025 2095.9625,-63.1352\"/>\n</g>\n<!-- 29 -->\n<g id=\"node30\" class=\"node\">\n<title>29</title>\n<polygon fill=\"#399de5\" fill-opacity=\"0.219608\" stroke=\"#000000\" points=\"2354,-53 2207,-53 2207,0 2354,0 2354,-53\"/>\n<text text-anchor=\"middle\" x=\"2280.5\" y=\"-37.8\" font-family=\"Times,serif\" font-size=\"14.00\" fill=\"#000000\">samples = 0.5%</text>\n<text text-anchor=\"middle\" x=\"2280.5\" y=\"-22.8\" font-family=\"Times,serif\" font-size=\"14.00\" fill=\"#000000\">value = [0.438, 0.562]</text>\n<text text-anchor=\"middle\" x=\"2280.5\" y=\"-7.8\" font-family=\"Times,serif\" font-size=\"14.00\" fill=\"#000000\">class = Yes</text>\n</g>\n<!-- 28&#45;&gt;29 -->\n<g id=\"edge29\" class=\"edge\">\n<title>28&#45;&gt;29</title>\n<path fill=\"none\" stroke=\"#000000\" d=\"M2280.5,-88.9777C2280.5,-80.7364 2280.5,-71.887 2280.5,-63.5153\"/>\n<polygon fill=\"#000000\" stroke=\"#000000\" points=\"2284.0001,-63.2484 2280.5,-53.2485 2277.0001,-63.2485 2284.0001,-63.2484\"/>\n</g>\n<!-- 30 -->\n<g id=\"node31\" class=\"node\">\n<title>30</title>\n<polygon fill=\"#e58139\" fill-opacity=\"0.513725\" stroke=\"#000000\" points=\"2519,-53 2372,-53 2372,0 2519,0 2519,-53\"/>\n<text text-anchor=\"middle\" x=\"2445.5\" y=\"-37.8\" font-family=\"Times,serif\" font-size=\"14.00\" fill=\"#000000\">samples = 1.1%</text>\n<text text-anchor=\"middle\" x=\"2445.5\" y=\"-22.8\" font-family=\"Times,serif\" font-size=\"14.00\" fill=\"#000000\">value = [0.673, 0.327]</text>\n<text text-anchor=\"middle\" x=\"2445.5\" y=\"-7.8\" font-family=\"Times,serif\" font-size=\"14.00\" fill=\"#000000\">class = No</text>\n</g>\n<!-- 28&#45;&gt;30 -->\n<g id=\"edge30\" class=\"edge\">\n<title>28&#45;&gt;30</title>\n<path fill=\"none\" stroke=\"#000000\" d=\"M2338.6728,-88.9777C2355.818,-78.9504 2374.5025,-68.0228 2391.382,-58.1508\"/>\n<polygon fill=\"#000000\" stroke=\"#000000\" points=\"2393.1615,-61.1648 2400.0266,-53.095 2389.6276,-55.1223 2393.1615,-61.1648\"/>\n</g>\n</g>\n</svg>\n"
          },
          "metadata": {
            "tags": []
          },
          "execution_count": 436
        }
      ]
    },
    {
      "cell_type": "markdown",
      "metadata": {
        "id": "3K663CGGe5FE",
        "colab_type": "text"
      },
      "source": [
        "###Dropping the Violations feature leads to a roc_auc score of 0.6635 which is slightly lower than the previous roc_auc score where we had all the features."
      ]
    },
    {
      "cell_type": "markdown",
      "metadata": {
        "id": "ouHcfXb7UY6U",
        "colab_type": "text"
      },
      "source": [
        "### Part 2: Modeling\n",
        "\n",
        "**Fit a model** with the train set. (You may use scikit-learn, xgboost, or any other library.) **Use cross-validation** to **do hyperparameter optimization**, and **estimate your ROC AUC** validation score.\n",
        "\n",
        "Use your model to **predict probabilities** for the test set. **Get an ROC AUC test score >= 0.60.**\n",
        "\n",
        "_To earn a score of 3 for this part, get an ROC AUC test score >= 0.70 (without using the feature with leakage)._\n",
        "\n"
      ]
    },
    {
      "cell_type": "markdown",
      "metadata": {
        "id": "_tjbBo4Mx3v-",
        "colab_type": "text"
      },
      "source": [
        "##Without the Risk feature"
      ]
    },
    {
      "cell_type": "code",
      "metadata": {
        "id": "8vAR_4wp7L0D",
        "colab_type": "code",
        "colab": {}
      },
      "source": [
        "import numpy as np"
      ],
      "execution_count": 0,
      "outputs": []
    },
    {
      "cell_type": "code",
      "metadata": {
        "id": "oRbHaItYnRl-",
        "colab_type": "code",
        "colab": {}
      },
      "source": [
        "train['Risk'] = train['Risk'].replace({'Risk 1 (High)':3, 'Risk 3 (Low)':1, \n",
        "                                   'Risk 2 (Medium)':2, np.nan:2})\n",
        " \n",
        "test['Risk'] = test['Risk'].replace({'Risk 1 (High)':3, 'Risk 3 (Low)':1, \n",
        "                                   'Risk 2 (Medium)':2, np.nan:2})\n",
        "\n",
        "features = ['Facility Type', 'Risk', 'Inspection Date', 'Inspection Type', 'Zip']\n",
        "target = 'Fail'\n",
        "\n",
        "X_train = train[features]\n",
        "y_train = train[target]\n",
        "\n",
        "X_test = test[features]\n",
        "\n",
        "y_test = test[target]"
      ],
      "execution_count": 0,
      "outputs": []
    },
    {
      "cell_type": "code",
      "metadata": {
        "id": "NNOzNLGLna_b",
        "colab_type": "code",
        "colab": {}
      },
      "source": [
        "encoder = ce.OrdinalEncoder()\n",
        "X_train = encoder.fit_transform(X_train[features])"
      ],
      "execution_count": 0,
      "outputs": []
    },
    {
      "cell_type": "code",
      "metadata": {
        "id": "OsYOzQYmUdyO",
        "colab_type": "code",
        "colab": {
          "base_uri": "https://localhost:8080/",
          "height": 339
        },
        "outputId": "892d36b0-5c15-4320-afc3-455424e5bfde"
      },
      "source": [
        "param_distributions = {\n",
        "    'n_estimators': [200], \n",
        "    'max_depth': [6, 7, 8]\n",
        "}\n",
        "\n",
        "# n_iter & cv parameters are low here so the example runs faster\n",
        "search = RandomizedSearchCV(\n",
        "    estimator=XGBClassifier(n_jobs=-1, random_state=42), #estimator = pipeline makes us put piepline in\n",
        "    param_distributions=param_distributions, \n",
        "    n_iter=3, \n",
        "    scoring='roc_auc', \n",
        "    n_jobs=-1, \n",
        "    cv=3, \n",
        "    verbose=10, \n",
        "    return_train_score=True, \n",
        "    random_state=42\n",
        ")\n",
        "\n",
        "search.fit(X_train, y_train)"
      ],
      "execution_count": 679,
      "outputs": [
        {
          "output_type": "stream",
          "text": [
            "Fitting 3 folds for each of 3 candidates, totalling 9 fits\n"
          ],
          "name": "stdout"
        },
        {
          "output_type": "stream",
          "text": [
            "[Parallel(n_jobs=-1)]: Using backend LokyBackend with 2 concurrent workers.\n",
            "[Parallel(n_jobs=-1)]: Done   1 tasks      | elapsed:    7.4s\n",
            "[Parallel(n_jobs=-1)]: Done   4 tasks      | elapsed:   17.0s\n",
            "[Parallel(n_jobs=-1)]: Done   7 out of   9 | elapsed:   35.7s remaining:   10.2s\n",
            "[Parallel(n_jobs=-1)]: Done   9 out of   9 | elapsed:   43.5s remaining:    0.0s\n",
            "[Parallel(n_jobs=-1)]: Done   9 out of   9 | elapsed:   43.5s finished\n"
          ],
          "name": "stderr"
        },
        {
          "output_type": "execute_result",
          "data": {
            "text/plain": [
              "RandomizedSearchCV(cv=3, error_score='raise-deprecating',\n",
              "          estimator=XGBClassifier(base_score=0.5, booster='gbtree', colsample_bylevel=1,\n",
              "       colsample_bytree=1, gamma=0, learning_rate=0.1, max_delta_step=0,\n",
              "       max_depth=3, min_child_weight=1, missing=None, n_estimators=100,\n",
              "       n_jobs=-1, nthread=None, objective='binary:logistic',\n",
              "       random_state=42, reg_alpha=0, reg_lambda=1, scale_pos_weight=1,\n",
              "       seed=None, silent=True, subsample=1),\n",
              "          fit_params=None, iid='warn', n_iter=3, n_jobs=-1,\n",
              "          param_distributions={'n_estimators': [200], 'max_depth': [6, 7, 8]},\n",
              "          pre_dispatch='2*n_jobs', random_state=42, refit=True,\n",
              "          return_train_score=True, scoring='roc_auc', verbose=10)"
            ]
          },
          "metadata": {
            "tags": []
          },
          "execution_count": 679
        }
      ]
    },
    {
      "cell_type": "code",
      "metadata": {
        "id": "awrlaNgBUdu8",
        "colab_type": "code",
        "colab": {
          "base_uri": "https://localhost:8080/",
          "height": 34
        },
        "outputId": "6189e84e-77c9-4de8-95bb-6bbef1442421"
      },
      "source": [
        "print('Cross-Validation ROC_AUC score:', search.best_score_)"
      ],
      "execution_count": 680,
      "outputs": [
        {
          "output_type": "stream",
          "text": [
            "Cross-Validation ROC_AUC score: 0.6975181590493458\n"
          ],
          "name": "stdout"
        }
      ]
    },
    {
      "cell_type": "code",
      "metadata": {
        "id": "NcGmnHDM5tOr",
        "colab_type": "code",
        "colab": {
          "base_uri": "https://localhost:8080/",
          "height": 307
        },
        "outputId": "07366d29-37bc-48be-bdd5-5d3db2fae0c9"
      },
      "source": [
        "results = pd.DataFrame(search.cv_results_)\n",
        "results.sort_values(by='rank_test_score').head()"
      ],
      "execution_count": 681,
      "outputs": [
        {
          "output_type": "execute_result",
          "data": {
            "text/html": [
              "<div>\n",
              "<style scoped>\n",
              "    .dataframe tbody tr th:only-of-type {\n",
              "        vertical-align: middle;\n",
              "    }\n",
              "\n",
              "    .dataframe tbody tr th {\n",
              "        vertical-align: top;\n",
              "    }\n",
              "\n",
              "    .dataframe thead th {\n",
              "        text-align: right;\n",
              "    }\n",
              "</style>\n",
              "<table border=\"1\" class=\"dataframe\">\n",
              "  <thead>\n",
              "    <tr style=\"text-align: right;\">\n",
              "      <th></th>\n",
              "      <th>mean_fit_time</th>\n",
              "      <th>std_fit_time</th>\n",
              "      <th>mean_score_time</th>\n",
              "      <th>std_score_time</th>\n",
              "      <th>param_n_estimators</th>\n",
              "      <th>param_max_depth</th>\n",
              "      <th>params</th>\n",
              "      <th>split0_test_score</th>\n",
              "      <th>split1_test_score</th>\n",
              "      <th>split2_test_score</th>\n",
              "      <th>mean_test_score</th>\n",
              "      <th>std_test_score</th>\n",
              "      <th>rank_test_score</th>\n",
              "      <th>split0_train_score</th>\n",
              "      <th>split1_train_score</th>\n",
              "      <th>split2_train_score</th>\n",
              "      <th>mean_train_score</th>\n",
              "      <th>std_train_score</th>\n",
              "    </tr>\n",
              "  </thead>\n",
              "  <tbody>\n",
              "    <tr>\n",
              "      <th>0</th>\n",
              "      <td>6.837951</td>\n",
              "      <td>0.327628</td>\n",
              "      <td>0.273008</td>\n",
              "      <td>0.006339</td>\n",
              "      <td>200</td>\n",
              "      <td>6</td>\n",
              "      <td>{'n_estimators': 200, 'max_depth': 6}</td>\n",
              "      <td>0.695936</td>\n",
              "      <td>0.695080</td>\n",
              "      <td>0.701538</td>\n",
              "      <td>0.697518</td>\n",
              "      <td>0.002864</td>\n",
              "      <td>1</td>\n",
              "      <td>0.786010</td>\n",
              "      <td>0.783561</td>\n",
              "      <td>0.781910</td>\n",
              "      <td>0.783827</td>\n",
              "      <td>0.001684</td>\n",
              "    </tr>\n",
              "    <tr>\n",
              "      <th>1</th>\n",
              "      <td>8.471942</td>\n",
              "      <td>0.052613</td>\n",
              "      <td>0.319769</td>\n",
              "      <td>0.009951</td>\n",
              "      <td>200</td>\n",
              "      <td>7</td>\n",
              "      <td>{'n_estimators': 200, 'max_depth': 7}</td>\n",
              "      <td>0.692202</td>\n",
              "      <td>0.691885</td>\n",
              "      <td>0.699119</td>\n",
              "      <td>0.694402</td>\n",
              "      <td>0.003338</td>\n",
              "      <td>2</td>\n",
              "      <td>0.816603</td>\n",
              "      <td>0.813781</td>\n",
              "      <td>0.811810</td>\n",
              "      <td>0.814065</td>\n",
              "      <td>0.001967</td>\n",
              "    </tr>\n",
              "    <tr>\n",
              "      <th>2</th>\n",
              "      <td>8.681995</td>\n",
              "      <td>1.253040</td>\n",
              "      <td>0.342087</td>\n",
              "      <td>0.029859</td>\n",
              "      <td>200</td>\n",
              "      <td>8</td>\n",
              "      <td>{'n_estimators': 200, 'max_depth': 8}</td>\n",
              "      <td>0.689746</td>\n",
              "      <td>0.689311</td>\n",
              "      <td>0.694830</td>\n",
              "      <td>0.691296</td>\n",
              "      <td>0.002506</td>\n",
              "      <td>3</td>\n",
              "      <td>0.848584</td>\n",
              "      <td>0.841343</td>\n",
              "      <td>0.842125</td>\n",
              "      <td>0.844017</td>\n",
              "      <td>0.003245</td>\n",
              "    </tr>\n",
              "  </tbody>\n",
              "</table>\n",
              "</div>"
            ],
            "text/plain": [
              "   mean_fit_time  std_fit_time  ...  mean_train_score  std_train_score\n",
              "0       6.837951      0.327628  ...          0.783827         0.001684\n",
              "1       8.471942      0.052613  ...          0.814065         0.001967\n",
              "2       8.681995      1.253040  ...          0.844017         0.003245\n",
              "\n",
              "[3 rows x 18 columns]"
            ]
          },
          "metadata": {
            "tags": []
          },
          "execution_count": 681
        }
      ]
    },
    {
      "cell_type": "code",
      "metadata": {
        "id": "MjsLH8T05r74",
        "colab_type": "code",
        "colab": {
          "base_uri": "https://localhost:8080/",
          "height": 34
        },
        "outputId": "0ea1ced0-36a9-4023-e650-d0e73996b206"
      },
      "source": [
        "best = search.best_estimator_\n",
        "y_pred = best.predict_proba(X_test)[:,1]\n",
        "\n",
        "print('Test ROC AUC:', roc_auc_score(y_test, y_pred))"
      ],
      "execution_count": 684,
      "outputs": [
        {
          "output_type": "stream",
          "text": [
            "Test ROC AUC: 0.5956379386689621\n"
          ],
          "name": "stdout"
        }
      ]
    },
    {
      "cell_type": "markdown",
      "metadata": {
        "id": "8t65NfpLiQQ6",
        "colab_type": "text"
      },
      "source": [
        "Seems too easy. I dropped the Risk feature and it gave me a high roc_auc score as well as a high test score."
      ]
    },
    {
      "cell_type": "markdown",
      "metadata": {
        "id": "IF0a-mbBi02H",
        "colab_type": "text"
      },
      "source": [
        "The test score is almost at 0.60, let's see which were most important."
      ]
    },
    {
      "cell_type": "code",
      "metadata": {
        "id": "jqiTb_HZjSgX",
        "colab_type": "code",
        "colab": {}
      },
      "source": [
        "import matplotlib.pyplot as plt"
      ],
      "execution_count": 0,
      "outputs": []
    },
    {
      "cell_type": "code",
      "metadata": {
        "id": "Y_ZVu4ZRifqu",
        "colab_type": "code",
        "colab": {
          "base_uri": "https://localhost:8080/",
          "height": 323
        },
        "outputId": "e40769cc-cd15-4473-d187-b47e4a910079"
      },
      "source": [
        "best.feature_importances_\n",
        "\n",
        "figsize = (5,5)\n",
        "importances = pd.Series(best.feature_importances_, X_train.columns)\n",
        "top_n = importances.sort_values()\n",
        "plt.figure(figsize = figsize)\n",
        "top_n.plot.barh(color = 'coral');"
      ],
      "execution_count": 686,
      "outputs": [
        {
          "output_type": "display_data",
          "data": {
            "image/png": "[encoded data removed]",
            "text/plain": [
              "<Figure size 360x360 with 1 Axes>"
            ]
          },
          "metadata": {
            "tags": []
          }
        }
      ]
    },
    {
      "cell_type": "markdown",
      "metadata": {
        "id": "sBrghvvqx9jV",
        "colab_type": "text"
      },
      "source": [
        "##Without the Violations feature"
      ]
    },
    {
      "cell_type": "markdown",
      "metadata": {
        "id": "Kuezkq79nuhS",
        "colab_type": "text"
      },
      "source": [
        "###Let's try dropping the violations feature. It makes sense that violations would be leakage feature as if they're coming in based on a complaint, there is a higher chance that the facility would fail the inspection.###"
      ]
    },
    {
      "cell_type": "code",
      "metadata": {
        "id": "AcCmlHcL035X",
        "colab_type": "code",
        "colab": {
          "base_uri": "https://localhost:8080/",
          "height": 195
        },
        "outputId": "70720543-6bad-4a2c-f008-58340f940a4d"
      },
      "source": [
        "X_train.head()"
      ],
      "execution_count": 655,
      "outputs": [
        {
          "output_type": "execute_result",
          "data": {
            "text/html": [
              "<div>\n",
              "<style scoped>\n",
              "    .dataframe tbody tr th:only-of-type {\n",
              "        vertical-align: middle;\n",
              "    }\n",
              "\n",
              "    .dataframe tbody tr th {\n",
              "        vertical-align: top;\n",
              "    }\n",
              "\n",
              "    .dataframe thead th {\n",
              "        text-align: right;\n",
              "    }\n",
              "</style>\n",
              "<table border=\"1\" class=\"dataframe\">\n",
              "  <thead>\n",
              "    <tr style=\"text-align: right;\">\n",
              "      <th></th>\n",
              "      <th>Facility Type</th>\n",
              "      <th>City</th>\n",
              "      <th>Risk</th>\n",
              "      <th>Inspection Type</th>\n",
              "    </tr>\n",
              "  </thead>\n",
              "  <tbody>\n",
              "    <tr>\n",
              "      <th>0</th>\n",
              "      <td>1</td>\n",
              "      <td>1</td>\n",
              "      <td>1</td>\n",
              "      <td>1</td>\n",
              "    </tr>\n",
              "    <tr>\n",
              "      <th>1</th>\n",
              "      <td>2</td>\n",
              "      <td>1</td>\n",
              "      <td>2</td>\n",
              "      <td>2</td>\n",
              "    </tr>\n",
              "    <tr>\n",
              "      <th>2</th>\n",
              "      <td>1</td>\n",
              "      <td>1</td>\n",
              "      <td>1</td>\n",
              "      <td>3</td>\n",
              "    </tr>\n",
              "    <tr>\n",
              "      <th>3</th>\n",
              "      <td>1</td>\n",
              "      <td>1</td>\n",
              "      <td>3</td>\n",
              "      <td>1</td>\n",
              "    </tr>\n",
              "    <tr>\n",
              "      <th>4</th>\n",
              "      <td>3</td>\n",
              "      <td>1</td>\n",
              "      <td>1</td>\n",
              "      <td>1</td>\n",
              "    </tr>\n",
              "  </tbody>\n",
              "</table>\n",
              "</div>"
            ],
            "text/plain": [
              "   Facility Type  City  Risk  Inspection Type\n",
              "0              1     1     1                1\n",
              "1              2     1     2                2\n",
              "2              1     1     1                3\n",
              "3              1     1     3                1\n",
              "4              3     1     1                1"
            ]
          },
          "metadata": {
            "tags": []
          },
          "execution_count": 655
        }
      ]
    },
    {
      "cell_type": "code",
      "metadata": {
        "id": "qGYMMg8voBva",
        "colab_type": "code",
        "colab": {}
      },
      "source": [
        "features = ['Facility Type', 'City', 'Risk', 'Inspection Type']\n",
        "target = 'Fail'\n",
        "\n",
        "X_train = train[features]\n",
        "y_train = train[target]\n",
        "\n",
        "X_test = test[features]\n",
        "y_test = test[target]\n",
        "\n",
        "encoder = ce.OrdinalEncoder()\n",
        "X_train = encoder.fit_transform(X_train[features])\n"
      ],
      "execution_count": 0,
      "outputs": []
    },
    {
      "cell_type": "code",
      "metadata": {
        "id": "L6hIDDbloJY0",
        "colab_type": "code",
        "colab": {}
      },
      "source": [
        "encoder = ce.OrdinalEncoder()\n",
        "X_test = encoder.fit_transform(X_test[features])"
      ],
      "execution_count": 0,
      "outputs": []
    },
    {
      "cell_type": "code",
      "metadata": {
        "id": "9ouq7henoJVn",
        "colab_type": "code",
        "colab": {
          "base_uri": "https://localhost:8080/",
          "height": 356
        },
        "outputId": "89e48644-c8d6-4219-f0f1-3ce5fe2199c7"
      },
      "source": [
        "param_distributions = {\n",
        "    'n_estimators': [200], \n",
        "    'max_depth': [6,7]\n",
        "}\n",
        "\n",
        "# n_iter & cv parameters are low here so the example runs faster\n",
        "search = RandomizedSearchCV(\n",
        "    estimator=XGBClassifier(n_jobs=-1, random_state=42), #estimator = pipeline makes us put piepline in\n",
        "    param_distributions=param_distributions, \n",
        "    n_iter=4, \n",
        "    scoring='roc_auc', \n",
        "    n_jobs=-1, \n",
        "    cv=3, \n",
        "    verbose=10, \n",
        "    return_train_score=True, \n",
        "    random_state=42\n",
        ")\n",
        "\n",
        "search.fit(X_train.values, y_train.values)"
      ],
      "execution_count": 689,
      "outputs": [
        {
          "output_type": "stream",
          "text": [
            "/usr/local/lib/python3.6/dist-packages/sklearn/model_selection/_search.py:271: UserWarning: The total space of parameters 2 is smaller than n_iter=4. Running 2 iterations. For exhaustive searches, use GridSearchCV.\n",
            "  % (grid_size, self.n_iter, grid_size), UserWarning)\n",
            "[Parallel(n_jobs=-1)]: Using backend LokyBackend with 2 concurrent workers.\n"
          ],
          "name": "stderr"
        },
        {
          "output_type": "stream",
          "text": [
            "Fitting 3 folds for each of 2 candidates, totalling 6 fits\n"
          ],
          "name": "stdout"
        },
        {
          "output_type": "stream",
          "text": [
            "[Parallel(n_jobs=-1)]: Done   1 tasks      | elapsed:    4.7s\n",
            "[Parallel(n_jobs=-1)]: Done   4 out of   6 | elapsed:   11.0s remaining:    5.5s\n",
            "[Parallel(n_jobs=-1)]: Done   6 out of   6 | elapsed:   17.3s remaining:    0.0s\n",
            "[Parallel(n_jobs=-1)]: Done   6 out of   6 | elapsed:   17.3s finished\n"
          ],
          "name": "stderr"
        },
        {
          "output_type": "execute_result",
          "data": {
            "text/plain": [
              "RandomizedSearchCV(cv=3, error_score='raise-deprecating',\n",
              "          estimator=XGBClassifier(base_score=0.5, booster='gbtree', colsample_bylevel=1,\n",
              "       colsample_bytree=1, gamma=0, learning_rate=0.1, max_delta_step=0,\n",
              "       max_depth=3, min_child_weight=1, missing=None, n_estimators=100,\n",
              "       n_jobs=-1, nthread=None, objective='binary:logistic',\n",
              "       random_state=42, reg_alpha=0, reg_lambda=1, scale_pos_weight=1,\n",
              "       seed=None, silent=True, subsample=1),\n",
              "          fit_params=None, iid='warn', n_iter=4, n_jobs=-1,\n",
              "          param_distributions={'n_estimators': [200], 'max_depth': [6, 7]},\n",
              "          pre_dispatch='2*n_jobs', random_state=42, refit=True,\n",
              "          return_train_score=True, scoring='roc_auc', verbose=10)"
            ]
          },
          "metadata": {
            "tags": []
          },
          "execution_count": 689
        }
      ]
    },
    {
      "cell_type": "markdown",
      "metadata": {
        "id": "kCRg_FLQyBZu",
        "colab_type": "text"
      },
      "source": [
        "##Cross-validation scores with and without Inspection Type"
      ]
    },
    {
      "cell_type": "markdown",
      "metadata": {
        "id": "mgqIF_DMyF-4",
        "colab_type": "text"
      },
      "source": [
        "##Cross Validation socre with and without Risk "
      ]
    },
    {
      "cell_type": "code",
      "metadata": {
        "id": "XtaE-Syiwe8s",
        "colab_type": "code",
        "colab": {
          "base_uri": "https://localhost:8080/",
          "height": 67
        },
        "outputId": "027f479c-a4fb-4b99-b4f8-e62e2898b4ab"
      },
      "source": [
        "from sklearn.model_selection import cross_val_score\n",
        "\n",
        "X_train_Risk = X_train.drop(columns='Risk')\n",
        "new_model = XGBClassifier(max_depth=2, n_estimators=200, n_jobs=-1, random_state=42)\n",
        "\n",
        "score_with = cross_val_score(new_model, X_train, y_train, cv=2, scoring='roc_auc').mean()\n",
        "print('Cross-Validation ROC AUC with Risk:', score_with)\n",
        "\n",
        "#use cross_val_score with XGBClassifier\n",
        "\n",
        "score_without = cross_val_score(new_model, X_train_Risk, y_train, cv=2, scoring='roc_auc').mean()\n",
        "print('Cross-Validation ROC AUC without Risk:', score_without)\n",
        "\n",
        "print('Drop-Column Importance:', score_with - score_without)"
      ],
      "execution_count": 502,
      "outputs": [
        {
          "output_type": "stream",
          "text": [
            "Cross-Validation ROC AUC with Risk: 0.671420469126941\n",
            "Cross-Validation ROC AUC without Risk: 0.66746286922413\n",
            "Drop-Column Importance: 0.003957599902810971\n"
          ],
          "name": "stdout"
        }
      ]
    },
    {
      "cell_type": "markdown",
      "metadata": {
        "id": "67AufE--yKJ1",
        "colab_type": "text"
      },
      "source": [
        "#Generating feature\n",
        "\n",
        "- taking in risk feature and making columns based on the risk level"
      ]
    },
    {
      "cell_type": "code",
      "metadata": {
        "id": "r9L4LA1HyhAz",
        "colab_type": "code",
        "colab": {
          "base_uri": "https://localhost:8080/",
          "height": 84
        },
        "outputId": "9bc54ea1-9397-4276-db1a-8ccb58bdae64"
      },
      "source": [
        "train['Risk'].value_counts()"
      ],
      "execution_count": 505,
      "outputs": [
        {
          "output_type": "execute_result",
          "data": {
            "text/plain": [
              "Risk 1 (High)      37731\n",
              "Risk 2 (Medium)    10136\n",
              "Risk 3 (Low)        4037\n",
              "Name: Risk, dtype: int64"
            ]
          },
          "metadata": {
            "tags": []
          },
          "execution_count": 505
        }
      ]
    },
    {
      "cell_type": "code",
      "metadata": {
        "id": "biXNAjOOyPWu",
        "colab_type": "code",
        "colab": {
          "base_uri": "https://localhost:8080/",
          "height": 138
        },
        "outputId": "4d67e2bb-2a48-49a0-8179-b5a1b5df0405"
      },
      "source": [
        " #train['Risk'] = X['Risk'].str.lower()\n",
        "train['High_risk'] = train['Risk'].str.contains('Risk 1 (High)', na=False)\n",
        "train['Low_risk'] = train['Risk'].str.contains('Risk 3 (Low)', na=False)\n",
        "train['Medium Risk']   = train['Risk'].str.contains('Risk 2 (Medium)', na=False)"
      ],
      "execution_count": 506,
      "outputs": [
        {
          "output_type": "stream",
          "text": [
            "/usr/local/lib/python3.6/dist-packages/ipykernel_launcher.py:1: UserWarning: This pattern has match groups. To actually get the groups, use str.extract.\n",
            "  \"\"\"Entry point for launching an IPython kernel.\n",
            "/usr/local/lib/python3.6/dist-packages/ipykernel_launcher.py:2: UserWarning: This pattern has match groups. To actually get the groups, use str.extract.\n",
            "  \n",
            "/usr/local/lib/python3.6/dist-packages/ipykernel_launcher.py:3: UserWarning: This pattern has match groups. To actually get the groups, use str.extract.\n",
            "  This is separate from the ipykernel package so we can avoid doing imports until\n"
          ],
          "name": "stderr"
        }
      ]
    },
    {
      "cell_type": "code",
      "metadata": {
        "id": "8JofFLGSzp_r",
        "colab_type": "code",
        "colab": {
          "base_uri": "https://localhost:8080/",
          "height": 138
        },
        "outputId": "2a739b7f-b5ff-4a0d-e1b1-20b626e3d27a"
      },
      "source": [
        "test['High_risk'] = test['Risk'].str.contains('Risk 1 (High)', na=False)\n",
        "test['Low_risk'] = test['Risk'].str.contains('Risk 3 (Low)', na=False)\n",
        "test['Medium Risk']   = test['Risk'].str.contains('Risk 2 (Medium)', na=False)\n"
      ],
      "execution_count": 507,
      "outputs": [
        {
          "output_type": "stream",
          "text": [
            "/usr/local/lib/python3.6/dist-packages/ipykernel_launcher.py:1: UserWarning: This pattern has match groups. To actually get the groups, use str.extract.\n",
            "  \"\"\"Entry point for launching an IPython kernel.\n",
            "/usr/local/lib/python3.6/dist-packages/ipykernel_launcher.py:2: UserWarning: This pattern has match groups. To actually get the groups, use str.extract.\n",
            "  \n",
            "/usr/local/lib/python3.6/dist-packages/ipykernel_launcher.py:3: UserWarning: This pattern has match groups. To actually get the groups, use str.extract.\n",
            "  This is separate from the ipykernel package so we can avoid doing imports until\n"
          ],
          "name": "stderr"
        }
      ]
    },
    {
      "cell_type": "markdown",
      "metadata": {
        "id": "m8OGjaXUy9fr",
        "colab_type": "text"
      },
      "source": [
        "###Modeling with the new features"
      ]
    },
    {
      "cell_type": "code",
      "metadata": {
        "id": "zvGsPT-vy9He",
        "colab_type": "code",
        "colab": {
          "base_uri": "https://localhost:8080/",
          "height": 322
        },
        "outputId": "cf12a2a6-0f54-4d89-bd4a-b7b81b5b1f13"
      },
      "source": [
        "features = ['Facility Type', 'Risk', 'Inspection Date',\n",
        "           'Inspection Type', 'High_risk', 'Low_risk', 'Medium Risk', 'Zip']\n",
        "target = 'Fail'\n",
        "\n",
        "X_train = train[features]\n",
        "y_train = train[target]\n",
        "\n",
        "X_test = test[features]\n",
        "y_test = test[target]\n",
        "\n",
        "encoder = ce.OrdinalEncoder()\n",
        "X_train = encoder.fit_transform(X_train[features])\n",
        "\n",
        "encoder = ce.OrdinalEncoder()\n",
        "X_test = encoder.fit_transform(X_test[features])\n",
        "\n",
        "param_distributions = {\n",
        "    'n_estimators': randint(50, 300), \n",
        "    'max_depth': randint(2, 5)\n",
        "}\n",
        "\n",
        "# n_iter & cv parameters are low here so the example runs faster\n",
        "search = RandomizedSearchCV(\n",
        "    estimator=XGBClassifier(n_jobs=-1, random_state=42), #estimator = pipeline makes us put piepline in\n",
        "    param_distributions=param_distributions, \n",
        "    n_iter=4, \n",
        "    scoring='roc_auc', \n",
        "    n_jobs=-1, \n",
        "    cv=4, \n",
        "    verbose=10, \n",
        "    return_train_score=True, \n",
        "    random_state=42\n",
        ")\n",
        "\n",
        "search.fit(X_train.values, y_train.values)"
      ],
      "execution_count": 509,
      "outputs": [
        {
          "output_type": "stream",
          "text": [
            "Fitting 4 folds for each of 4 candidates, totalling 16 fits\n"
          ],
          "name": "stdout"
        },
        {
          "output_type": "stream",
          "text": [
            "[Parallel(n_jobs=-1)]: Using backend LokyBackend with 2 concurrent workers.\n",
            "[Parallel(n_jobs=-1)]: Done   1 tasks      | elapsed:    9.9s\n",
            "[Parallel(n_jobs=-1)]: Done   4 tasks      | elapsed:   20.1s\n",
            "[Parallel(n_jobs=-1)]: Done   9 tasks      | elapsed:   26.5s\n",
            "[Parallel(n_jobs=-1)]: Done  16 out of  16 | elapsed:   36.2s finished\n"
          ],
          "name": "stderr"
        },
        {
          "output_type": "execute_result",
          "data": {
            "text/plain": [
              "RandomizedSearchCV(cv=4, error_score='raise-deprecating',\n",
              "          estimator=XGBClassifier(base_score=0.5, booster='gbtree', colsample_bylevel=1,\n",
              "       colsample_bytree=1, gamma=0, learning_rate=0.1, max_delta_step=0,\n",
              "       max_depth=3, min_child_weight=1, missing=None, n_estimators=100,\n",
              "       n_jobs=-1, nthread=None, objective='binary:logistic',\n",
              "       random_state=42, reg_alpha=0, reg_lambda=1, scale_pos_weight=1,\n",
              "       seed=None, silent=True, subsample=1),\n",
              "          fit_params=None, iid='warn', n_iter=4, n_jobs=-1,\n",
              "          param_distributions={'n_estimators': <scipy.stats._distn_infrastructure.rv_frozen object at 0x7fb8480f55c0>, 'max_depth': <scipy.stats._distn_infrastructure.rv_frozen object at 0x7fb84970ad68>},\n",
              "          pre_dispatch='2*n_jobs', random_state=42, refit=True,\n",
              "          return_train_score=True, scoring='roc_auc', verbose=10)"
            ]
          },
          "metadata": {
            "tags": []
          },
          "execution_count": 509
        }
      ]
    },
    {
      "cell_type": "code",
      "metadata": {
        "id": "vjHtQUAEzSpv",
        "colab_type": "code",
        "colab": {
          "base_uri": "https://localhost:8080/",
          "height": 50
        },
        "outputId": "2764ad4f-c60b-400d-ed5a-b76c920edd4e"
      },
      "source": [
        "print('Cross-Validation ROC_AUC score:', search.best_score_)\n",
        "\n",
        "from sklearn.metrics import roc_auc_score\n",
        "best = search.best_estimator_\n",
        "y_pred_proba = best.predict_proba(X_test.values)[:,1]\n",
        "print('Test ROC AUC:', roc_auc_score(y_test, y_pred_proba))"
      ],
      "execution_count": 361,
      "outputs": [
        {
          "output_type": "stream",
          "text": [
            "Cross-Validation ROC_AUC score: 0.6997829647663186\n",
            "Test ROC AUC: 0.5948906824385252\n"
          ],
          "name": "stdout"
        }
      ]
    },
    {
      "cell_type": "markdown",
      "metadata": {
        "id": "lfyNV6rd-NvD",
        "colab_type": "text"
      },
      "source": [
        "Ran out of time to finish this."
      ]
    },
    {
      "cell_type": "markdown",
      "metadata": {
        "id": "zf3_jl-8UdKx",
        "colab_type": "text"
      },
      "source": [
        "### Part 3: Visualization\n",
        "\n",
        "Make one visualization for model interpretation. (You may use any libraries.) Choose one of these types:\n",
        "\n",
        "- Feature Importances\n",
        "- Permutation Importances\n",
        "- Partial Dependence Plot\n",
        "- Shapley Values\n",
        "\n",
        "_To earn a score of 3 for this part, make at least two of these visualization types._\n"
      ]
    },
    {
      "cell_type": "code",
      "metadata": {
        "id": "EpKeEhv9UhZW",
        "colab_type": "code",
        "colab": {
          "base_uri": "https://localhost:8080/",
          "height": 171
        },
        "outputId": "4aaac788-da88-4cb4-db62-22c68a618e71"
      },
      "source": [
        "import eli5\n",
        "from eli5.sklearn import PermutationImportance\n",
        "\n",
        "permuter = PermutationImportance(best, scoring='roc_auc', cv='prefit',\n",
        "                     n_iter=2, random_state=42) \n",
        "#the first argument is you pass in the estimator\n",
        "\n",
        "permuter.fit(X_test.values, y_test)"
      ],
      "execution_count": 631,
      "outputs": [
        {
          "output_type": "execute_result",
          "data": {
            "text/plain": [
              "PermutationImportance(cv='prefit',\n",
              "           estimator=XGBClassifier(base_score=0.5, booster='gbtree', colsample_bylevel=1,\n",
              "       colsample_bytree=1, gamma=0, learning_rate=0.1, max_delta_step=0,\n",
              "       max_depth=2, min_child_weight=1, missing=None, n_estimators=229,\n",
              "       n_jobs=-1, nthread=None, objective='binary:logistic',\n",
              "       random_state=42, reg_alpha=0, reg_lambda=1, scale_pos_weight=1,\n",
              "       seed=None, silent=True, subsample=1),\n",
              "           n_iter=2, random_state=42, refit=True, scoring='roc_auc')"
            ]
          },
          "metadata": {
            "tags": []
          },
          "execution_count": 631
        }
      ]
    },
    {
      "cell_type": "code",
      "metadata": {
        "id": "T4Sxtxv113cF",
        "colab_type": "code",
        "colab": {
          "base_uri": "https://localhost:8080/",
          "height": 118
        },
        "outputId": "43a9fd2a-2b20-4a39-8103-e522ed7642eb"
      },
      "source": [
        "feature_names = X_test.columns.tolist()\n",
        "eli5.show_weights(permuter, top=None, feature_names = feature_names)"
      ],
      "execution_count": 632,
      "outputs": [
        {
          "output_type": "execute_result",
          "data": {
            "text/html": [
              "\n",
              "    <style>\n",
              "    table.eli5-weights tr:hover {\n",
              "        filter: brightness(85%);\n",
              "    }\n",
              "</style>\n",
              "\n",
              "\n",
              "\n",
              "    \n",
              "\n",
              "    \n",
              "\n",
              "    \n",
              "\n",
              "    \n",
              "\n",
              "    \n",
              "\n",
              "    \n",
              "\n",
              "\n",
              "    \n",
              "\n",
              "    \n",
              "\n",
              "    \n",
              "\n",
              "    \n",
              "\n",
              "    \n",
              "\n",
              "    \n",
              "\n",
              "\n",
              "    \n",
              "\n",
              "    \n",
              "\n",
              "    \n",
              "\n",
              "    \n",
              "\n",
              "    \n",
              "        <table class=\"eli5-weights eli5-feature-importances\" style=\"border-collapse: collapse; border: none; margin-top: 0em; table-layout: auto;\">\n",
              "    <thead>\n",
              "    <tr style=\"border: none;\">\n",
              "        <th style=\"padding: 0 1em 0 0.5em; text-align: right; border: none;\">Weight</th>\n",
              "        <th style=\"padding: 0 0.5em 0 0.5em; text-align: left; border: none;\">Feature</th>\n",
              "    </tr>\n",
              "    </thead>\n",
              "    <tbody>\n",
              "    \n",
              "        <tr style=\"background-color: hsl(120, 100.00%, 80.00%); border: none;\">\n",
              "            <td style=\"padding: 0 1em 0 0.5em; text-align: right; border: none;\">\n",
              "                0.0794\n",
              "                \n",
              "                    &plusmn; 0.0191\n",
              "                \n",
              "            </td>\n",
              "            <td style=\"padding: 0 0.5em 0 0.5em; text-align: left; border: none;\">\n",
              "                Inspection Type\n",
              "            </td>\n",
              "        </tr>\n",
              "    \n",
              "        <tr style=\"background-color: hsl(120, 100.00%, 97.33%); border: none;\">\n",
              "            <td style=\"padding: 0 1em 0 0.5em; text-align: right; border: none;\">\n",
              "                0.0045\n",
              "                \n",
              "                    &plusmn; 0.0019\n",
              "                \n",
              "            </td>\n",
              "            <td style=\"padding: 0 0.5em 0 0.5em; text-align: left; border: none;\">\n",
              "                Risk\n",
              "            </td>\n",
              "        </tr>\n",
              "    \n",
              "        <tr style=\"background-color: hsl(120, 100.00%, 98.45%); border: none;\">\n",
              "            <td style=\"padding: 0 1em 0 0.5em; text-align: right; border: none;\">\n",
              "                0.0021\n",
              "                \n",
              "                    &plusmn; 0.0006\n",
              "                \n",
              "            </td>\n",
              "            <td style=\"padding: 0 0.5em 0 0.5em; text-align: left; border: none;\">\n",
              "                Inspection Date\n",
              "            </td>\n",
              "        </tr>\n",
              "    \n",
              "        <tr style=\"background-color: hsl(120, 100.00%, 99.02%); border: none;\">\n",
              "            <td style=\"padding: 0 1em 0 0.5em; text-align: right; border: none;\">\n",
              "                0.0011\n",
              "                \n",
              "                    &plusmn; 0.0065\n",
              "                \n",
              "            </td>\n",
              "            <td style=\"padding: 0 0.5em 0 0.5em; text-align: left; border: none;\">\n",
              "                Facility Type\n",
              "            </td>\n",
              "        </tr>\n",
              "    \n",
              "        <tr style=\"background-color: hsl(120, 100.00%, 99.62%); border: none;\">\n",
              "            <td style=\"padding: 0 1em 0 0.5em; text-align: right; border: none;\">\n",
              "                0.0003\n",
              "                \n",
              "                    &plusmn; 0.0001\n",
              "                \n",
              "            </td>\n",
              "            <td style=\"padding: 0 0.5em 0 0.5em; text-align: left; border: none;\">\n",
              "                City\n",
              "            </td>\n",
              "        </tr>\n",
              "    \n",
              "    \n",
              "    </tbody>\n",
              "</table>\n",
              "    \n",
              "\n",
              "    \n",
              "\n",
              "\n",
              "    \n",
              "\n",
              "    \n",
              "\n",
              "    \n",
              "\n",
              "    \n",
              "\n",
              "    \n",
              "\n",
              "    \n",
              "\n",
              "\n",
              "\n"
            ],
            "text/plain": [
              "<IPython.core.display.HTML object>"
            ]
          },
          "metadata": {
            "tags": []
          },
          "execution_count": 632
        }
      ]
    },
    {
      "cell_type": "markdown",
      "metadata": {
        "id": "Z3F_KkxZUYvc",
        "colab_type": "text"
      },
      "source": [
        "### Part 4: Gradient Descent\n",
        "\n",
        "Answer both of these two questions:\n",
        "\n",
        "- What does Gradient Descent seek to minimize?\n",
        "- What is the \"Learning Rate\" and what is its function?\n",
        "\n",
        "One sentence is sufficient for each.\n",
        "\n",
        "_To earn a score of 3 for this part, go above and beyond. Show depth of understanding and mastery of intuition in your answers._"
      ]
    },
    {
      "cell_type": "markdown",
      "metadata": {
        "id": "uWPRn7ps2e3i",
        "colab_type": "text"
      },
      "source": [
        "Gradient Descent attempts to minimize the output given inputs.  It helps in finding the minimum of a certain function. In Linear Regression, it is used to minimize the squared error cost function.\n",
        "\n",
        "Learning rate is multiple of the gradient. It is also called alpha sometimes, often a small positive value.\n",
        "It is a hyper-paremeter that controls how much we adjust to the change in input i.e. the smaller the value the slower we move downwards and slower do we get to the minimum of any function."
      ]
    },
    {
      "cell_type": "markdown",
      "metadata": {
        "id": "f-c4mkLBgE-n",
        "colab_type": "text"
      },
      "source": [
        "#Ordinal Encoding#\n",
        "\n",
        "- In this case here, the documentation does not identify which one is the best or the worst kind of Inspection. So, here it is using a single column of integers to represent the classes. \n",
        "- However, you can pass in a mapping dictionary like, for example in Risk column, you could pass in High risk is 1, medium-risk is 2, and low-risk is 3. But the preconception here is that there is smoe true order to classes themselves. \n"
      ]
    }
  ]
}