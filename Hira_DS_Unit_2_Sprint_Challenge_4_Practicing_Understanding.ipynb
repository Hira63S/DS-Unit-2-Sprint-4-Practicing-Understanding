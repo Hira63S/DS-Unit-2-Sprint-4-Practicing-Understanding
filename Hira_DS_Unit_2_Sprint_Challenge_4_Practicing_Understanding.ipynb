{
  "nbformat": 4,
  "nbformat_minor": 0,
  "metadata": {
    "colab": {
      "name": "Hira DS_Unit_2_Sprint_Challenge_4_Practicing_Understanding.ipynb",
      "version": "0.3.2",
      "provenance": [],
      "include_colab_link": true
    },
    "language_info": {
      "codemirror_mode": {
        "name": "ipython",
        "version": 3
      },
      "file_extension": ".py",
      "mimetype": "text/x-python",
      "name": "python",
      "nbconvert_exporter": "python",
      "pygments_lexer": "ipython3",
      "version": "3.7.1"
    },
    "kernelspec": {
      "display_name": "Python 3",
      "language": "python",
      "name": "python3"
    }
  },
  "cells": [
    {
      "cell_type": "markdown",
      "metadata": {
        "id": "view-in-github",
        "colab_type": "text"
      },
      "source": [
        "<a href=\"https://colab.research.google.com/github/Hira63S/DS-Unit-2-Sprint-4-Practicing-Understanding/blob/master/Hira_DS_Unit_2_Sprint_Challenge_4_Practicing_Understanding.ipynb\" target=\"_parent\"><img src=\"https://colab.research.google.com/assets/colab-badge.svg\" alt=\"Open In Colab\"/></a>"
      ]
    },
    {
      "cell_type": "markdown",
      "metadata": {
        "id": "xttZXMmbT2Vp",
        "colab_type": "text"
      },
      "source": [
        "_Lambda School Data Science Unit 2_\n",
        " \n",
        " # Sprint Challenge: Practicing & Understanding Predictive Modeling"
      ]
    },
    {
      "cell_type": "markdown",
      "metadata": {
        "id": "4XQJAKTGT2Vt",
        "colab_type": "text"
      },
      "source": [
        "### Chicago Food Inspections\n",
        "\n",
        "For this Sprint Challenge, you'll use a dataset with information from inspections of restaurants and other food establishments in Chicago from January 2010 to March 2019. \n",
        "\n",
        "[See this PDF](https://data.cityofchicago.org/api/assets/BAD5301B-681A-4202-9D25-51B2CAE672FF) for descriptions of the data elements included in this dataset.\n",
        "\n",
        "According to [Chicago Department of Public Health — Food Protection Services](https://www.chicago.gov/city/en/depts/cdph/provdrs/healthy_restaurants/svcs/food-protection-services.html), \"Chicago is home to 16,000 food establishments like restaurants, grocery stores, bakeries, wholesalers, lunchrooms, mobile food vendors and more. Our business is food safety and sanitation with one goal, to prevent the spread of food-borne disease. We do this by inspecting food businesses, responding to complaints and food recalls.\" "
      ]
    },
    {
      "cell_type": "markdown",
      "metadata": {
        "id": "kiwcMTGST2Vv",
        "colab_type": "text"
      },
      "source": [
        "#### Your challenge: Predict whether inspections failed\n",
        "\n",
        "The target is the `Fail` column.\n",
        "\n",
        "- When the food establishment failed the inspection, the target is `1`.\n",
        "- When the establishment passed, the target is `0`."
      ]
    },
    {
      "cell_type": "code",
      "metadata": {
        "id": "ve6b2vnA1ubz",
        "colab_type": "code",
        "colab": {
          "base_uri": "https://localhost:8080/",
          "height": 202
        },
        "outputId": "259a3e40-fb30-4678-a370-0aca02b8ff58"
      },
      "source": [
        "!pip install eli5"
      ],
      "execution_count": 232,
      "outputs": [
        {
          "output_type": "stream",
          "text": [
            "Requirement already satisfied: eli5 in /usr/local/lib/python3.6/dist-packages (0.8.2)\n",
            "Requirement already satisfied: scikit-learn>=0.18 in /usr/local/lib/python3.6/dist-packages (from eli5) (0.20.3)\n",
            "Requirement already satisfied: typing in /usr/local/lib/python3.6/dist-packages (from eli5) (3.6.6)\n",
            "Requirement already satisfied: graphviz in /usr/local/lib/python3.6/dist-packages (from eli5) (0.10.1)\n",
            "Requirement already satisfied: numpy>=1.9.0 in /usr/local/lib/python3.6/dist-packages (from eli5) (1.16.3)\n",
            "Requirement already satisfied: scipy in /usr/local/lib/python3.6/dist-packages (from eli5) (1.2.1)\n",
            "Requirement already satisfied: tabulate>=0.7.7 in /usr/local/lib/python3.6/dist-packages (from eli5) (0.8.3)\n",
            "Requirement already satisfied: attrs>16.0.0 in /usr/local/lib/python3.6/dist-packages (from eli5) (19.1.0)\n",
            "Requirement already satisfied: six in /usr/local/lib/python3.6/dist-packages (from eli5) (1.12.0)\n",
            "Requirement already satisfied: jinja2 in /usr/local/lib/python3.6/dist-packages (from eli5) (2.10.1)\n",
            "Requirement already satisfied: MarkupSafe>=0.23 in /usr/local/lib/python3.6/dist-packages (from jinja2->eli5) (1.1.1)\n"
          ],
          "name": "stdout"
        }
      ]
    },
    {
      "cell_type": "code",
      "metadata": {
        "id": "8SkmjbvNZDLG",
        "colab_type": "code",
        "colab": {
          "base_uri": "https://localhost:8080/",
          "height": 185
        },
        "outputId": "92f44c07-cb3f-40a2-bf2d-f3130acf34e9"
      },
      "source": [
        "!pip install category_encoders"
      ],
      "execution_count": 233,
      "outputs": [
        {
          "output_type": "stream",
          "text": [
            "Requirement already satisfied: category_encoders in /usr/local/lib/python3.6/dist-packages (2.0.0)\n",
            "Requirement already satisfied: numpy>=1.11.3 in /usr/local/lib/python3.6/dist-packages (from category_encoders) (1.16.3)\n",
            "Requirement already satisfied: scipy>=0.19.0 in /usr/local/lib/python3.6/dist-packages (from category_encoders) (1.2.1)\n",
            "Requirement already satisfied: scikit-learn>=0.20.0 in /usr/local/lib/python3.6/dist-packages (from category_encoders) (0.20.3)\n",
            "Requirement already satisfied: patsy>=0.4.1 in /usr/local/lib/python3.6/dist-packages (from category_encoders) (0.5.1)\n",
            "Requirement already satisfied: statsmodels>=0.6.1 in /usr/local/lib/python3.6/dist-packages (from category_encoders) (0.9.0)\n",
            "Requirement already satisfied: pandas>=0.21.1 in /usr/local/lib/python3.6/dist-packages (from category_encoders) (0.24.2)\n",
            "Requirement already satisfied: six in /usr/local/lib/python3.6/dist-packages (from patsy>=0.4.1->category_encoders) (1.12.0)\n",
            "Requirement already satisfied: pytz>=2011k in /usr/local/lib/python3.6/dist-packages (from pandas>=0.21.1->category_encoders) (2018.9)\n",
            "Requirement already satisfied: python-dateutil>=2.5.0 in /usr/local/lib/python3.6/dist-packages (from pandas>=0.21.1->category_encoders) (2.5.3)\n"
          ],
          "name": "stdout"
        }
      ]
    },
    {
      "cell_type": "markdown",
      "metadata": {
        "id": "iUIlzEkXT2Vx",
        "colab_type": "text"
      },
      "source": [
        "#### Run this cell to load the data:"
      ]
    },
    {
      "cell_type": "code",
      "metadata": {
        "id": "AX8R8EuyT2Vz",
        "colab_type": "code",
        "colab": {}
      },
      "source": [
        "import pandas as pd\n",
        "\n",
        "train_url = 'https://drive.google.com/uc?export=download&id=13_tP9JpLcZHSPVpWcua4t2rY44K_s4H5'\n",
        "test_url  = 'https://drive.google.com/uc?export=download&id=1GkDHjsiGrzOXoF_xcYjdzBTSjOIi3g5a'\n",
        "\n",
        "train = pd.read_csv(train_url)\n",
        "test  = pd.read_csv(test_url)\n",
        "\n",
        "assert train.shape == (51916, 17)\n",
        "assert test.shape  == (17306, 17)"
      ],
      "execution_count": 0,
      "outputs": []
    },
    {
      "cell_type": "code",
      "metadata": {
        "id": "sM5Kp19GUmZ6",
        "colab_type": "code",
        "colab": {
          "base_uri": "https://localhost:8080/",
          "height": 568
        },
        "outputId": "b73ed925-40ad-4672-8a5c-aff966a1df13"
      },
      "source": [
        "train.head()"
      ],
      "execution_count": 3,
      "outputs": [
        {
          "output_type": "execute_result",
          "data": {
            "text/html": [
              "<div>\n",
              "<style scoped>\n",
              "    .dataframe tbody tr th:only-of-type {\n",
              "        vertical-align: middle;\n",
              "    }\n",
              "\n",
              "    .dataframe tbody tr th {\n",
              "        vertical-align: top;\n",
              "    }\n",
              "\n",
              "    .dataframe thead th {\n",
              "        text-align: right;\n",
              "    }\n",
              "</style>\n",
              "<table border=\"1\" class=\"dataframe\">\n",
              "  <thead>\n",
              "    <tr style=\"text-align: right;\">\n",
              "      <th></th>\n",
              "      <th>Inspection ID</th>\n",
              "      <th>DBA Name</th>\n",
              "      <th>AKA Name</th>\n",
              "      <th>License #</th>\n",
              "      <th>Facility Type</th>\n",
              "      <th>Risk</th>\n",
              "      <th>Address</th>\n",
              "      <th>City</th>\n",
              "      <th>State</th>\n",
              "      <th>Zip</th>\n",
              "      <th>Inspection Date</th>\n",
              "      <th>Inspection Type</th>\n",
              "      <th>Violations</th>\n",
              "      <th>Latitude</th>\n",
              "      <th>Longitude</th>\n",
              "      <th>Location</th>\n",
              "      <th>Fail</th>\n",
              "    </tr>\n",
              "  </thead>\n",
              "  <tbody>\n",
              "    <tr>\n",
              "      <th>0</th>\n",
              "      <td>2088270</td>\n",
              "      <td>TOM YUM RICE &amp; NOODLE, INC.</td>\n",
              "      <td>TOM YUM CAFE</td>\n",
              "      <td>2354911.0</td>\n",
              "      <td>Restaurant</td>\n",
              "      <td>Risk 1 (High)</td>\n",
              "      <td>608 W BARRY</td>\n",
              "      <td>CHICAGO</td>\n",
              "      <td>IL</td>\n",
              "      <td>60657.0</td>\n",
              "      <td>2017-09-15T00:00:00</td>\n",
              "      <td>Canvass</td>\n",
              "      <td>3. POTENTIALLY HAZARDOUS FOOD MEETS TEMPERATUR...</td>\n",
              "      <td>41.938007</td>\n",
              "      <td>-87.644755</td>\n",
              "      <td>{'longitude': '-87.6447545707008', 'latitude':...</td>\n",
              "      <td>1</td>\n",
              "    </tr>\n",
              "    <tr>\n",
              "      <th>1</th>\n",
              "      <td>555268</td>\n",
              "      <td>FILLING STATION  &amp; CONVENIENCE  STORE</td>\n",
              "      <td>FILLING STATION  &amp; CONVENIENCE  STORE</td>\n",
              "      <td>1044901.0</td>\n",
              "      <td>Grocery Store</td>\n",
              "      <td>Risk 3 (Low)</td>\n",
              "      <td>6646-6658 S WESTERN AVE</td>\n",
              "      <td>CHICAGO</td>\n",
              "      <td>IL</td>\n",
              "      <td>60636.0</td>\n",
              "      <td>2011-10-20T00:00:00</td>\n",
              "      <td>Complaint Re-Inspection</td>\n",
              "      <td>32. FOOD AND NON-FOOD CONTACT SURFACES PROPERL...</td>\n",
              "      <td>41.772402</td>\n",
              "      <td>-87.683603</td>\n",
              "      <td>{'longitude': '-87.68360273081268', 'latitude'...</td>\n",
              "      <td>0</td>\n",
              "    </tr>\n",
              "    <tr>\n",
              "      <th>2</th>\n",
              "      <td>1751394</td>\n",
              "      <td>A P DELI</td>\n",
              "      <td>A P DELI</td>\n",
              "      <td>47405.0</td>\n",
              "      <td>Restaurant</td>\n",
              "      <td>Risk 1 (High)</td>\n",
              "      <td>2025 E 75TH ST</td>\n",
              "      <td>CHICAGO</td>\n",
              "      <td>IL</td>\n",
              "      <td>60649.0</td>\n",
              "      <td>2016-04-05T00:00:00</td>\n",
              "      <td>Canvass Re-Inspection</td>\n",
              "      <td>35. WALLS, CEILINGS, ATTACHED EQUIPMENT CONSTR...</td>\n",
              "      <td>41.758779</td>\n",
              "      <td>-87.575054</td>\n",
              "      <td>{'longitude': '-87.57505446746121', 'latitude'...</td>\n",
              "      <td>0</td>\n",
              "    </tr>\n",
              "    <tr>\n",
              "      <th>3</th>\n",
              "      <td>1763905</td>\n",
              "      <td>FRANK'S CHICAGO SHRIMP HOUSE</td>\n",
              "      <td>FRANK'S CHICAGO SHRIMP HOUSE</td>\n",
              "      <td>6414.0</td>\n",
              "      <td>Restaurant</td>\n",
              "      <td>Risk 2 (Medium)</td>\n",
              "      <td>4459 S ARCHER AVE</td>\n",
              "      <td>CHICAGO</td>\n",
              "      <td>IL</td>\n",
              "      <td>60632.0</td>\n",
              "      <td>2016-04-29T00:00:00</td>\n",
              "      <td>Canvass</td>\n",
              "      <td>38. VENTILATION: ROOMS AND EQUIPMENT VENTED AS...</td>\n",
              "      <td>41.812181</td>\n",
              "      <td>-87.707125</td>\n",
              "      <td>{'longitude': '-87.70712481334274', 'latitude'...</td>\n",
              "      <td>0</td>\n",
              "    </tr>\n",
              "    <tr>\n",
              "      <th>4</th>\n",
              "      <td>453326</td>\n",
              "      <td>MORRILL</td>\n",
              "      <td>MORRILL</td>\n",
              "      <td>24571.0</td>\n",
              "      <td>School</td>\n",
              "      <td>Risk 1 (High)</td>\n",
              "      <td>6011 S Rockwell (2600W) AVE</td>\n",
              "      <td>CHICAGO</td>\n",
              "      <td>IL</td>\n",
              "      <td>60629.0</td>\n",
              "      <td>2011-01-10T00:00:00</td>\n",
              "      <td>Canvass</td>\n",
              "      <td>34. FLOORS: CONSTRUCTED PER CODE, CLEANED, GOO...</td>\n",
              "      <td>NaN</td>\n",
              "      <td>NaN</td>\n",
              "      <td>NaN</td>\n",
              "      <td>0</td>\n",
              "    </tr>\n",
              "  </tbody>\n",
              "</table>\n",
              "</div>"
            ],
            "text/plain": [
              "   Inspection ID  ... Fail\n",
              "0        2088270  ...    1\n",
              "1         555268  ...    0\n",
              "2        1751394  ...    0\n",
              "3        1763905  ...    0\n",
              "4         453326  ...    0\n",
              "\n",
              "[5 rows x 17 columns]"
            ]
          },
          "metadata": {
            "tags": []
          },
          "execution_count": 3
        }
      ]
    },
    {
      "cell_type": "markdown",
      "metadata": {
        "id": "t4qDcFmFU21L",
        "colab_type": "text"
      },
      "source": [
        "###Risk level highly seems like the leakage feature i.e. we already have pre-known information that would lead us to fail/pass the restaurant. "
      ]
    },
    {
      "cell_type": "markdown",
      "metadata": {
        "id": "d0AoKpKfT2V7",
        "colab_type": "text"
      },
      "source": [
        "### Part 1: Preprocessing\n",
        "\n",
        "You may choose which features you want to use, and whether/how you will preprocess them. If you use categorical features, you may use any tools and techniques for encoding. (Pandas, category_encoders, sklearn.preprocessing, or any other library.)\n",
        "\n",
        "_To earn a score of 3 for this part, find and explain leakage. The dataset has a feature that will give you an ROC AUC score > 0.90 if you process and use the feature. Find the leakage and explain why the feature shouldn't be used in a real-world model to predict the results of future inspections._\n",
        "\n",
        "\n",
        "\n"
      ]
    },
    {
      "cell_type": "code",
      "metadata": {
        "id": "2N7r6E1bgGsl",
        "colab_type": "code",
        "colab": {
          "base_uri": "https://localhost:8080/",
          "height": 34
        },
        "outputId": "22ab5ca4-7a0b-4f24-8861-ff6634835735"
      },
      "source": [
        "train['Violations'].isnull().sum()"
      ],
      "execution_count": 81,
      "outputs": [
        {
          "output_type": "execute_result",
          "data": {
            "text/plain": [
              "9655"
            ]
          },
          "metadata": {
            "tags": []
          },
          "execution_count": 81
        }
      ]
    },
    {
      "cell_type": "markdown",
      "metadata": {
        "id": "xyaspRq7gEuo",
        "colab_type": "text"
      },
      "source": [
        "###Violations & Zip column\n",
        "- seems to have a lot of null values and high cardinality, won't be using this feature."
      ]
    },
    {
      "cell_type": "code",
      "metadata": {
        "id": "J2xRc5QBfmgh",
        "colab_type": "code",
        "colab": {
          "base_uri": "https://localhost:8080/",
          "height": 319
        },
        "outputId": "55547eed-da8b-4c9d-9131-56db4c377c93"
      },
      "source": [
        "train.isnull().sum()"
      ],
      "execution_count": 75,
      "outputs": [
        {
          "output_type": "execute_result",
          "data": {
            "text/plain": [
              "Inspection ID         0\n",
              "DBA Name              0\n",
              "AKA Name            623\n",
              "License #             5\n",
              "Facility Type       224\n",
              "Risk                 12\n",
              "Address               0\n",
              "City                 53\n",
              "State                10\n",
              "Zip                  26\n",
              "Inspection Date       0\n",
              "Inspection Type       1\n",
              "Violations         9655\n",
              "Latitude            198\n",
              "Longitude           198\n",
              "Location            198\n",
              "Fail                  0\n",
              "dtype: int64"
            ]
          },
          "metadata": {
            "tags": []
          },
          "execution_count": 75
        }
      ]
    },
    {
      "cell_type": "code",
      "metadata": {
        "id": "04fOJMEkV5wY",
        "colab_type": "code",
        "colab": {
          "base_uri": "https://localhost:8080/",
          "height": 302
        },
        "outputId": "b97ffe98-4a95-4444-864d-588eca80d763"
      },
      "source": [
        "train.columns.tolist()"
      ],
      "execution_count": 5,
      "outputs": [
        {
          "output_type": "execute_result",
          "data": {
            "text/plain": [
              "['Inspection ID',\n",
              " 'DBA Name',\n",
              " 'AKA Name',\n",
              " 'License #',\n",
              " 'Facility Type',\n",
              " 'Risk',\n",
              " 'Address',\n",
              " 'City',\n",
              " 'State',\n",
              " 'Zip',\n",
              " 'Inspection Date',\n",
              " 'Inspection Type',\n",
              " 'Violations',\n",
              " 'Latitude',\n",
              " 'Longitude',\n",
              " 'Location',\n",
              " 'Fail']"
            ]
          },
          "metadata": {
            "tags": []
          },
          "execution_count": 5
        }
      ]
    },
    {
      "cell_type": "markdown",
      "metadata": {
        "id": "FQWnyvAR7KjD",
        "colab_type": "text"
      },
      "source": [
        "###Defining X_train, X_test"
      ]
    },
    {
      "cell_type": "code",
      "metadata": {
        "id": "fW-3yLW4UYV2",
        "colab_type": "code",
        "colab": {}
      },
      "source": [
        "\n",
        "features = ['DBA Name', 'Facility Type', 'Risk', 'Inspection Date', 'Inspection Type',\n",
        "           'Violations']\n",
        "target = 'Fail'\n",
        "\n",
        "X_train = train[features]\n",
        "y_train = train[target]\n",
        "\n",
        "X_test = test[features]\n",
        "y_test = test[target]\n"
      ],
      "execution_count": 0,
      "outputs": []
    },
    {
      "cell_type": "markdown",
      "metadata": {
        "id": "i0dXmLstWvY0",
        "colab_type": "text"
      },
      "source": [
        "Determining the majority class, "
      ]
    },
    {
      "cell_type": "code",
      "metadata": {
        "id": "RbEbBKP8Woax",
        "colab_type": "code",
        "colab": {
          "base_uri": "https://localhost:8080/",
          "height": 67
        },
        "outputId": "7c0af0cf-e280-4acd-923d-ce9d50505a9f"
      },
      "source": [
        "y_train.value_counts(normalize=True)"
      ],
      "execution_count": 292,
      "outputs": [
        {
          "output_type": "execute_result",
          "data": {
            "text/plain": [
              "0    0.74139\n",
              "1    0.25861\n",
              "Name: Fail, dtype: float64"
            ]
          },
          "metadata": {
            "tags": []
          },
          "execution_count": 292
        }
      ]
    },
    {
      "cell_type": "markdown",
      "metadata": {
        "id": "djapQuD5W2Qt",
        "colab_type": "text"
      },
      "source": [
        "0 is passing 1 is failing the inspection. 74%+ stores passed the inspection."
      ]
    },
    {
      "cell_type": "markdown",
      "metadata": {
        "id": "g_ZOj3t5g3us",
        "colab_type": "text"
      },
      "source": [
        "##Creating Baseline"
      ]
    },
    {
      "cell_type": "code",
      "metadata": {
        "id": "alvazZDOXSWa",
        "colab_type": "code",
        "colab": {}
      },
      "source": [
        "majority_class = y_train.mode()[0] #which one happened the most\n",
        "y_pred = [majority_class] * len(y_train) #fake predictions, we want to predict majority class\n",
        "#over and over"
      ],
      "execution_count": 0,
      "outputs": []
    },
    {
      "cell_type": "code",
      "metadata": {
        "id": "UyoKeBUdXL8t",
        "colab_type": "code",
        "colab": {
          "base_uri": "https://localhost:8080/",
          "height": 34
        },
        "outputId": "c01e3b40-0262-42b6-e601-8e634c5b67b0"
      },
      "source": [
        "from sklearn.metrics import roc_auc_score\n",
        "roc_auc_score(y_train, y_pred)"
      ],
      "execution_count": 314,
      "outputs": [
        {
          "output_type": "execute_result",
          "data": {
            "text/plain": [
              "0.5"
            ]
          },
          "metadata": {
            "tags": []
          },
          "execution_count": 314
        }
      ]
    },
    {
      "cell_type": "markdown",
      "metadata": {
        "id": "O1FplJ8BXhLQ",
        "colab_type": "text"
      },
      "source": [
        "as anticipated. above 0.5 would show that prediction is better than random guessing. "
      ]
    },
    {
      "cell_type": "code",
      "metadata": {
        "id": "fzrZ6THGXpbh",
        "colab_type": "code",
        "colab": {
          "base_uri": "https://localhost:8080/",
          "height": 134
        },
        "outputId": "fcfa5b11-8325-4e97-a048-bb40d3d57b85"
      },
      "source": [
        "X_train.isnull().sum().sort_values()"
      ],
      "execution_count": 15,
      "outputs": [
        {
          "output_type": "execute_result",
          "data": {
            "text/plain": [
              "DBA Name              0\n",
              "Inspection Date       0\n",
              "Inspection Type       1\n",
              "Risk                 12\n",
              "Facility Type       224\n",
              "Violations         9655\n",
              "dtype: int64"
            ]
          },
          "metadata": {
            "tags": []
          },
          "execution_count": 15
        }
      ]
    },
    {
      "cell_type": "markdown",
      "metadata": {
        "id": "V1ERIPa7X521",
        "colab_type": "text"
      },
      "source": [
        "Let's create a shallow tree as a baseline to find out the leaky feature."
      ]
    },
    {
      "cell_type": "code",
      "metadata": {
        "id": "JxbImlAcb4as",
        "colab_type": "code",
        "colab": {}
      },
      "source": [
        "import warnings\n",
        "from sklearn.exceptions import DataConversionWarning\n",
        "warnings.filterwarnings(action='ignore', category=DataConversionWarning)"
      ],
      "execution_count": 0,
      "outputs": []
    },
    {
      "cell_type": "code",
      "metadata": {
        "id": "aVWVSrhAX5Fk",
        "colab_type": "code",
        "colab": {}
      },
      "source": [
        "from sklearn.tree import DecisionTreeClassifier\n",
        "from sklearn.model_selection import cross_val_score\n",
        "from sklearn.pipeline import make_pipeline\n",
        "from sklearn.exceptions import DataConversionWarning\n",
        "from sklearn.preprocessing import StandardScaler\n",
        "from sklearn.pipeline import make_pipeline\n",
        "import category_encoders as ce\n",
        "from scipy.stats import randint\n",
        "from sklearn.model_selection import RandomizedSearchCV\n",
        "from xgboost import XGBClassifier"
      ],
      "execution_count": 0,
      "outputs": []
    },
    {
      "cell_type": "code",
      "metadata": {
        "id": "Ks2tkdIdbrwS",
        "colab_type": "code",
        "colab": {}
      },
      "source": [
        "encoder = ce.OrdinalEncoder()\n",
        "X_train = encoder.fit_transform(X_train[features])"
      ],
      "execution_count": 0,
      "outputs": []
    },
    {
      "cell_type": "code",
      "metadata": {
        "id": "fyRB4CchbpFY",
        "colab_type": "code",
        "colab": {
          "base_uri": "https://localhost:8080/",
          "height": 34
        },
        "outputId": "5691d766-190e-409b-f779-41992fbdf911"
      },
      "source": [
        "#encoder = encoder \n",
        "\n",
        "pipeline = make_pipeline(\n",
        "    StandardScaler(),\n",
        "    DecisionTreeClassifier(max_depth = 3)\n",
        ")\n",
        "\n",
        "pipeline.fit(X_train, y_train)\n",
        "y_pred_proba = pipeline.predict_proba(X_train)[:, 1]\n",
        "\n",
        "roc_auc_score(y_train, y_pred_proba)"
      ],
      "execution_count": 298,
      "outputs": [
        {
          "output_type": "execute_result",
          "data": {
            "text/plain": [
              "0.6681911271998658"
            ]
          },
          "metadata": {
            "tags": []
          },
          "execution_count": 298
        }
      ]
    },
    {
      "cell_type": "markdown",
      "metadata": {
        "id": "1IV7d6VfdYS7",
        "colab_type": "text"
      },
      "source": [
        "###Visualize the tree to see which ones were most informative."
      ]
    },
    {
      "cell_type": "code",
      "metadata": {
        "id": "SrUsW7ctdrRX",
        "colab_type": "code",
        "colab": {
          "base_uri": "https://localhost:8080/",
          "height": 118
        },
        "outputId": "f52aa8ae-f1b0-482d-b967-50dbcd2b82ca"
      },
      "source": [
        "tree = DecisionTreeClassifier(max_depth =4)\n",
        "tree.fit(X_train,y_train)"
      ],
      "execution_count": 262,
      "outputs": [
        {
          "output_type": "execute_result",
          "data": {
            "text/plain": [
              "DecisionTreeClassifier(class_weight=None, criterion='gini', max_depth=4,\n",
              "            max_features=None, max_leaf_nodes=None,\n",
              "            min_impurity_decrease=0.0, min_impurity_split=None,\n",
              "            min_samples_leaf=1, min_samples_split=2,\n",
              "            min_weight_fraction_leaf=0.0, presort=False, random_state=None,\n",
              "            splitter='best')"
            ]
          },
          "metadata": {
            "tags": []
          },
          "execution_count": 262
        }
      ]
    },
    {
      "cell_type": "code",
      "metadata": {
        "id": "ZhUou-irdeZw",
        "colab_type": "code",
        "colab": {
          "base_uri": "https://localhost:8080/",
          "height": 677
        },
        "outputId": "c41c2771-f02f-499c-e351-300fe5f39cc6"
      },
      "source": [
        "import graphviz\n",
        "from sklearn.tree import export_graphviz\n",
        "\n",
        "dot_data = export_graphviz(tree, out_file=None, feature_names=X_train.columns, \n",
        "                           class_names=['Fail', 'Pass'], filled=True, impurity=False, proportion=True)\n",
        "\n",
        "graphviz.Source(dot_data)"
      ],
      "execution_count": 263,
      "outputs": [
        {
          "output_type": "execute_result",
          "data": {
            "text/plain": [
              "<graphviz.files.Source at 0x7fb849469400>"
            ],
            "image/svg+xml": "<?xml version=\"1.0\" encoding=\"UTF-8\" standalone=\"no\"?>\n<!DOCTYPE svg PUBLIC \"-//W3C//DTD SVG 1.1//EN\"\n \"http://www.w3.org/Graphics/SVG/1.1/DTD/svg11.dtd\">\n<!-- Generated by graphviz version 2.40.1 (20161225.0304)\n -->\n<!-- Title: Tree Pages: 1 -->\n<svg width=\"2630pt\" height=\"477pt\"\n viewBox=\"0.00 0.00 2629.50 477.00\" xmlns=\"http://www.w3.org/2000/svg\" xmlns:xlink=\"http://www.w3.org/1999/xlink\">\n<g id=\"graph0\" class=\"graph\" transform=\"scale(1 1) rotate(0) translate(4 473)\">\n<title>Tree</title>\n<polygon fill=\"#ffffff\" stroke=\"transparent\" points=\"-4,4 -4,-473 2625.5,-473 2625.5,4 -4,4\"/>\n<!-- 0 -->\n<g id=\"node1\" class=\"node\">\n<title>0</title>\n<polygon fill=\"#e58139\" fill-opacity=\"0.650980\" stroke=\"#000000\" points=\"1384,-469 1232,-469 1232,-401 1384,-401 1384,-469\"/>\n<text text-anchor=\"middle\" x=\"1308\" y=\"-453.8\" font-family=\"Times,serif\" font-size=\"14.00\" fill=\"#000000\">Inspection Type &lt;= 4.5</text>\n<text text-anchor=\"middle\" x=\"1308\" y=\"-438.8\" font-family=\"Times,serif\" font-size=\"14.00\" fill=\"#000000\">samples = 100.0%</text>\n<text text-anchor=\"middle\" x=\"1308\" y=\"-423.8\" font-family=\"Times,serif\" font-size=\"14.00\" fill=\"#000000\">value = [0.741, 0.259]</text>\n<text text-anchor=\"middle\" x=\"1308\" y=\"-408.8\" font-family=\"Times,serif\" font-size=\"14.00\" fill=\"#000000\">class = Fail</text>\n</g>\n<!-- 1 -->\n<g id=\"node2\" class=\"node\">\n<title>1</title>\n<polygon fill=\"#e58139\" fill-opacity=\"0.741176\" stroke=\"#000000\" points=\"1056,-365 904,-365 904,-297 1056,-297 1056,-365\"/>\n<text text-anchor=\"middle\" x=\"980\" y=\"-349.8\" font-family=\"Times,serif\" font-size=\"14.00\" fill=\"#000000\">Inspection Type &lt;= 1.5</text>\n<text text-anchor=\"middle\" x=\"980\" y=\"-334.8\" font-family=\"Times,serif\" font-size=\"14.00\" fill=\"#000000\">samples = 68.9%</text>\n<text text-anchor=\"middle\" x=\"980\" y=\"-319.8\" font-family=\"Times,serif\" font-size=\"14.00\" fill=\"#000000\">value = [0.795, 0.205]</text>\n<text text-anchor=\"middle\" x=\"980\" y=\"-304.8\" font-family=\"Times,serif\" font-size=\"14.00\" fill=\"#000000\">class = Fail</text>\n</g>\n<!-- 0&#45;&gt;1 -->\n<g id=\"edge1\" class=\"edge\">\n<title>0&#45;&gt;1</title>\n<path fill=\"none\" stroke=\"#000000\" d=\"M1231.9258,-410.8789C1182.3227,-395.1511 1117.4837,-374.5924 1066.0077,-358.2707\"/>\n<polygon fill=\"#000000\" stroke=\"#000000\" points=\"1066.8193,-354.8564 1056.2291,-355.1702 1064.7035,-361.529 1066.8193,-354.8564\"/>\n<text text-anchor=\"middle\" x=\"1067.737\" y=\"-373.6641\" font-family=\"Times,serif\" font-size=\"14.00\" fill=\"#000000\">True</text>\n</g>\n<!-- 16 -->\n<g id=\"node17\" class=\"node\">\n<title>16</title>\n<polygon fill=\"#e58139\" fill-opacity=\"0.396078\" stroke=\"#000000\" points=\"1713.5,-365 1566.5,-365 1566.5,-297 1713.5,-297 1713.5,-365\"/>\n<text text-anchor=\"middle\" x=\"1640\" y=\"-349.8\" font-family=\"Times,serif\" font-size=\"14.00\" fill=\"#000000\">Violations &lt;= 14.5</text>\n<text text-anchor=\"middle\" x=\"1640\" y=\"-334.8\" font-family=\"Times,serif\" font-size=\"14.00\" fill=\"#000000\">samples = 31.1%</text>\n<text text-anchor=\"middle\" x=\"1640\" y=\"-319.8\" font-family=\"Times,serif\" font-size=\"14.00\" fill=\"#000000\">value = [0.624, 0.376]</text>\n<text text-anchor=\"middle\" x=\"1640\" y=\"-304.8\" font-family=\"Times,serif\" font-size=\"14.00\" fill=\"#000000\">class = Fail</text>\n</g>\n<!-- 0&#45;&gt;16 -->\n<g id=\"edge16\" class=\"edge\">\n<title>0&#45;&gt;16</title>\n<path fill=\"none\" stroke=\"#000000\" d=\"M1384.1675,-411.1403C1435.7115,-394.994 1503.7913,-373.6678 1556.7621,-357.0745\"/>\n<polygon fill=\"#000000\" stroke=\"#000000\" points=\"1557.9732,-360.3629 1566.4697,-354.0336 1555.8807,-353.683 1557.9732,-360.3629\"/>\n<text text-anchor=\"middle\" x=\"1554.8847\" y=\"-372.4873\" font-family=\"Times,serif\" font-size=\"14.00\" fill=\"#000000\">False</text>\n</g>\n<!-- 2 -->\n<g id=\"node3\" class=\"node\">\n<title>2</title>\n<polygon fill=\"#e58139\" fill-opacity=\"0.650980\" stroke=\"#000000\" points=\"565.5,-261 418.5,-261 418.5,-193 565.5,-193 565.5,-261\"/>\n<text text-anchor=\"middle\" x=\"492\" y=\"-245.8\" font-family=\"Times,serif\" font-size=\"14.00\" fill=\"#000000\">Violations &lt;= 16.0</text>\n<text text-anchor=\"middle\" x=\"492\" y=\"-230.8\" font-family=\"Times,serif\" font-size=\"14.00\" fill=\"#000000\">samples = 46.6%</text>\n<text text-anchor=\"middle\" x=\"492\" y=\"-215.8\" font-family=\"Times,serif\" font-size=\"14.00\" fill=\"#000000\">value = [0.741, 0.259]</text>\n<text text-anchor=\"middle\" x=\"492\" y=\"-200.8\" font-family=\"Times,serif\" font-size=\"14.00\" fill=\"#000000\">class = Fail</text>\n</g>\n<!-- 1&#45;&gt;2 -->\n<g id=\"edge2\" class=\"edge\">\n<title>1&#45;&gt;2</title>\n<path fill=\"none\" stroke=\"#000000\" d=\"M903.75,-314.75C814.6478,-295.761 667.7007,-264.4444 575.5668,-244.8093\"/>\n<polygon fill=\"#000000\" stroke=\"#000000\" points=\"576.2291,-241.3719 565.7192,-242.7107 574.77,-248.2182 576.2291,-241.3719\"/>\n</g>\n<!-- 9 -->\n<g id=\"node10\" class=\"node\">\n<title>9</title>\n<polygon fill=\"#e58139\" fill-opacity=\"0.898039\" stroke=\"#000000\" points=\"1053.5,-261 906.5,-261 906.5,-193 1053.5,-193 1053.5,-261\"/>\n<text text-anchor=\"middle\" x=\"980\" y=\"-245.8\" font-family=\"Times,serif\" font-size=\"14.00\" fill=\"#000000\">Violations &lt;= 122.5</text>\n<text text-anchor=\"middle\" x=\"980\" y=\"-230.8\" font-family=\"Times,serif\" font-size=\"14.00\" fill=\"#000000\">samples = 22.3%</text>\n<text text-anchor=\"middle\" x=\"980\" y=\"-215.8\" font-family=\"Times,serif\" font-size=\"14.00\" fill=\"#000000\">value = [0.907, 0.093]</text>\n<text text-anchor=\"middle\" x=\"980\" y=\"-200.8\" font-family=\"Times,serif\" font-size=\"14.00\" fill=\"#000000\">class = Fail</text>\n</g>\n<!-- 1&#45;&gt;9 -->\n<g id=\"edge9\" class=\"edge\">\n<title>1&#45;&gt;9</title>\n<path fill=\"none\" stroke=\"#000000\" d=\"M980,-296.9465C980,-288.776 980,-279.9318 980,-271.3697\"/>\n<polygon fill=\"#000000\" stroke=\"#000000\" points=\"983.5001,-271.13 980,-261.13 976.5001,-271.13 983.5001,-271.13\"/>\n</g>\n<!-- 3 -->\n<g id=\"node4\" class=\"node\">\n<title>3</title>\n<polygon fill=\"#e58139\" fill-opacity=\"0.831373\" stroke=\"#000000\" points=\"311.5,-157 164.5,-157 164.5,-89 311.5,-89 311.5,-157\"/>\n<text text-anchor=\"middle\" x=\"238\" y=\"-141.8\" font-family=\"Times,serif\" font-size=\"14.00\" fill=\"#000000\">Facility Type &lt;= 23.5</text>\n<text text-anchor=\"middle\" x=\"238\" y=\"-126.8\" font-family=\"Times,serif\" font-size=\"14.00\" fill=\"#000000\">samples = 2.1%</text>\n<text text-anchor=\"middle\" x=\"238\" y=\"-111.8\" font-family=\"Times,serif\" font-size=\"14.00\" fill=\"#000000\">value = [0.855, 0.145]</text>\n<text text-anchor=\"middle\" x=\"238\" y=\"-96.8\" font-family=\"Times,serif\" font-size=\"14.00\" fill=\"#000000\">class = Fail</text>\n</g>\n<!-- 2&#45;&gt;3 -->\n<g id=\"edge3\" class=\"edge\">\n<title>2&#45;&gt;3</title>\n<path fill=\"none\" stroke=\"#000000\" d=\"M418.1915,-196.7792C387.7938,-184.3329 352.4338,-169.8548 321.1285,-157.0369\"/>\n<polygon fill=\"#000000\" stroke=\"#000000\" points=\"322.1338,-153.6665 311.5532,-153.1163 319.4813,-160.1445 322.1338,-153.6665\"/>\n</g>\n<!-- 6 -->\n<g id=\"node7\" class=\"node\">\n<title>6</title>\n<polygon fill=\"#e58139\" fill-opacity=\"0.639216\" stroke=\"#000000\" points=\"577.5,-157 406.5,-157 406.5,-89 577.5,-89 577.5,-157\"/>\n<text text-anchor=\"middle\" x=\"492\" y=\"-141.8\" font-family=\"Times,serif\" font-size=\"14.00\" fill=\"#000000\">Inspection Date &lt;= 2105.5</text>\n<text text-anchor=\"middle\" x=\"492\" y=\"-126.8\" font-family=\"Times,serif\" font-size=\"14.00\" fill=\"#000000\">samples = 44.4%</text>\n<text text-anchor=\"middle\" x=\"492\" y=\"-111.8\" font-family=\"Times,serif\" font-size=\"14.00\" fill=\"#000000\">value = [0.735, 0.265]</text>\n<text text-anchor=\"middle\" x=\"492\" y=\"-96.8\" font-family=\"Times,serif\" font-size=\"14.00\" fill=\"#000000\">class = Fail</text>\n</g>\n<!-- 2&#45;&gt;6 -->\n<g id=\"edge6\" class=\"edge\">\n<title>2&#45;&gt;6</title>\n<path fill=\"none\" stroke=\"#000000\" d=\"M492,-192.9465C492,-184.776 492,-175.9318 492,-167.3697\"/>\n<polygon fill=\"#000000\" stroke=\"#000000\" points=\"495.5001,-167.13 492,-157.13 488.5001,-167.13 495.5001,-167.13\"/>\n</g>\n<!-- 4 -->\n<g id=\"node5\" class=\"node\">\n<title>4</title>\n<polygon fill=\"#e58139\" fill-opacity=\"0.874510\" stroke=\"#000000\" points=\"146,-53 0,-53 0,0 146,0 146,-53\"/>\n<text text-anchor=\"middle\" x=\"73\" y=\"-37.8\" font-family=\"Times,serif\" font-size=\"14.00\" fill=\"#000000\">samples = 1.8%</text>\n<text text-anchor=\"middle\" x=\"73\" y=\"-22.8\" font-family=\"Times,serif\" font-size=\"14.00\" fill=\"#000000\">value = [0.887, 0.113]</text>\n<text text-anchor=\"middle\" x=\"73\" y=\"-7.8\" font-family=\"Times,serif\" font-size=\"14.00\" fill=\"#000000\">class = Fail</text>\n</g>\n<!-- 3&#45;&gt;4 -->\n<g id=\"edge4\" class=\"edge\">\n<title>3&#45;&gt;4</title>\n<path fill=\"none\" stroke=\"#000000\" d=\"M179.8272,-88.9777C162.682,-78.9504 143.9975,-68.0228 127.118,-58.1508\"/>\n<polygon fill=\"#000000\" stroke=\"#000000\" points=\"128.8724,-55.1223 118.4734,-53.095 125.3385,-61.1648 128.8724,-55.1223\"/>\n</g>\n<!-- 5 -->\n<g id=\"node6\" class=\"node\">\n<title>5</title>\n<polygon fill=\"#e58139\" fill-opacity=\"0.435294\" stroke=\"#000000\" points=\"311.5,-53 164.5,-53 164.5,0 311.5,0 311.5,-53\"/>\n<text text-anchor=\"middle\" x=\"238\" y=\"-37.8\" font-family=\"Times,serif\" font-size=\"14.00\" fill=\"#000000\">samples = 0.3%</text>\n<text text-anchor=\"middle\" x=\"238\" y=\"-22.8\" font-family=\"Times,serif\" font-size=\"14.00\" fill=\"#000000\">value = [0.639, 0.361]</text>\n<text text-anchor=\"middle\" x=\"238\" y=\"-7.8\" font-family=\"Times,serif\" font-size=\"14.00\" fill=\"#000000\">class = Fail</text>\n</g>\n<!-- 3&#45;&gt;5 -->\n<g id=\"edge5\" class=\"edge\">\n<title>3&#45;&gt;5</title>\n<path fill=\"none\" stroke=\"#000000\" d=\"M238,-88.9777C238,-80.7364 238,-71.887 238,-63.5153\"/>\n<polygon fill=\"#000000\" stroke=\"#000000\" points=\"241.5001,-63.2484 238,-53.2485 234.5001,-63.2485 241.5001,-63.2484\"/>\n</g>\n<!-- 7 -->\n<g id=\"node8\" class=\"node\">\n<title>7</title>\n<polygon fill=\"#e58139\" fill-opacity=\"0.643137\" stroke=\"#000000\" points=\"476.5,-53 329.5,-53 329.5,0 476.5,0 476.5,-53\"/>\n<text text-anchor=\"middle\" x=\"403\" y=\"-37.8\" font-family=\"Times,serif\" font-size=\"14.00\" fill=\"#000000\">samples = 43.7%</text>\n<text text-anchor=\"middle\" x=\"403\" y=\"-22.8\" font-family=\"Times,serif\" font-size=\"14.00\" fill=\"#000000\">value = [0.737, 0.263]</text>\n<text text-anchor=\"middle\" x=\"403\" y=\"-7.8\" font-family=\"Times,serif\" font-size=\"14.00\" fill=\"#000000\">class = Fail</text>\n</g>\n<!-- 6&#45;&gt;7 -->\n<g id=\"edge7\" class=\"edge\">\n<title>6&#45;&gt;7</title>\n<path fill=\"none\" stroke=\"#000000\" d=\"M460.6219,-88.9777C452.1766,-79.8207 443.0389,-69.9129 434.5825,-60.744\"/>\n<polygon fill=\"#000000\" stroke=\"#000000\" points=\"437.0221,-58.2266 427.6696,-53.2485 431.8764,-62.9723 437.0221,-58.2266\"/>\n</g>\n<!-- 8 -->\n<g id=\"node9\" class=\"node\">\n<title>8</title>\n<polygon fill=\"#e58139\" fill-opacity=\"0.447059\" stroke=\"#000000\" points=\"641.5,-53 494.5,-53 494.5,0 641.5,0 641.5,-53\"/>\n<text text-anchor=\"middle\" x=\"568\" y=\"-37.8\" font-family=\"Times,serif\" font-size=\"14.00\" fill=\"#000000\">samples = 0.8%</text>\n<text text-anchor=\"middle\" x=\"568\" y=\"-22.8\" font-family=\"Times,serif\" font-size=\"14.00\" fill=\"#000000\">value = [0.644, 0.356]</text>\n<text text-anchor=\"middle\" x=\"568\" y=\"-7.8\" font-family=\"Times,serif\" font-size=\"14.00\" fill=\"#000000\">class = Fail</text>\n</g>\n<!-- 6&#45;&gt;8 -->\n<g id=\"edge8\" class=\"edge\">\n<title>6&#45;&gt;8</title>\n<path fill=\"none\" stroke=\"#000000\" d=\"M518.7948,-88.9777C525.8622,-80.0039 533.4976,-70.3089 540.5967,-61.295\"/>\n<polygon fill=\"#000000\" stroke=\"#000000\" points=\"543.4963,-63.2701 546.9338,-53.2485 537.997,-58.9391 543.4963,-63.2701\"/>\n</g>\n<!-- 10 -->\n<g id=\"node11\" class=\"node\">\n<title>10</title>\n<polygon fill=\"#e58139\" fill-opacity=\"0.996078\" stroke=\"#000000\" points=\"969.5,-157 822.5,-157 822.5,-89 969.5,-89 969.5,-157\"/>\n<text text-anchor=\"middle\" x=\"896\" y=\"-141.8\" font-family=\"Times,serif\" font-size=\"14.00\" fill=\"#000000\">Facility Type &lt;= 11.5</text>\n<text text-anchor=\"middle\" x=\"896\" y=\"-126.8\" font-family=\"Times,serif\" font-size=\"14.00\" fill=\"#000000\">samples = 8.8%</text>\n<text text-anchor=\"middle\" x=\"896\" y=\"-111.8\" font-family=\"Times,serif\" font-size=\"14.00\" fill=\"#000000\">value = [0.994, 0.006]</text>\n<text text-anchor=\"middle\" x=\"896\" y=\"-96.8\" font-family=\"Times,serif\" font-size=\"14.00\" fill=\"#000000\">class = Fail</text>\n</g>\n<!-- 9&#45;&gt;10 -->\n<g id=\"edge10\" class=\"edge\">\n<title>9&#45;&gt;10</title>\n<path fill=\"none\" stroke=\"#000000\" d=\"M952.4953,-192.9465C945.3159,-184.0578 937.4924,-174.3716 930.019,-165.1188\"/>\n<polygon fill=\"#000000\" stroke=\"#000000\" points=\"932.5727,-162.7102 923.5665,-157.13 927.1271,-167.1086 932.5727,-162.7102\"/>\n</g>\n<!-- 13 -->\n<g id=\"node14\" class=\"node\">\n<title>13</title>\n<polygon fill=\"#e58139\" fill-opacity=\"0.823529\" stroke=\"#000000\" points=\"1140,-157 988,-157 988,-89 1140,-89 1140,-157\"/>\n<text text-anchor=\"middle\" x=\"1064\" y=\"-141.8\" font-family=\"Times,serif\" font-size=\"14.00\" fill=\"#000000\">Inspection Type &lt;= 3.5</text>\n<text text-anchor=\"middle\" x=\"1064\" y=\"-126.8\" font-family=\"Times,serif\" font-size=\"14.00\" fill=\"#000000\">samples = 13.5%</text>\n<text text-anchor=\"middle\" x=\"1064\" y=\"-111.8\" font-family=\"Times,serif\" font-size=\"14.00\" fill=\"#000000\">value = [0.85, 0.15]</text>\n<text text-anchor=\"middle\" x=\"1064\" y=\"-96.8\" font-family=\"Times,serif\" font-size=\"14.00\" fill=\"#000000\">class = Fail</text>\n</g>\n<!-- 9&#45;&gt;13 -->\n<g id=\"edge13\" class=\"edge\">\n<title>9&#45;&gt;13</title>\n<path fill=\"none\" stroke=\"#000000\" d=\"M1007.5047,-192.9465C1014.6841,-184.0578 1022.5076,-174.3716 1029.981,-165.1188\"/>\n<polygon fill=\"#000000\" stroke=\"#000000\" points=\"1032.8729,-167.1086 1036.4335,-157.13 1027.4273,-162.7102 1032.8729,-167.1086\"/>\n</g>\n<!-- 11 -->\n<g id=\"node12\" class=\"node\">\n<title>11</title>\n<polygon fill=\"#e58139\" fill-opacity=\"0.996078\" stroke=\"#000000\" points=\"806.5,-53 659.5,-53 659.5,0 806.5,0 806.5,-53\"/>\n<text text-anchor=\"middle\" x=\"733\" y=\"-37.8\" font-family=\"Times,serif\" font-size=\"14.00\" fill=\"#000000\">samples = 7.9%</text>\n<text text-anchor=\"middle\" x=\"733\" y=\"-22.8\" font-family=\"Times,serif\" font-size=\"14.00\" fill=\"#000000\">value = [0.996, 0.004]</text>\n<text text-anchor=\"middle\" x=\"733\" y=\"-7.8\" font-family=\"Times,serif\" font-size=\"14.00\" fill=\"#000000\">class = Fail</text>\n</g>\n<!-- 10&#45;&gt;11 -->\n<g id=\"edge11\" class=\"edge\">\n<title>10&#45;&gt;11</title>\n<path fill=\"none\" stroke=\"#000000\" d=\"M838.5323,-88.9777C821.7504,-79.0424 803.4754,-68.2232 786.9214,-58.4228\"/>\n<polygon fill=\"#000000\" stroke=\"#000000\" points=\"788.3103,-55.1777 777.9222,-53.095 784.7442,-61.2013 788.3103,-55.1777\"/>\n</g>\n<!-- 12 -->\n<g id=\"node13\" class=\"node\">\n<title>12</title>\n<polygon fill=\"#e58139\" fill-opacity=\"0.976471\" stroke=\"#000000\" points=\"971.5,-53 824.5,-53 824.5,0 971.5,0 971.5,-53\"/>\n<text text-anchor=\"middle\" x=\"898\" y=\"-37.8\" font-family=\"Times,serif\" font-size=\"14.00\" fill=\"#000000\">samples = 0.9%</text>\n<text text-anchor=\"middle\" x=\"898\" y=\"-22.8\" font-family=\"Times,serif\" font-size=\"14.00\" fill=\"#000000\">value = [0.978, 0.022]</text>\n<text text-anchor=\"middle\" x=\"898\" y=\"-7.8\" font-family=\"Times,serif\" font-size=\"14.00\" fill=\"#000000\">class = Fail</text>\n</g>\n<!-- 10&#45;&gt;12 -->\n<g id=\"edge12\" class=\"edge\">\n<title>10&#45;&gt;12</title>\n<path fill=\"none\" stroke=\"#000000\" d=\"M896.7051,-88.9777C896.8759,-80.7364 897.0593,-71.887 897.2328,-63.5153\"/>\n<polygon fill=\"#000000\" stroke=\"#000000\" points=\"900.7376,-63.3189 897.4456,-53.2485 893.7391,-63.1738 900.7376,-63.3189\"/>\n</g>\n<!-- 14 -->\n<g id=\"node15\" class=\"node\">\n<title>14</title>\n<polygon fill=\"#e58139\" fill-opacity=\"0.866667\" stroke=\"#000000\" points=\"1136,-53 990,-53 990,0 1136,0 1136,-53\"/>\n<text text-anchor=\"middle\" x=\"1063\" y=\"-37.8\" font-family=\"Times,serif\" font-size=\"14.00\" fill=\"#000000\">samples = 11.3%</text>\n<text text-anchor=\"middle\" x=\"1063\" y=\"-22.8\" font-family=\"Times,serif\" font-size=\"14.00\" fill=\"#000000\">value = [0.883, 0.117]</text>\n<text text-anchor=\"middle\" x=\"1063\" y=\"-7.8\" font-family=\"Times,serif\" font-size=\"14.00\" fill=\"#000000\">class = Fail</text>\n</g>\n<!-- 13&#45;&gt;14 -->\n<g id=\"edge14\" class=\"edge\">\n<title>13&#45;&gt;14</title>\n<path fill=\"none\" stroke=\"#000000\" d=\"M1063.6474,-88.9777C1063.562,-80.7364 1063.4703,-71.887 1063.3836,-63.5153\"/>\n<polygon fill=\"#000000\" stroke=\"#000000\" points=\"1066.8807,-63.2116 1063.2772,-53.2485 1059.8811,-63.2842 1066.8807,-63.2116\"/>\n</g>\n<!-- 15 -->\n<g id=\"node16\" class=\"node\">\n<title>15</title>\n<polygon fill=\"#e58139\" fill-opacity=\"0.521569\" stroke=\"#000000\" points=\"1301.5,-53 1154.5,-53 1154.5,0 1301.5,0 1301.5,-53\"/>\n<text text-anchor=\"middle\" x=\"1228\" y=\"-37.8\" font-family=\"Times,serif\" font-size=\"14.00\" fill=\"#000000\">samples = 2.2%</text>\n<text text-anchor=\"middle\" x=\"1228\" y=\"-22.8\" font-family=\"Times,serif\" font-size=\"14.00\" fill=\"#000000\">value = [0.677, 0.323]</text>\n<text text-anchor=\"middle\" x=\"1228\" y=\"-7.8\" font-family=\"Times,serif\" font-size=\"14.00\" fill=\"#000000\">class = Fail</text>\n</g>\n<!-- 13&#45;&gt;15 -->\n<g id=\"edge15\" class=\"edge\">\n<title>13&#45;&gt;15</title>\n<path fill=\"none\" stroke=\"#000000\" d=\"M1121.8203,-88.9777C1138.7052,-79.0424 1157.0922,-68.2232 1173.7478,-58.4228\"/>\n<polygon fill=\"#000000\" stroke=\"#000000\" points=\"1175.9585,-61.183 1182.8022,-53.095 1172.4086,-55.1499 1175.9585,-61.183\"/>\n</g>\n<!-- 17 -->\n<g id=\"node18\" class=\"node\">\n<title>17</title>\n<polygon fill=\"#e58139\" fill-opacity=\"0.701961\" stroke=\"#000000\" points=\"1716,-261 1564,-261 1564,-193 1716,-193 1716,-261\"/>\n<text text-anchor=\"middle\" x=\"1640\" y=\"-245.8\" font-family=\"Times,serif\" font-size=\"14.00\" fill=\"#000000\">Inspection Type &lt;= 6.5</text>\n<text text-anchor=\"middle\" x=\"1640\" y=\"-230.8\" font-family=\"Times,serif\" font-size=\"14.00\" fill=\"#000000\">samples = 7.8%</text>\n<text text-anchor=\"middle\" x=\"1640\" y=\"-215.8\" font-family=\"Times,serif\" font-size=\"14.00\" fill=\"#000000\">value = [0.771, 0.229]</text>\n<text text-anchor=\"middle\" x=\"1640\" y=\"-200.8\" font-family=\"Times,serif\" font-size=\"14.00\" fill=\"#000000\">class = Fail</text>\n</g>\n<!-- 16&#45;&gt;17 -->\n<g id=\"edge17\" class=\"edge\">\n<title>16&#45;&gt;17</title>\n<path fill=\"none\" stroke=\"#000000\" d=\"M1640,-296.9465C1640,-288.776 1640,-279.9318 1640,-271.3697\"/>\n<polygon fill=\"#000000\" stroke=\"#000000\" points=\"1643.5001,-271.13 1640,-261.13 1636.5001,-271.13 1643.5001,-271.13\"/>\n</g>\n<!-- 24 -->\n<g id=\"node25\" class=\"node\">\n<title>24</title>\n<polygon fill=\"#e58139\" fill-opacity=\"0.258824\" stroke=\"#000000\" points=\"2208,-261 2056,-261 2056,-193 2208,-193 2208,-261\"/>\n<text text-anchor=\"middle\" x=\"2132\" y=\"-245.8\" font-family=\"Times,serif\" font-size=\"14.00\" fill=\"#000000\">Inspection Type &lt;= 6.5</text>\n<text text-anchor=\"middle\" x=\"2132\" y=\"-230.8\" font-family=\"Times,serif\" font-size=\"14.00\" fill=\"#000000\">samples = 23.4%</text>\n<text text-anchor=\"middle\" x=\"2132\" y=\"-215.8\" font-family=\"Times,serif\" font-size=\"14.00\" fill=\"#000000\">value = [0.575, 0.425]</text>\n<text text-anchor=\"middle\" x=\"2132\" y=\"-200.8\" font-family=\"Times,serif\" font-size=\"14.00\" fill=\"#000000\">class = Fail</text>\n</g>\n<!-- 16&#45;&gt;24 -->\n<g id=\"edge24\" class=\"edge\">\n<title>16&#45;&gt;24</title>\n<path fill=\"none\" stroke=\"#000000\" d=\"M1713.6574,-315.4301C1802.5019,-296.65 1951.6172,-265.1297 2045.7482,-245.2321\"/>\n<polygon fill=\"#000000\" stroke=\"#000000\" points=\"2046.7533,-248.5971 2055.8132,-243.1045 2045.3056,-241.7484 2046.7533,-248.5971\"/>\n</g>\n<!-- 18 -->\n<g id=\"node19\" class=\"node\">\n<title>18</title>\n<polygon fill=\"#e58139\" fill-opacity=\"0.650980\" stroke=\"#000000\" points=\"1628.5,-157 1481.5,-157 1481.5,-89 1628.5,-89 1628.5,-157\"/>\n<text text-anchor=\"middle\" x=\"1555\" y=\"-141.8\" font-family=\"Times,serif\" font-size=\"14.00\" fill=\"#000000\">Facility Type &lt;= 5.5</text>\n<text text-anchor=\"middle\" x=\"1555\" y=\"-126.8\" font-family=\"Times,serif\" font-size=\"14.00\" fill=\"#000000\">samples = 5.5%</text>\n<text text-anchor=\"middle\" x=\"1555\" y=\"-111.8\" font-family=\"Times,serif\" font-size=\"14.00\" fill=\"#000000\">value = [0.742, 0.258]</text>\n<text text-anchor=\"middle\" x=\"1555\" y=\"-96.8\" font-family=\"Times,serif\" font-size=\"14.00\" fill=\"#000000\">class = Fail</text>\n</g>\n<!-- 17&#45;&gt;18 -->\n<g id=\"edge18\" class=\"edge\">\n<title>17&#45;&gt;18</title>\n<path fill=\"none\" stroke=\"#000000\" d=\"M1612.1678,-192.9465C1604.903,-184.0578 1596.9864,-174.3716 1589.424,-165.1188\"/>\n<polygon fill=\"#000000\" stroke=\"#000000\" points=\"1591.9331,-162.658 1582.8947,-157.13 1586.513,-167.0878 1591.9331,-162.658\"/>\n</g>\n<!-- 21 -->\n<g id=\"node22\" class=\"node\">\n<title>21</title>\n<polygon fill=\"#e58139\" fill-opacity=\"0.811765\" stroke=\"#000000\" points=\"1805,-157 1647,-157 1647,-89 1805,-89 1805,-157\"/>\n<text text-anchor=\"middle\" x=\"1726\" y=\"-141.8\" font-family=\"Times,serif\" font-size=\"14.00\" fill=\"#000000\">Inspection Type &lt;= 11.5</text>\n<text text-anchor=\"middle\" x=\"1726\" y=\"-126.8\" font-family=\"Times,serif\" font-size=\"14.00\" fill=\"#000000\">samples = 2.2%</text>\n<text text-anchor=\"middle\" x=\"1726\" y=\"-111.8\" font-family=\"Times,serif\" font-size=\"14.00\" fill=\"#000000\">value = [0.842, 0.158]</text>\n<text text-anchor=\"middle\" x=\"1726\" y=\"-96.8\" font-family=\"Times,serif\" font-size=\"14.00\" fill=\"#000000\">class = Fail</text>\n</g>\n<!-- 17&#45;&gt;21 -->\n<g id=\"edge21\" class=\"edge\">\n<title>17&#45;&gt;21</title>\n<path fill=\"none\" stroke=\"#000000\" d=\"M1668.1596,-192.9465C1675.5842,-183.968 1683.6815,-174.1758 1691.4028,-164.8385\"/>\n<polygon fill=\"#000000\" stroke=\"#000000\" points=\"1694.1017,-167.0669 1697.7771,-157.13 1688.7072,-162.606 1694.1017,-167.0669\"/>\n</g>\n<!-- 19 -->\n<g id=\"node20\" class=\"node\">\n<title>19</title>\n<polygon fill=\"#e58139\" fill-opacity=\"0.603922\" stroke=\"#000000\" points=\"1466.5,-53 1319.5,-53 1319.5,0 1466.5,0 1466.5,-53\"/>\n<text text-anchor=\"middle\" x=\"1393\" y=\"-37.8\" font-family=\"Times,serif\" font-size=\"14.00\" fill=\"#000000\">samples = 4.1%</text>\n<text text-anchor=\"middle\" x=\"1393\" y=\"-22.8\" font-family=\"Times,serif\" font-size=\"14.00\" fill=\"#000000\">value = [0.717, 0.283]</text>\n<text text-anchor=\"middle\" x=\"1393\" y=\"-7.8\" font-family=\"Times,serif\" font-size=\"14.00\" fill=\"#000000\">class = Fail</text>\n</g>\n<!-- 18&#45;&gt;19 -->\n<g id=\"edge19\" class=\"edge\">\n<title>18&#45;&gt;19</title>\n<path fill=\"none\" stroke=\"#000000\" d=\"M1497.8849,-88.9777C1481.2059,-79.0424 1463.0431,-68.2232 1446.5906,-58.4228\"/>\n<polygon fill=\"#000000\" stroke=\"#000000\" points=\"1448.029,-55.2058 1437.6466,-53.095 1444.4467,-61.2197 1448.029,-55.2058\"/>\n</g>\n<!-- 20 -->\n<g id=\"node21\" class=\"node\">\n<title>20</title>\n<polygon fill=\"#e58139\" fill-opacity=\"0.772549\" stroke=\"#000000\" points=\"1631.5,-53 1484.5,-53 1484.5,0 1631.5,0 1631.5,-53\"/>\n<text text-anchor=\"middle\" x=\"1558\" y=\"-37.8\" font-family=\"Times,serif\" font-size=\"14.00\" fill=\"#000000\">samples = 1.4%</text>\n<text text-anchor=\"middle\" x=\"1558\" y=\"-22.8\" font-family=\"Times,serif\" font-size=\"14.00\" fill=\"#000000\">value = [0.815, 0.185]</text>\n<text text-anchor=\"middle\" x=\"1558\" y=\"-7.8\" font-family=\"Times,serif\" font-size=\"14.00\" fill=\"#000000\">class = Fail</text>\n</g>\n<!-- 18&#45;&gt;20 -->\n<g id=\"edge20\" class=\"edge\">\n<title>18&#45;&gt;20</title>\n<path fill=\"none\" stroke=\"#000000\" d=\"M1556.0577,-88.9777C1556.3139,-80.7364 1556.589,-71.887 1556.8493,-63.5153\"/>\n<polygon fill=\"#000000\" stroke=\"#000000\" points=\"1560.3559,-63.3524 1557.1684,-53.2485 1553.3593,-63.1349 1560.3559,-63.3524\"/>\n</g>\n<!-- 22 -->\n<g id=\"node23\" class=\"node\">\n<title>22</title>\n<polygon fill=\"#e58139\" fill-opacity=\"0.929412\" stroke=\"#000000\" points=\"1796.5,-53 1649.5,-53 1649.5,0 1796.5,0 1796.5,-53\"/>\n<text text-anchor=\"middle\" x=\"1723\" y=\"-37.8\" font-family=\"Times,serif\" font-size=\"14.00\" fill=\"#000000\">samples = 1.6%</text>\n<text text-anchor=\"middle\" x=\"1723\" y=\"-22.8\" font-family=\"Times,serif\" font-size=\"14.00\" fill=\"#000000\">value = [0.934, 0.066]</text>\n<text text-anchor=\"middle\" x=\"1723\" y=\"-7.8\" font-family=\"Times,serif\" font-size=\"14.00\" fill=\"#000000\">class = Fail</text>\n</g>\n<!-- 21&#45;&gt;22 -->\n<g id=\"edge22\" class=\"edge\">\n<title>21&#45;&gt;22</title>\n<path fill=\"none\" stroke=\"#000000\" d=\"M1724.9423,-88.9777C1724.6861,-80.7364 1724.411,-71.887 1724.1507,-63.5153\"/>\n<polygon fill=\"#000000\" stroke=\"#000000\" points=\"1727.6407,-63.1349 1723.8316,-53.2485 1720.6441,-63.3524 1727.6407,-63.1349\"/>\n</g>\n<!-- 23 -->\n<g id=\"node24\" class=\"node\">\n<title>23</title>\n<polygon fill=\"#e58139\" fill-opacity=\"0.423529\" stroke=\"#000000\" points=\"1961.5,-53 1814.5,-53 1814.5,0 1961.5,0 1961.5,-53\"/>\n<text text-anchor=\"middle\" x=\"1888\" y=\"-37.8\" font-family=\"Times,serif\" font-size=\"14.00\" fill=\"#000000\">samples = 0.7%</text>\n<text text-anchor=\"middle\" x=\"1888\" y=\"-22.8\" font-family=\"Times,serif\" font-size=\"14.00\" fill=\"#000000\">value = [0.634, 0.366]</text>\n<text text-anchor=\"middle\" x=\"1888\" y=\"-7.8\" font-family=\"Times,serif\" font-size=\"14.00\" fill=\"#000000\">class = Fail</text>\n</g>\n<!-- 21&#45;&gt;23 -->\n<g id=\"edge23\" class=\"edge\">\n<title>21&#45;&gt;23</title>\n<path fill=\"none\" stroke=\"#000000\" d=\"M1783.1151,-88.9777C1799.7941,-79.0424 1817.9569,-68.2232 1834.4094,-58.4228\"/>\n<polygon fill=\"#000000\" stroke=\"#000000\" points=\"1836.5533,-61.2197 1843.3534,-53.095 1832.971,-55.2058 1836.5533,-61.2197\"/>\n</g>\n<!-- 25 -->\n<g id=\"node26\" class=\"node\">\n<title>25</title>\n<polygon fill=\"#e58139\" fill-opacity=\"0.145098\" stroke=\"#000000\" points=\"2205.5,-157 2058.5,-157 2058.5,-89 2205.5,-89 2205.5,-157\"/>\n<text text-anchor=\"middle\" x=\"2132\" y=\"-141.8\" font-family=\"Times,serif\" font-size=\"14.00\" fill=\"#000000\">Risk &lt;= 1.5</text>\n<text text-anchor=\"middle\" x=\"2132\" y=\"-126.8\" font-family=\"Times,serif\" font-size=\"14.00\" fill=\"#000000\">samples = 19.1%</text>\n<text text-anchor=\"middle\" x=\"2132\" y=\"-111.8\" font-family=\"Times,serif\" font-size=\"14.00\" fill=\"#000000\">value = [0.539, 0.461]</text>\n<text text-anchor=\"middle\" x=\"2132\" y=\"-96.8\" font-family=\"Times,serif\" font-size=\"14.00\" fill=\"#000000\">class = Fail</text>\n</g>\n<!-- 24&#45;&gt;25 -->\n<g id=\"edge25\" class=\"edge\">\n<title>24&#45;&gt;25</title>\n<path fill=\"none\" stroke=\"#000000\" d=\"M2132,-192.9465C2132,-184.776 2132,-175.9318 2132,-167.3697\"/>\n<polygon fill=\"#000000\" stroke=\"#000000\" points=\"2135.5001,-167.13 2132,-157.13 2128.5001,-167.13 2135.5001,-167.13\"/>\n</g>\n<!-- 28 -->\n<g id=\"node29\" class=\"node\">\n<title>28</title>\n<polygon fill=\"#e58139\" fill-opacity=\"0.643137\" stroke=\"#000000\" points=\"2462.5,-157 2303.5,-157 2303.5,-89 2462.5,-89 2462.5,-157\"/>\n<text text-anchor=\"middle\" x=\"2383\" y=\"-141.8\" font-family=\"Times,serif\" font-size=\"14.00\" fill=\"#000000\">Inspection Type &lt;= 12.5</text>\n<text text-anchor=\"middle\" x=\"2383\" y=\"-126.8\" font-family=\"Times,serif\" font-size=\"14.00\" fill=\"#000000\">samples = 4.3%</text>\n<text text-anchor=\"middle\" x=\"2383\" y=\"-111.8\" font-family=\"Times,serif\" font-size=\"14.00\" fill=\"#000000\">value = [0.737, 0.263]</text>\n<text text-anchor=\"middle\" x=\"2383\" y=\"-96.8\" font-family=\"Times,serif\" font-size=\"14.00\" fill=\"#000000\">class = Fail</text>\n</g>\n<!-- 24&#45;&gt;28 -->\n<g id=\"edge28\" class=\"edge\">\n<title>24&#45;&gt;28</title>\n<path fill=\"none\" stroke=\"#000000\" d=\"M2208.3306,-195.373C2235.2835,-184.2052 2265.8304,-171.5484 2293.7571,-159.9771\"/>\n<polygon fill=\"#000000\" stroke=\"#000000\" points=\"2295.2199,-163.1596 2303.1185,-156.0983 2292.5404,-156.6928 2295.2199,-163.1596\"/>\n</g>\n<!-- 26 -->\n<g id=\"node27\" class=\"node\">\n<title>26</title>\n<polygon fill=\"#e58139\" fill-opacity=\"0.231373\" stroke=\"#000000\" points=\"2126.5,-53 1979.5,-53 1979.5,0 2126.5,0 2126.5,-53\"/>\n<text text-anchor=\"middle\" x=\"2053\" y=\"-37.8\" font-family=\"Times,serif\" font-size=\"14.00\" fill=\"#000000\">samples = 12.6%</text>\n<text text-anchor=\"middle\" x=\"2053\" y=\"-22.8\" font-family=\"Times,serif\" font-size=\"14.00\" fill=\"#000000\">value = [0.565, 0.435]</text>\n<text text-anchor=\"middle\" x=\"2053\" y=\"-7.8\" font-family=\"Times,serif\" font-size=\"14.00\" fill=\"#000000\">class = Fail</text>\n</g>\n<!-- 25&#45;&gt;26 -->\n<g id=\"edge26\" class=\"edge\">\n<title>25&#45;&gt;26</title>\n<path fill=\"none\" stroke=\"#000000\" d=\"M2104.1476,-88.9777C2096.7261,-79.9123 2088.7023,-70.111 2081.2593,-61.0192\"/>\n<polygon fill=\"#000000\" stroke=\"#000000\" points=\"2083.9405,-58.7692 2074.8977,-53.2485 2078.5241,-63.2034 2083.9405,-58.7692\"/>\n</g>\n<!-- 27 -->\n<g id=\"node28\" class=\"node\">\n<title>27</title>\n<polygon fill=\"#399de5\" fill-opacity=\"0.047059\" stroke=\"#000000\" points=\"2291.5,-53 2144.5,-53 2144.5,0 2291.5,0 2291.5,-53\"/>\n<text text-anchor=\"middle\" x=\"2218\" y=\"-37.8\" font-family=\"Times,serif\" font-size=\"14.00\" fill=\"#000000\">samples = 6.5%</text>\n<text text-anchor=\"middle\" x=\"2218\" y=\"-22.8\" font-family=\"Times,serif\" font-size=\"14.00\" fill=\"#000000\">value = [0.488, 0.512]</text>\n<text text-anchor=\"middle\" x=\"2218\" y=\"-7.8\" font-family=\"Times,serif\" font-size=\"14.00\" fill=\"#000000\">class = Pass</text>\n</g>\n<!-- 25&#45;&gt;27 -->\n<g id=\"edge27\" class=\"edge\">\n<title>25&#45;&gt;27</title>\n<path fill=\"none\" stroke=\"#000000\" d=\"M2162.3204,-88.9777C2170.481,-79.8207 2179.3108,-69.9129 2187.4821,-60.744\"/>\n<polygon fill=\"#000000\" stroke=\"#000000\" points=\"2190.1217,-63.0427 2194.162,-53.2485 2184.8958,-58.3854 2190.1217,-63.0427\"/>\n</g>\n<!-- 29 -->\n<g id=\"node30\" class=\"node\">\n<title>29</title>\n<polygon fill=\"#e58139\" fill-opacity=\"0.721569\" stroke=\"#000000\" points=\"2456.5,-53 2309.5,-53 2309.5,0 2456.5,0 2456.5,-53\"/>\n<text text-anchor=\"middle\" x=\"2383\" y=\"-37.8\" font-family=\"Times,serif\" font-size=\"14.00\" fill=\"#000000\">samples = 3.4%</text>\n<text text-anchor=\"middle\" x=\"2383\" y=\"-22.8\" font-family=\"Times,serif\" font-size=\"14.00\" fill=\"#000000\">value = [0.782, 0.218]</text>\n<text text-anchor=\"middle\" x=\"2383\" y=\"-7.8\" font-family=\"Times,serif\" font-size=\"14.00\" fill=\"#000000\">class = Fail</text>\n</g>\n<!-- 28&#45;&gt;29 -->\n<g id=\"edge29\" class=\"edge\">\n<title>28&#45;&gt;29</title>\n<path fill=\"none\" stroke=\"#000000\" d=\"M2383,-88.9777C2383,-80.7364 2383,-71.887 2383,-63.5153\"/>\n<polygon fill=\"#000000\" stroke=\"#000000\" points=\"2386.5001,-63.2484 2383,-53.2485 2379.5001,-63.2485 2386.5001,-63.2484\"/>\n</g>\n<!-- 30 -->\n<g id=\"node31\" class=\"node\">\n<title>30</title>\n<polygon fill=\"#e58139\" fill-opacity=\"0.196078\" stroke=\"#000000\" points=\"2621.5,-53 2474.5,-53 2474.5,0 2621.5,0 2621.5,-53\"/>\n<text text-anchor=\"middle\" x=\"2548\" y=\"-37.8\" font-family=\"Times,serif\" font-size=\"14.00\" fill=\"#000000\">samples = 0.8%</text>\n<text text-anchor=\"middle\" x=\"2548\" y=\"-22.8\" font-family=\"Times,serif\" font-size=\"14.00\" fill=\"#000000\">value = [0.554, 0.446]</text>\n<text text-anchor=\"middle\" x=\"2548\" y=\"-7.8\" font-family=\"Times,serif\" font-size=\"14.00\" fill=\"#000000\">class = Fail</text>\n</g>\n<!-- 28&#45;&gt;30 -->\n<g id=\"edge30\" class=\"edge\">\n<title>28&#45;&gt;30</title>\n<path fill=\"none\" stroke=\"#000000\" d=\"M2441.1728,-88.9777C2458.318,-78.9504 2477.0025,-68.0228 2493.882,-58.1508\"/>\n<polygon fill=\"#000000\" stroke=\"#000000\" points=\"2495.6615,-61.1648 2502.5266,-53.095 2492.1276,-55.1223 2495.6615,-61.1648\"/>\n</g>\n</g>\n</svg>\n"
          },
          "metadata": {
            "tags": []
          },
          "execution_count": 263
        }
      ]
    },
    {
      "cell_type": "markdown",
      "metadata": {
        "id": "FDVuZGureLc0",
        "colab_type": "text"
      },
      "source": [
        "- Inspection type seems to be the leakage feature as well as violation but the risk doesn't show up as previously anticipated. "
      ]
    },
    {
      "cell_type": "markdown",
      "metadata": {
        "id": "4k-JhNQ7eec-",
        "colab_type": "text"
      },
      "source": [
        "###Let's drop the inspection type feature and let's see if the roc_auc score drops. "
      ]
    },
    {
      "cell_type": "code",
      "metadata": {
        "id": "wtIJmVyPej1F",
        "colab_type": "code",
        "colab": {}
      },
      "source": [
        "X_train = X_train.drop(columns = 'Inspection Type')\n",
        "\n",
        "X_test1 = X_test.drop(columns = 'Inspection Type')"
      ],
      "execution_count": 0,
      "outputs": []
    },
    {
      "cell_type": "code",
      "metadata": {
        "id": "igjCiZYz7YaX",
        "colab_type": "code",
        "colab": {
          "base_uri": "https://localhost:8080/",
          "height": 195
        },
        "outputId": "8bd027d8-70b9-4fec-f8b4-239670fa3a78"
      },
      "source": [
        "X_train1.head()"
      ],
      "execution_count": 285,
      "outputs": [
        {
          "output_type": "execute_result",
          "data": {
            "text/html": [
              "<div>\n",
              "<style scoped>\n",
              "    .dataframe tbody tr th:only-of-type {\n",
              "        vertical-align: middle;\n",
              "    }\n",
              "\n",
              "    .dataframe tbody tr th {\n",
              "        vertical-align: top;\n",
              "    }\n",
              "\n",
              "    .dataframe thead th {\n",
              "        text-align: right;\n",
              "    }\n",
              "</style>\n",
              "<table border=\"1\" class=\"dataframe\">\n",
              "  <thead>\n",
              "    <tr style=\"text-align: right;\">\n",
              "      <th></th>\n",
              "      <th>DBA Name</th>\n",
              "      <th>Facility Type</th>\n",
              "      <th>Risk</th>\n",
              "      <th>Inspection Date</th>\n",
              "      <th>Violations</th>\n",
              "    </tr>\n",
              "  </thead>\n",
              "  <tbody>\n",
              "    <tr>\n",
              "      <th>0</th>\n",
              "      <td>1</td>\n",
              "      <td>1</td>\n",
              "      <td>1</td>\n",
              "      <td>1</td>\n",
              "      <td>1</td>\n",
              "    </tr>\n",
              "    <tr>\n",
              "      <th>1</th>\n",
              "      <td>2</td>\n",
              "      <td>2</td>\n",
              "      <td>2</td>\n",
              "      <td>2</td>\n",
              "      <td>2</td>\n",
              "    </tr>\n",
              "    <tr>\n",
              "      <th>2</th>\n",
              "      <td>3</td>\n",
              "      <td>1</td>\n",
              "      <td>1</td>\n",
              "      <td>3</td>\n",
              "      <td>3</td>\n",
              "    </tr>\n",
              "    <tr>\n",
              "      <th>3</th>\n",
              "      <td>4</td>\n",
              "      <td>1</td>\n",
              "      <td>3</td>\n",
              "      <td>4</td>\n",
              "      <td>4</td>\n",
              "    </tr>\n",
              "    <tr>\n",
              "      <th>4</th>\n",
              "      <td>5</td>\n",
              "      <td>3</td>\n",
              "      <td>1</td>\n",
              "      <td>5</td>\n",
              "      <td>5</td>\n",
              "    </tr>\n",
              "  </tbody>\n",
              "</table>\n",
              "</div>"
            ],
            "text/plain": [
              "   DBA Name  Facility Type  Risk  Inspection Date  Violations\n",
              "0         1              1     1                1           1\n",
              "1         2              2     2                2           2\n",
              "2         3              1     1                3           3\n",
              "3         4              1     3                4           4\n",
              "4         5              3     1                5           5"
            ]
          },
          "metadata": {
            "tags": []
          },
          "execution_count": 285
        }
      ]
    },
    {
      "cell_type": "code",
      "metadata": {
        "id": "4wegymYhepyO",
        "colab_type": "code",
        "colab": {
          "base_uri": "https://localhost:8080/",
          "height": 34
        },
        "outputId": "d92cf228-1851-433d-e4dd-def984d98aa3"
      },
      "source": [
        "pipeline = make_pipeline(\n",
        "    StandardScaler(),\n",
        "    DecisionTreeClassifier(max_depth = 3)\n",
        ")\n",
        "\n",
        "pipeline.fit(X_train1, y_train)\n",
        "y_pred_proba = pipeline.predict_proba(X_train1)[:, 1]\n",
        "\n",
        "roc_auc_score = roc_auc_score(y_train, y_pred_proba)\n",
        "\n",
        "print('ROC_AUC Sscore without Inspection Type is:', roc_auc_score)"
      ],
      "execution_count": 300,
      "outputs": [
        {
          "output_type": "stream",
          "text": [
            "ROC_AUC Sscore without Inspection Type is: 0.6016251607059695\n"
          ],
          "name": "stdout"
        }
      ]
    },
    {
      "cell_type": "code",
      "metadata": {
        "id": "RGGWs_nTfGAM",
        "colab_type": "code",
        "colab": {
          "base_uri": "https://localhost:8080/",
          "height": 118
        },
        "outputId": "9dc5c614-9d87-4d03-b629-5bdf62f4eee3"
      },
      "source": [
        "tree = DecisionTreeClassifier(max_depth =4)\n",
        "tree.fit(X_train1,y_train)"
      ],
      "execution_count": 266,
      "outputs": [
        {
          "output_type": "execute_result",
          "data": {
            "text/plain": [
              "DecisionTreeClassifier(class_weight=None, criterion='gini', max_depth=4,\n",
              "            max_features=None, max_leaf_nodes=None,\n",
              "            min_impurity_decrease=0.0, min_impurity_split=None,\n",
              "            min_samples_leaf=1, min_samples_split=2,\n",
              "            min_weight_fraction_leaf=0.0, presort=False, random_state=None,\n",
              "            splitter='best')"
            ]
          },
          "metadata": {
            "tags": []
          },
          "execution_count": 266
        }
      ]
    },
    {
      "cell_type": "code",
      "metadata": {
        "id": "-ss1nwZjfLGc",
        "colab_type": "code",
        "colab": {
          "base_uri": "https://localhost:8080/",
          "height": 677
        },
        "outputId": "ceef6187-9c1f-4082-f074-b30b418d170f"
      },
      "source": [
        "dot_data = export_graphviz(tree, out_file=None, feature_names=X_train1.columns, \n",
        "                           class_names=['No', 'Yes'], filled=True, impurity=False, proportion=True)\n",
        "\n",
        "graphviz.Source(dot_data)"
      ],
      "execution_count": 267,
      "outputs": [
        {
          "output_type": "execute_result",
          "data": {
            "text/plain": [
              "<graphviz.files.Source at 0x7fb8494694a8>"
            ],
            "image/svg+xml": "<?xml version=\"1.0\" encoding=\"UTF-8\" standalone=\"no\"?>\n<!DOCTYPE svg PUBLIC \"-//W3C//DTD SVG 1.1//EN\"\n \"http://www.w3.org/Graphics/SVG/1.1/DTD/svg11.dtd\">\n<!-- Generated by graphviz version 2.40.1 (20161225.0304)\n -->\n<!-- Title: Tree Pages: 1 -->\n<svg width=\"2240pt\" height=\"477pt\"\n viewBox=\"0.00 0.00 2240.00 477.00\" xmlns=\"http://www.w3.org/2000/svg\" xmlns:xlink=\"http://www.w3.org/1999/xlink\">\n<g id=\"graph0\" class=\"graph\" transform=\"scale(1 1) rotate(0) translate(4 473)\">\n<title>Tree</title>\n<polygon fill=\"#ffffff\" stroke=\"transparent\" points=\"-4,4 -4,-473 2236,-473 2236,4 -4,4\"/>\n<!-- 0 -->\n<g id=\"node1\" class=\"node\">\n<title>0</title>\n<polygon fill=\"#e58139\" fill-opacity=\"0.650980\" stroke=\"#000000\" points=\"955,-469 808,-469 808,-401 955,-401 955,-469\"/>\n<text text-anchor=\"middle\" x=\"881.5\" y=\"-453.8\" font-family=\"Times,serif\" font-size=\"14.00\" fill=\"#000000\">Violations &lt;= 15.5</text>\n<text text-anchor=\"middle\" x=\"881.5\" y=\"-438.8\" font-family=\"Times,serif\" font-size=\"14.00\" fill=\"#000000\">samples = 100.0%</text>\n<text text-anchor=\"middle\" x=\"881.5\" y=\"-423.8\" font-family=\"Times,serif\" font-size=\"14.00\" fill=\"#000000\">value = [0.741, 0.259]</text>\n<text text-anchor=\"middle\" x=\"881.5\" y=\"-408.8\" font-family=\"Times,serif\" font-size=\"14.00\" fill=\"#000000\">class = No</text>\n</g>\n<!-- 1 -->\n<g id=\"node2\" class=\"node\">\n<title>1</title>\n<polygon fill=\"#e58139\" fill-opacity=\"0.870588\" stroke=\"#000000\" points=\"725.5,-365 579.5,-365 579.5,-297 725.5,-297 725.5,-365\"/>\n<text text-anchor=\"middle\" x=\"652.5\" y=\"-349.8\" font-family=\"Times,serif\" font-size=\"14.00\" fill=\"#000000\">Facility Type &lt;= 25.5</text>\n<text text-anchor=\"middle\" x=\"652.5\" y=\"-334.8\" font-family=\"Times,serif\" font-size=\"14.00\" fill=\"#000000\">samples = 18.6%</text>\n<text text-anchor=\"middle\" x=\"652.5\" y=\"-319.8\" font-family=\"Times,serif\" font-size=\"14.00\" fill=\"#000000\">value = [0.886, 0.114]</text>\n<text text-anchor=\"middle\" x=\"652.5\" y=\"-304.8\" font-family=\"Times,serif\" font-size=\"14.00\" fill=\"#000000\">class = No</text>\n</g>\n<!-- 0&#45;&gt;1 -->\n<g id=\"edge1\" class=\"edge\">\n<title>0&#45;&gt;1</title>\n<path fill=\"none\" stroke=\"#000000\" d=\"M807.7824,-401.5213C784.5815,-390.9846 758.8108,-379.2809 735.0382,-368.4846\"/>\n<polygon fill=\"#000000\" stroke=\"#000000\" points=\"736.2399,-365.1864 725.6876,-364.238 733.3454,-371.5599 736.2399,-365.1864\"/>\n<text text-anchor=\"middle\" x=\"734.4734\" y=\"-383.9434\" font-family=\"Times,serif\" font-size=\"14.00\" fill=\"#000000\">True</text>\n</g>\n<!-- 14 -->\n<g id=\"node15\" class=\"node\">\n<title>14</title>\n<polygon fill=\"#e58139\" fill-opacity=\"0.588235\" stroke=\"#000000\" points=\"1354,-365 1207,-365 1207,-297 1354,-297 1354,-365\"/>\n<text text-anchor=\"middle\" x=\"1280.5\" y=\"-349.8\" font-family=\"Times,serif\" font-size=\"14.00\" fill=\"#000000\">Risk &lt;= 1.5</text>\n<text text-anchor=\"middle\" x=\"1280.5\" y=\"-334.8\" font-family=\"Times,serif\" font-size=\"14.00\" fill=\"#000000\">samples = 81.4%</text>\n<text text-anchor=\"middle\" x=\"1280.5\" y=\"-319.8\" font-family=\"Times,serif\" font-size=\"14.00\" fill=\"#000000\">value = [0.708, 0.292]</text>\n<text text-anchor=\"middle\" x=\"1280.5\" y=\"-304.8\" font-family=\"Times,serif\" font-size=\"14.00\" fill=\"#000000\">class = No</text>\n</g>\n<!-- 0&#45;&gt;14 -->\n<g id=\"edge14\" class=\"edge\">\n<title>0&#45;&gt;14</title>\n<path fill=\"none\" stroke=\"#000000\" d=\"M955.1477,-415.8036C1023.6438,-397.95 1125.5939,-371.3765 1197.0681,-352.7467\"/>\n<polygon fill=\"#000000\" stroke=\"#000000\" points=\"1198.1506,-356.0815 1206.9445,-350.1724 1196.385,-349.3078 1198.1506,-356.0815\"/>\n<text text-anchor=\"middle\" x=\"1194.2971\" y=\"-368.0372\" font-family=\"Times,serif\" font-size=\"14.00\" fill=\"#000000\">False</text>\n</g>\n<!-- 2 -->\n<g id=\"node3\" class=\"node\">\n<title>2</title>\n<polygon fill=\"#e58139\" fill-opacity=\"0.886275\" stroke=\"#000000\" points=\"471,-261 324,-261 324,-193 471,-193 471,-261\"/>\n<text text-anchor=\"middle\" x=\"397.5\" y=\"-245.8\" font-family=\"Times,serif\" font-size=\"14.00\" fill=\"#000000\">Risk &lt;= 3.5</text>\n<text text-anchor=\"middle\" x=\"397.5\" y=\"-230.8\" font-family=\"Times,serif\" font-size=\"14.00\" fill=\"#000000\">samples = 17.5%</text>\n<text text-anchor=\"middle\" x=\"397.5\" y=\"-215.8\" font-family=\"Times,serif\" font-size=\"14.00\" fill=\"#000000\">value = [0.897, 0.103]</text>\n<text text-anchor=\"middle\" x=\"397.5\" y=\"-200.8\" font-family=\"Times,serif\" font-size=\"14.00\" fill=\"#000000\">class = No</text>\n</g>\n<!-- 1&#45;&gt;2 -->\n<g id=\"edge2\" class=\"edge\">\n<title>1&#45;&gt;2</title>\n<path fill=\"none\" stroke=\"#000000\" d=\"M579.4272,-301.1978C548.4849,-288.5782 512.2777,-273.8113 480.347,-260.7886\"/>\n<polygon fill=\"#000000\" stroke=\"#000000\" points=\"481.6066,-257.5225 471.0253,-256.9868 478.9631,-264.0041 481.6066,-257.5225\"/>\n</g>\n<!-- 7 -->\n<g id=\"node8\" class=\"node\">\n<title>7</title>\n<polygon fill=\"#e58139\" fill-opacity=\"0.607843\" stroke=\"#000000\" points=\"726,-261 579,-261 579,-193 726,-193 726,-261\"/>\n<text text-anchor=\"middle\" x=\"652.5\" y=\"-245.8\" font-family=\"Times,serif\" font-size=\"14.00\" fill=\"#000000\">Facility Type &lt;= 26.5</text>\n<text text-anchor=\"middle\" x=\"652.5\" y=\"-230.8\" font-family=\"Times,serif\" font-size=\"14.00\" fill=\"#000000\">samples = 1.2%</text>\n<text text-anchor=\"middle\" x=\"652.5\" y=\"-215.8\" font-family=\"Times,serif\" font-size=\"14.00\" fill=\"#000000\">value = [0.717, 0.283]</text>\n<text text-anchor=\"middle\" x=\"652.5\" y=\"-200.8\" font-family=\"Times,serif\" font-size=\"14.00\" fill=\"#000000\">class = No</text>\n</g>\n<!-- 1&#45;&gt;7 -->\n<g id=\"edge7\" class=\"edge\">\n<title>1&#45;&gt;7</title>\n<path fill=\"none\" stroke=\"#000000\" d=\"M652.5,-296.9465C652.5,-288.776 652.5,-279.9318 652.5,-271.3697\"/>\n<polygon fill=\"#000000\" stroke=\"#000000\" points=\"656.0001,-271.13 652.5,-261.13 649.0001,-271.13 656.0001,-271.13\"/>\n</g>\n<!-- 3 -->\n<g id=\"node4\" class=\"node\">\n<title>3</title>\n<polygon fill=\"#e58139\" fill-opacity=\"0.886275\" stroke=\"#000000\" points=\"313,-157 164,-157 164,-89 313,-89 313,-157\"/>\n<text text-anchor=\"middle\" x=\"238.5\" y=\"-141.8\" font-family=\"Times,serif\" font-size=\"14.00\" fill=\"#000000\">DBA Name &lt;= 1023.5</text>\n<text text-anchor=\"middle\" x=\"238.5\" y=\"-126.8\" font-family=\"Times,serif\" font-size=\"14.00\" fill=\"#000000\">samples = 17.5%</text>\n<text text-anchor=\"middle\" x=\"238.5\" y=\"-111.8\" font-family=\"Times,serif\" font-size=\"14.00\" fill=\"#000000\">value = [0.897, 0.103]</text>\n<text text-anchor=\"middle\" x=\"238.5\" y=\"-96.8\" font-family=\"Times,serif\" font-size=\"14.00\" fill=\"#000000\">class = No</text>\n</g>\n<!-- 2&#45;&gt;3 -->\n<g id=\"edge3\" class=\"edge\">\n<title>2&#45;&gt;3</title>\n<path fill=\"none\" stroke=\"#000000\" d=\"M345.4375,-192.9465C330.6125,-183.2497 314.3367,-172.6039 299.0529,-162.6069\"/>\n<polygon fill=\"#000000\" stroke=\"#000000\" points=\"300.9642,-159.6749 290.6795,-157.13 297.1324,-165.533 300.9642,-159.6749\"/>\n</g>\n<!-- 6 -->\n<g id=\"node7\" class=\"node\">\n<title>6</title>\n<polygon fill=\"#399de5\" stroke=\"#000000\" points=\"456,-149.5 339,-149.5 339,-96.5 456,-96.5 456,-149.5\"/>\n<text text-anchor=\"middle\" x=\"397.5\" y=\"-134.3\" font-family=\"Times,serif\" font-size=\"14.00\" fill=\"#000000\">samples = 0.0%</text>\n<text text-anchor=\"middle\" x=\"397.5\" y=\"-119.3\" font-family=\"Times,serif\" font-size=\"14.00\" fill=\"#000000\">value = [0.0, 1.0]</text>\n<text text-anchor=\"middle\" x=\"397.5\" y=\"-104.3\" font-family=\"Times,serif\" font-size=\"14.00\" fill=\"#000000\">class = Yes</text>\n</g>\n<!-- 2&#45;&gt;6 -->\n<g id=\"edge6\" class=\"edge\">\n<title>2&#45;&gt;6</title>\n<path fill=\"none\" stroke=\"#000000\" d=\"M397.5,-192.9465C397.5,-182.2621 397.5,-170.4254 397.5,-159.5742\"/>\n<polygon fill=\"#000000\" stroke=\"#000000\" points=\"401.0001,-159.5421 397.5,-149.5422 394.0001,-159.5422 401.0001,-159.5421\"/>\n</g>\n<!-- 4 -->\n<g id=\"node5\" class=\"node\">\n<title>4</title>\n<polygon fill=\"#e58139\" fill-opacity=\"0.921569\" stroke=\"#000000\" points=\"147,-53 0,-53 0,0 147,0 147,-53\"/>\n<text text-anchor=\"middle\" x=\"73.5\" y=\"-37.8\" font-family=\"Times,serif\" font-size=\"14.00\" fill=\"#000000\">samples = 2.4%</text>\n<text text-anchor=\"middle\" x=\"73.5\" y=\"-22.8\" font-family=\"Times,serif\" font-size=\"14.00\" fill=\"#000000\">value = [0.928, 0.072]</text>\n<text text-anchor=\"middle\" x=\"73.5\" y=\"-7.8\" font-family=\"Times,serif\" font-size=\"14.00\" fill=\"#000000\">class = No</text>\n</g>\n<!-- 3&#45;&gt;4 -->\n<g id=\"edge4\" class=\"edge\">\n<title>3&#45;&gt;4</title>\n<path fill=\"none\" stroke=\"#000000\" d=\"M180.3272,-88.9777C163.182,-78.9504 144.4975,-68.0228 127.618,-58.1508\"/>\n<polygon fill=\"#000000\" stroke=\"#000000\" points=\"129.3724,-55.1223 118.9734,-53.095 125.8385,-61.1648 129.3724,-55.1223\"/>\n</g>\n<!-- 5 -->\n<g id=\"node6\" class=\"node\">\n<title>5</title>\n<polygon fill=\"#e58139\" fill-opacity=\"0.878431\" stroke=\"#000000\" points=\"312,-53 165,-53 165,0 312,0 312,-53\"/>\n<text text-anchor=\"middle\" x=\"238.5\" y=\"-37.8\" font-family=\"Times,serif\" font-size=\"14.00\" fill=\"#000000\">samples = 15.0%</text>\n<text text-anchor=\"middle\" x=\"238.5\" y=\"-22.8\" font-family=\"Times,serif\" font-size=\"14.00\" fill=\"#000000\">value = [0.892, 0.108]</text>\n<text text-anchor=\"middle\" x=\"238.5\" y=\"-7.8\" font-family=\"Times,serif\" font-size=\"14.00\" fill=\"#000000\">class = No</text>\n</g>\n<!-- 3&#45;&gt;5 -->\n<g id=\"edge5\" class=\"edge\">\n<title>3&#45;&gt;5</title>\n<path fill=\"none\" stroke=\"#000000\" d=\"M238.5,-88.9777C238.5,-80.7364 238.5,-71.887 238.5,-63.5153\"/>\n<polygon fill=\"#000000\" stroke=\"#000000\" points=\"242.0001,-63.2484 238.5,-53.2485 235.0001,-63.2485 242.0001,-63.2484\"/>\n</g>\n<!-- 8 -->\n<g id=\"node9\" class=\"node\">\n<title>8</title>\n<polygon fill=\"#399de5\" fill-opacity=\"0.447059\" stroke=\"#000000\" points=\"635,-157 488,-157 488,-89 635,-89 635,-157\"/>\n<text text-anchor=\"middle\" x=\"561.5\" y=\"-141.8\" font-family=\"Times,serif\" font-size=\"14.00\" fill=\"#000000\">Risk &lt;= 1.5</text>\n<text text-anchor=\"middle\" x=\"561.5\" y=\"-126.8\" font-family=\"Times,serif\" font-size=\"14.00\" fill=\"#000000\">samples = 0.4%</text>\n<text text-anchor=\"middle\" x=\"561.5\" y=\"-111.8\" font-family=\"Times,serif\" font-size=\"14.00\" fill=\"#000000\">value = [0.356, 0.644]</text>\n<text text-anchor=\"middle\" x=\"561.5\" y=\"-96.8\" font-family=\"Times,serif\" font-size=\"14.00\" fill=\"#000000\">class = Yes</text>\n</g>\n<!-- 7&#45;&gt;8 -->\n<g id=\"edge8\" class=\"edge\">\n<title>7&#45;&gt;8</title>\n<path fill=\"none\" stroke=\"#000000\" d=\"M622.7032,-192.9465C614.847,-183.968 606.2788,-174.1758 598.1087,-164.8385\"/>\n<polygon fill=\"#000000\" stroke=\"#000000\" points=\"600.5829,-162.351 591.3637,-157.13 595.3148,-166.9606 600.5829,-162.351\"/>\n</g>\n<!-- 11 -->\n<g id=\"node12\" class=\"node\">\n<title>11</title>\n<polygon fill=\"#e58139\" fill-opacity=\"0.870588\" stroke=\"#000000\" points=\"802,-157 653,-157 653,-89 802,-89 802,-157\"/>\n<text text-anchor=\"middle\" x=\"727.5\" y=\"-141.8\" font-family=\"Times,serif\" font-size=\"14.00\" fill=\"#000000\">Inspection Date &lt;= 7.5</text>\n<text text-anchor=\"middle\" x=\"727.5\" y=\"-126.8\" font-family=\"Times,serif\" font-size=\"14.00\" fill=\"#000000\">samples = 0.8%</text>\n<text text-anchor=\"middle\" x=\"727.5\" y=\"-111.8\" font-family=\"Times,serif\" font-size=\"14.00\" fill=\"#000000\">value = [0.884, 0.116]</text>\n<text text-anchor=\"middle\" x=\"727.5\" y=\"-96.8\" font-family=\"Times,serif\" font-size=\"14.00\" fill=\"#000000\">class = No</text>\n</g>\n<!-- 7&#45;&gt;11 -->\n<g id=\"edge11\" class=\"edge\">\n<title>7&#45;&gt;11</title>\n<path fill=\"none\" stroke=\"#000000\" d=\"M677.0578,-192.9465C683.4032,-184.1475 690.3121,-174.5672 696.9236,-165.3993\"/>\n<polygon fill=\"#000000\" stroke=\"#000000\" points=\"699.8766,-167.2882 702.887,-157.13 694.1989,-163.1937 699.8766,-167.2882\"/>\n</g>\n<!-- 9 -->\n<g id=\"node10\" class=\"node\">\n<title>9</title>\n<polygon fill=\"#399de5\" fill-opacity=\"0.172549\" stroke=\"#000000\" points=\"477,-53 330,-53 330,0 477,0 477,-53\"/>\n<text text-anchor=\"middle\" x=\"403.5\" y=\"-37.8\" font-family=\"Times,serif\" font-size=\"14.00\" fill=\"#000000\">samples = 0.2%</text>\n<text text-anchor=\"middle\" x=\"403.5\" y=\"-22.8\" font-family=\"Times,serif\" font-size=\"14.00\" fill=\"#000000\">value = [0.453, 0.547]</text>\n<text text-anchor=\"middle\" x=\"403.5\" y=\"-7.8\" font-family=\"Times,serif\" font-size=\"14.00\" fill=\"#000000\">class = Yes</text>\n</g>\n<!-- 8&#45;&gt;9 -->\n<g id=\"edge9\" class=\"edge\">\n<title>8&#45;&gt;9</title>\n<path fill=\"none\" stroke=\"#000000\" d=\"M505.7951,-88.9777C489.528,-79.0424 471.8136,-68.2232 455.7674,-58.4228\"/>\n<polygon fill=\"#000000\" stroke=\"#000000\" points=\"457.4027,-55.3204 447.0442,-53.095 453.754,-61.2943 457.4027,-55.3204\"/>\n</g>\n<!-- 10 -->\n<g id=\"node11\" class=\"node\">\n<title>10</title>\n<polygon fill=\"#399de5\" fill-opacity=\"0.694118\" stroke=\"#000000\" points=\"642,-53 495,-53 495,0 642,0 642,-53\"/>\n<text text-anchor=\"middle\" x=\"568.5\" y=\"-37.8\" font-family=\"Times,serif\" font-size=\"14.00\" fill=\"#000000\">samples = 0.2%</text>\n<text text-anchor=\"middle\" x=\"568.5\" y=\"-22.8\" font-family=\"Times,serif\" font-size=\"14.00\" fill=\"#000000\">value = [0.235, 0.765]</text>\n<text text-anchor=\"middle\" x=\"568.5\" y=\"-7.8\" font-family=\"Times,serif\" font-size=\"14.00\" fill=\"#000000\">class = Yes</text>\n</g>\n<!-- 8&#45;&gt;10 -->\n<g id=\"edge10\" class=\"edge\">\n<title>8&#45;&gt;10</title>\n<path fill=\"none\" stroke=\"#000000\" d=\"M563.9679,-88.9777C564.5724,-80.6449 565.222,-71.6903 565.8352,-63.2364\"/>\n<polygon fill=\"#000000\" stroke=\"#000000\" points=\"569.3269,-63.4755 566.5597,-53.2485 562.3453,-62.969 569.3269,-63.4755\"/>\n</g>\n<!-- 12 -->\n<g id=\"node13\" class=\"node\">\n<title>12</title>\n<polygon fill=\"#399de5\" stroke=\"#000000\" points=\"777,-53 660,-53 660,0 777,0 777,-53\"/>\n<text text-anchor=\"middle\" x=\"718.5\" y=\"-37.8\" font-family=\"Times,serif\" font-size=\"14.00\" fill=\"#000000\">samples = 0.0%</text>\n<text text-anchor=\"middle\" x=\"718.5\" y=\"-22.8\" font-family=\"Times,serif\" font-size=\"14.00\" fill=\"#000000\">value = [0.0, 1.0]</text>\n<text text-anchor=\"middle\" x=\"718.5\" y=\"-7.8\" font-family=\"Times,serif\" font-size=\"14.00\" fill=\"#000000\">class = Yes</text>\n</g>\n<!-- 11&#45;&gt;12 -->\n<g id=\"edge12\" class=\"edge\">\n<title>11&#45;&gt;12</title>\n<path fill=\"none\" stroke=\"#000000\" d=\"M724.3269,-88.9777C723.5498,-80.6449 722.7146,-71.6903 721.9262,-63.2364\"/>\n<polygon fill=\"#000000\" stroke=\"#000000\" points=\"725.4083,-62.8802 720.9947,-53.2485 718.4385,-63.5303 725.4083,-62.8802\"/>\n</g>\n<!-- 13 -->\n<g id=\"node14\" class=\"node\">\n<title>13</title>\n<polygon fill=\"#e58139\" fill-opacity=\"0.870588\" stroke=\"#000000\" points=\"941.5,-53 795.5,-53 795.5,0 941.5,0 941.5,-53\"/>\n<text text-anchor=\"middle\" x=\"868.5\" y=\"-37.8\" font-family=\"Times,serif\" font-size=\"14.00\" fill=\"#000000\">samples = 0.8%</text>\n<text text-anchor=\"middle\" x=\"868.5\" y=\"-22.8\" font-family=\"Times,serif\" font-size=\"14.00\" fill=\"#000000\">value = [0.886, 0.114]</text>\n<text text-anchor=\"middle\" x=\"868.5\" y=\"-7.8\" font-family=\"Times,serif\" font-size=\"14.00\" fill=\"#000000\">class = No</text>\n</g>\n<!-- 11&#45;&gt;13 -->\n<g id=\"edge13\" class=\"edge\">\n<title>11&#45;&gt;13</title>\n<path fill=\"none\" stroke=\"#000000\" d=\"M777.2113,-88.9777C791.3937,-79.2713 806.8088,-68.7213 820.8642,-59.1018\"/>\n<polygon fill=\"#000000\" stroke=\"#000000\" points=\"823.1411,-61.7847 829.4167,-53.2485 819.1876,-56.0081 823.1411,-61.7847\"/>\n</g>\n<!-- 15 -->\n<g id=\"node16\" class=\"node\">\n<title>15</title>\n<polygon fill=\"#e58139\" fill-opacity=\"0.615686\" stroke=\"#000000\" points=\"1366,-261 1195,-261 1195,-193 1366,-193 1366,-261\"/>\n<text text-anchor=\"middle\" x=\"1280.5\" y=\"-245.8\" font-family=\"Times,serif\" font-size=\"14.00\" fill=\"#000000\">Inspection Date &lt;= 2159.5</text>\n<text text-anchor=\"middle\" x=\"1280.5\" y=\"-230.8\" font-family=\"Times,serif\" font-size=\"14.00\" fill=\"#000000\">samples = 60.9%</text>\n<text text-anchor=\"middle\" x=\"1280.5\" y=\"-215.8\" font-family=\"Times,serif\" font-size=\"14.00\" fill=\"#000000\">value = [0.722, 0.278]</text>\n<text text-anchor=\"middle\" x=\"1280.5\" y=\"-200.8\" font-family=\"Times,serif\" font-size=\"14.00\" fill=\"#000000\">class = No</text>\n</g>\n<!-- 14&#45;&gt;15 -->\n<g id=\"edge15\" class=\"edge\">\n<title>14&#45;&gt;15</title>\n<path fill=\"none\" stroke=\"#000000\" d=\"M1280.5,-296.9465C1280.5,-288.776 1280.5,-279.9318 1280.5,-271.3697\"/>\n<polygon fill=\"#000000\" stroke=\"#000000\" points=\"1284.0001,-271.13 1280.5,-261.13 1277.0001,-271.13 1284.0001,-271.13\"/>\n</g>\n<!-- 22 -->\n<g id=\"node23\" class=\"node\">\n<title>22</title>\n<polygon fill=\"#e58139\" fill-opacity=\"0.501961\" stroke=\"#000000\" points=\"1819,-261 1672,-261 1672,-193 1819,-193 1819,-261\"/>\n<text text-anchor=\"middle\" x=\"1745.5\" y=\"-245.8\" font-family=\"Times,serif\" font-size=\"14.00\" fill=\"#000000\">Facility Type &lt;= 1.5</text>\n<text text-anchor=\"middle\" x=\"1745.5\" y=\"-230.8\" font-family=\"Times,serif\" font-size=\"14.00\" fill=\"#000000\">samples = 20.5%</text>\n<text text-anchor=\"middle\" x=\"1745.5\" y=\"-215.8\" font-family=\"Times,serif\" font-size=\"14.00\" fill=\"#000000\">value = [0.667, 0.333]</text>\n<text text-anchor=\"middle\" x=\"1745.5\" y=\"-200.8\" font-family=\"Times,serif\" font-size=\"14.00\" fill=\"#000000\">class = No</text>\n</g>\n<!-- 14&#45;&gt;22 -->\n<g id=\"edge22\" class=\"edge\">\n<title>14&#45;&gt;22</title>\n<path fill=\"none\" stroke=\"#000000\" d=\"M1354.1806,-314.5209C1437.8964,-295.7974 1574.2342,-265.3046 1661.8706,-245.7042\"/>\n<polygon fill=\"#000000\" stroke=\"#000000\" points=\"1662.7853,-249.0862 1671.7802,-243.4879 1661.2574,-242.255 1662.7853,-249.0862\"/>\n</g>\n<!-- 16 -->\n<g id=\"node17\" class=\"node\">\n<title>16</title>\n<polygon fill=\"#e58139\" fill-opacity=\"0.619608\" stroke=\"#000000\" points=\"1269,-157 1122,-157 1122,-89 1269,-89 1269,-157\"/>\n<text text-anchor=\"middle\" x=\"1195.5\" y=\"-141.8\" font-family=\"Times,serif\" font-size=\"14.00\" fill=\"#000000\">DBA Name &lt;= 214.5</text>\n<text text-anchor=\"middle\" x=\"1195.5\" y=\"-126.8\" font-family=\"Times,serif\" font-size=\"14.00\" fill=\"#000000\">samples = 60.4%</text>\n<text text-anchor=\"middle\" x=\"1195.5\" y=\"-111.8\" font-family=\"Times,serif\" font-size=\"14.00\" fill=\"#000000\">value = [0.724, 0.276]</text>\n<text text-anchor=\"middle\" x=\"1195.5\" y=\"-96.8\" font-family=\"Times,serif\" font-size=\"14.00\" fill=\"#000000\">class = No</text>\n</g>\n<!-- 15&#45;&gt;16 -->\n<g id=\"edge16\" class=\"edge\">\n<title>15&#45;&gt;16</title>\n<path fill=\"none\" stroke=\"#000000\" d=\"M1252.6678,-192.9465C1245.403,-184.0578 1237.4864,-174.3716 1229.924,-165.1188\"/>\n<polygon fill=\"#000000\" stroke=\"#000000\" points=\"1232.4331,-162.658 1223.3947,-157.13 1227.013,-167.0878 1232.4331,-162.658\"/>\n</g>\n<!-- 19 -->\n<g id=\"node20\" class=\"node\">\n<title>19</title>\n<polygon fill=\"#e58139\" fill-opacity=\"0.149020\" stroke=\"#000000\" points=\"1444,-157 1287,-157 1287,-89 1444,-89 1444,-157\"/>\n<text text-anchor=\"middle\" x=\"1365.5\" y=\"-141.8\" font-family=\"Times,serif\" font-size=\"14.00\" fill=\"#000000\">DBA Name &lt;= 15182.5</text>\n<text text-anchor=\"middle\" x=\"1365.5\" y=\"-126.8\" font-family=\"Times,serif\" font-size=\"14.00\" fill=\"#000000\">samples = 0.5%</text>\n<text text-anchor=\"middle\" x=\"1365.5\" y=\"-111.8\" font-family=\"Times,serif\" font-size=\"14.00\" fill=\"#000000\">value = [0.54, 0.46]</text>\n<text text-anchor=\"middle\" x=\"1365.5\" y=\"-96.8\" font-family=\"Times,serif\" font-size=\"14.00\" fill=\"#000000\">class = No</text>\n</g>\n<!-- 15&#45;&gt;19 -->\n<g id=\"edge19\" class=\"edge\">\n<title>15&#45;&gt;19</title>\n<path fill=\"none\" stroke=\"#000000\" d=\"M1308.3322,-192.9465C1315.597,-184.0578 1323.5136,-174.3716 1331.076,-165.1188\"/>\n<polygon fill=\"#000000\" stroke=\"#000000\" points=\"1333.987,-167.0878 1337.6053,-157.13 1328.5669,-162.658 1333.987,-167.0878\"/>\n</g>\n<!-- 17 -->\n<g id=\"node18\" class=\"node\">\n<title>17</title>\n<polygon fill=\"#e58139\" fill-opacity=\"0.705882\" stroke=\"#000000\" points=\"1107,-53 960,-53 960,0 1107,0 1107,-53\"/>\n<text text-anchor=\"middle\" x=\"1033.5\" y=\"-37.8\" font-family=\"Times,serif\" font-size=\"14.00\" fill=\"#000000\">samples = 2.8%</text>\n<text text-anchor=\"middle\" x=\"1033.5\" y=\"-22.8\" font-family=\"Times,serif\" font-size=\"14.00\" fill=\"#000000\">value = [0.772, 0.228]</text>\n<text text-anchor=\"middle\" x=\"1033.5\" y=\"-7.8\" font-family=\"Times,serif\" font-size=\"14.00\" fill=\"#000000\">class = No</text>\n</g>\n<!-- 16&#45;&gt;17 -->\n<g id=\"edge17\" class=\"edge\">\n<title>16&#45;&gt;17</title>\n<path fill=\"none\" stroke=\"#000000\" d=\"M1138.3849,-88.9777C1121.7059,-79.0424 1103.5431,-68.2232 1087.0906,-58.4228\"/>\n<polygon fill=\"#000000\" stroke=\"#000000\" points=\"1088.529,-55.2058 1078.1466,-53.095 1084.9467,-61.2197 1088.529,-55.2058\"/>\n</g>\n<!-- 18 -->\n<g id=\"node19\" class=\"node\">\n<title>18</title>\n<polygon fill=\"#e58139\" fill-opacity=\"0.615686\" stroke=\"#000000\" points=\"1272,-53 1125,-53 1125,0 1272,0 1272,-53\"/>\n<text text-anchor=\"middle\" x=\"1198.5\" y=\"-37.8\" font-family=\"Times,serif\" font-size=\"14.00\" fill=\"#000000\">samples = 57.6%</text>\n<text text-anchor=\"middle\" x=\"1198.5\" y=\"-22.8\" font-family=\"Times,serif\" font-size=\"14.00\" fill=\"#000000\">value = [0.721, 0.279]</text>\n<text text-anchor=\"middle\" x=\"1198.5\" y=\"-7.8\" font-family=\"Times,serif\" font-size=\"14.00\" fill=\"#000000\">class = No</text>\n</g>\n<!-- 16&#45;&gt;18 -->\n<g id=\"edge18\" class=\"edge\">\n<title>16&#45;&gt;18</title>\n<path fill=\"none\" stroke=\"#000000\" d=\"M1196.5577,-88.9777C1196.8139,-80.7364 1197.089,-71.887 1197.3493,-63.5153\"/>\n<polygon fill=\"#000000\" stroke=\"#000000\" points=\"1200.8559,-63.3524 1197.6684,-53.2485 1193.8593,-63.1349 1200.8559,-63.3524\"/>\n</g>\n<!-- 20 -->\n<g id=\"node21\" class=\"node\">\n<title>20</title>\n<polygon fill=\"#e58139\" fill-opacity=\"0.215686\" stroke=\"#000000\" points=\"1437,-53 1290,-53 1290,0 1437,0 1437,-53\"/>\n<text text-anchor=\"middle\" x=\"1363.5\" y=\"-37.8\" font-family=\"Times,serif\" font-size=\"14.00\" fill=\"#000000\">samples = 0.4%</text>\n<text text-anchor=\"middle\" x=\"1363.5\" y=\"-22.8\" font-family=\"Times,serif\" font-size=\"14.00\" fill=\"#000000\">value = [0.561, 0.439]</text>\n<text text-anchor=\"middle\" x=\"1363.5\" y=\"-7.8\" font-family=\"Times,serif\" font-size=\"14.00\" fill=\"#000000\">class = No</text>\n</g>\n<!-- 19&#45;&gt;20 -->\n<g id=\"edge20\" class=\"edge\">\n<title>19&#45;&gt;20</title>\n<path fill=\"none\" stroke=\"#000000\" d=\"M1364.7949,-88.9777C1364.6241,-80.7364 1364.4407,-71.887 1364.2672,-63.5153\"/>\n<polygon fill=\"#000000\" stroke=\"#000000\" points=\"1367.7609,-63.1738 1364.0544,-53.2485 1360.7624,-63.3189 1367.7609,-63.1738\"/>\n</g>\n<!-- 21 -->\n<g id=\"node22\" class=\"node\">\n<title>21</title>\n<polygon fill=\"#399de5\" stroke=\"#000000\" points=\"1572,-53 1455,-53 1455,0 1572,0 1572,-53\"/>\n<text text-anchor=\"middle\" x=\"1513.5\" y=\"-37.8\" font-family=\"Times,serif\" font-size=\"14.00\" fill=\"#000000\">samples = 0.0%</text>\n<text text-anchor=\"middle\" x=\"1513.5\" y=\"-22.8\" font-family=\"Times,serif\" font-size=\"14.00\" fill=\"#000000\">value = [0.0, 1.0]</text>\n<text text-anchor=\"middle\" x=\"1513.5\" y=\"-7.8\" font-family=\"Times,serif\" font-size=\"14.00\" fill=\"#000000\">class = Yes</text>\n</g>\n<!-- 19&#45;&gt;21 -->\n<g id=\"edge21\" class=\"edge\">\n<title>19&#45;&gt;21</title>\n<path fill=\"none\" stroke=\"#000000\" d=\"M1417.6793,-88.9777C1432.7062,-79.1798 1449.0515,-68.5222 1463.9164,-58.8298\"/>\n<polygon fill=\"#000000\" stroke=\"#000000\" points=\"1466.0114,-61.6422 1472.4764,-53.2485 1462.1881,-55.7785 1466.0114,-61.6422\"/>\n</g>\n<!-- 23 -->\n<g id=\"node24\" class=\"node\">\n<title>23</title>\n<polygon fill=\"#e58139\" fill-opacity=\"0.627451\" stroke=\"#000000\" points=\"1819,-157 1672,-157 1672,-89 1819,-89 1819,-157\"/>\n<text text-anchor=\"middle\" x=\"1745.5\" y=\"-141.8\" font-family=\"Times,serif\" font-size=\"14.00\" fill=\"#000000\">Risk &lt;= 2.5</text>\n<text text-anchor=\"middle\" x=\"1745.5\" y=\"-126.8\" font-family=\"Times,serif\" font-size=\"14.00\" fill=\"#000000\">samples = 10.1%</text>\n<text text-anchor=\"middle\" x=\"1745.5\" y=\"-111.8\" font-family=\"Times,serif\" font-size=\"14.00\" fill=\"#000000\">value = [0.729, 0.271]</text>\n<text text-anchor=\"middle\" x=\"1745.5\" y=\"-96.8\" font-family=\"Times,serif\" font-size=\"14.00\" fill=\"#000000\">class = No</text>\n</g>\n<!-- 22&#45;&gt;23 -->\n<g id=\"edge23\" class=\"edge\">\n<title>22&#45;&gt;23</title>\n<path fill=\"none\" stroke=\"#000000\" d=\"M1745.5,-192.9465C1745.5,-184.776 1745.5,-175.9318 1745.5,-167.3697\"/>\n<polygon fill=\"#000000\" stroke=\"#000000\" points=\"1749.0001,-167.13 1745.5,-157.13 1742.0001,-167.13 1749.0001,-167.13\"/>\n</g>\n<!-- 26 -->\n<g id=\"node27\" class=\"node\">\n<title>26</title>\n<polygon fill=\"#e58139\" fill-opacity=\"0.352941\" stroke=\"#000000\" points=\"2067,-157 1920,-157 1920,-89 2067,-89 2067,-157\"/>\n<text text-anchor=\"middle\" x=\"1993.5\" y=\"-141.8\" font-family=\"Times,serif\" font-size=\"14.00\" fill=\"#000000\">Risk &lt;= 2.5</text>\n<text text-anchor=\"middle\" x=\"1993.5\" y=\"-126.8\" font-family=\"Times,serif\" font-size=\"14.00\" fill=\"#000000\">samples = 10.4%</text>\n<text text-anchor=\"middle\" x=\"1993.5\" y=\"-111.8\" font-family=\"Times,serif\" font-size=\"14.00\" fill=\"#000000\">value = [0.607, 0.393]</text>\n<text text-anchor=\"middle\" x=\"1993.5\" y=\"-96.8\" font-family=\"Times,serif\" font-size=\"14.00\" fill=\"#000000\">class = No</text>\n</g>\n<!-- 22&#45;&gt;26 -->\n<g id=\"edge26\" class=\"edge\">\n<title>22&#45;&gt;26</title>\n<path fill=\"none\" stroke=\"#000000\" d=\"M1819.2367,-196.0782C1847.8386,-184.0838 1880.7351,-170.2885 1910.1875,-157.9375\"/>\n<polygon fill=\"#000000\" stroke=\"#000000\" points=\"1911.7508,-161.0773 1919.6192,-153.9823 1909.0436,-154.6219 1911.7508,-161.0773\"/>\n</g>\n<!-- 24 -->\n<g id=\"node25\" class=\"node\">\n<title>24</title>\n<polygon fill=\"#e58139\" fill-opacity=\"0.262745\" stroke=\"#000000\" points=\"1737,-53 1590,-53 1590,0 1737,0 1737,-53\"/>\n<text text-anchor=\"middle\" x=\"1663.5\" y=\"-37.8\" font-family=\"Times,serif\" font-size=\"14.00\" fill=\"#000000\">samples = 0.3%</text>\n<text text-anchor=\"middle\" x=\"1663.5\" y=\"-22.8\" font-family=\"Times,serif\" font-size=\"14.00\" fill=\"#000000\">value = [0.576, 0.424]</text>\n<text text-anchor=\"middle\" x=\"1663.5\" y=\"-7.8\" font-family=\"Times,serif\" font-size=\"14.00\" fill=\"#000000\">class = No</text>\n</g>\n<!-- 23&#45;&gt;24 -->\n<g id=\"edge24\" class=\"edge\">\n<title>23&#45;&gt;24</title>\n<path fill=\"none\" stroke=\"#000000\" d=\"M1716.5899,-88.9777C1708.8866,-79.9123 1700.5581,-70.111 1692.8324,-61.0192\"/>\n<polygon fill=\"#000000\" stroke=\"#000000\" points=\"1695.3718,-58.6025 1686.2293,-53.2485 1690.0375,-63.1352 1695.3718,-58.6025\"/>\n</g>\n<!-- 25 -->\n<g id=\"node26\" class=\"node\">\n<title>25</title>\n<polygon fill=\"#e58139\" fill-opacity=\"0.635294\" stroke=\"#000000\" points=\"1902,-53 1755,-53 1755,0 1902,0 1902,-53\"/>\n<text text-anchor=\"middle\" x=\"1828.5\" y=\"-37.8\" font-family=\"Times,serif\" font-size=\"14.00\" fill=\"#000000\">samples = 9.8%</text>\n<text text-anchor=\"middle\" x=\"1828.5\" y=\"-22.8\" font-family=\"Times,serif\" font-size=\"14.00\" fill=\"#000000\">value = [0.734, 0.266]</text>\n<text text-anchor=\"middle\" x=\"1828.5\" y=\"-7.8\" font-family=\"Times,serif\" font-size=\"14.00\" fill=\"#000000\">class = No</text>\n</g>\n<!-- 23&#45;&gt;25 -->\n<g id=\"edge25\" class=\"edge\">\n<title>23&#45;&gt;25</title>\n<path fill=\"none\" stroke=\"#000000\" d=\"M1774.7627,-88.9777C1782.5599,-79.9123 1790.99,-70.111 1798.8099,-61.0192\"/>\n<polygon fill=\"#000000\" stroke=\"#000000\" points=\"1801.6262,-63.1123 1805.4935,-53.2485 1796.3191,-58.5477 1801.6262,-63.1123\"/>\n</g>\n<!-- 27 -->\n<g id=\"node28\" class=\"node\">\n<title>27</title>\n<polygon fill=\"#e58139\" fill-opacity=\"0.231373\" stroke=\"#000000\" points=\"2067,-53 1920,-53 1920,0 2067,0 2067,-53\"/>\n<text text-anchor=\"middle\" x=\"1993.5\" y=\"-37.8\" font-family=\"Times,serif\" font-size=\"14.00\" fill=\"#000000\">samples = 4.7%</text>\n<text text-anchor=\"middle\" x=\"1993.5\" y=\"-22.8\" font-family=\"Times,serif\" font-size=\"14.00\" fill=\"#000000\">value = [0.565, 0.435]</text>\n<text text-anchor=\"middle\" x=\"1993.5\" y=\"-7.8\" font-family=\"Times,serif\" font-size=\"14.00\" fill=\"#000000\">class = No</text>\n</g>\n<!-- 26&#45;&gt;27 -->\n<g id=\"edge27\" class=\"edge\">\n<title>26&#45;&gt;27</title>\n<path fill=\"none\" stroke=\"#000000\" d=\"M1993.5,-88.9777C1993.5,-80.7364 1993.5,-71.887 1993.5,-63.5153\"/>\n<polygon fill=\"#000000\" stroke=\"#000000\" points=\"1997.0001,-63.2484 1993.5,-53.2485 1990.0001,-63.2485 1997.0001,-63.2484\"/>\n</g>\n<!-- 28 -->\n<g id=\"node29\" class=\"node\">\n<title>28</title>\n<polygon fill=\"#e58139\" fill-opacity=\"0.439216\" stroke=\"#000000\" points=\"2232,-53 2085,-53 2085,0 2232,0 2232,-53\"/>\n<text text-anchor=\"middle\" x=\"2158.5\" y=\"-37.8\" font-family=\"Times,serif\" font-size=\"14.00\" fill=\"#000000\">samples = 5.7%</text>\n<text text-anchor=\"middle\" x=\"2158.5\" y=\"-22.8\" font-family=\"Times,serif\" font-size=\"14.00\" fill=\"#000000\">value = [0.641, 0.359]</text>\n<text text-anchor=\"middle\" x=\"2158.5\" y=\"-7.8\" font-family=\"Times,serif\" font-size=\"14.00\" fill=\"#000000\">class = No</text>\n</g>\n<!-- 26&#45;&gt;28 -->\n<g id=\"edge28\" class=\"edge\">\n<title>26&#45;&gt;28</title>\n<path fill=\"none\" stroke=\"#000000\" d=\"M2051.6728,-88.9777C2068.818,-78.9504 2087.5025,-68.0228 2104.382,-58.1508\"/>\n<polygon fill=\"#000000\" stroke=\"#000000\" points=\"2106.1615,-61.1648 2113.0266,-53.095 2102.6276,-55.1223 2106.1615,-61.1648\"/>\n</g>\n</g>\n</svg>\n"
          },
          "metadata": {
            "tags": []
          },
          "execution_count": 267
        }
      ]
    },
    {
      "cell_type": "markdown",
      "metadata": {
        "id": "3K663CGGe5FE",
        "colab_type": "text"
      },
      "source": [
        "###Dropping the inspection type feature does lead us to have a lower roc_auc_score so we won't be using the leakage feature in the next model"
      ]
    },
    {
      "cell_type": "markdown",
      "metadata": {
        "id": "adlQRmrXl8aV",
        "colab_type": "text"
      },
      "source": [
        "Based on the hunch, let's try dropping Risk column and see where it gets us."
      ]
    },
    {
      "cell_type": "code",
      "metadata": {
        "id": "ltTM7T-Xl4aD",
        "colab_type": "code",
        "colab": {}
      },
      "source": [
        "X_train = X_train.drop(columns = 'Risk')\n",
        "\n",
        "X_test = X_test.drop(columns = 'Risk')"
      ],
      "execution_count": 0,
      "outputs": []
    },
    {
      "cell_type": "code",
      "metadata": {
        "id": "Fy3ZNZf367Yo",
        "colab_type": "code",
        "colab": {
          "base_uri": "https://localhost:8080/",
          "height": 34
        },
        "outputId": "be177598-e6c5-48a9-aac9-fe2de4aa8804"
      },
      "source": [
        "pipeline = make_pipeline(\n",
        "    StandardScaler(),\n",
        "    DecisionTreeClassifier(max_depth = 3)\n",
        ")\n",
        "\n",
        "pipeline.fit(X_train, y_train)\n",
        "y_pred_proba = pipeline.predict_proba(X_train)[:, 1]\n",
        "\n",
        "roc_auc_score = roc_auc_score(y_train, y_pred_proba)\n",
        "\n",
        "print('ROC_AUC Sscore without Risk is:', roc_auc_score)"
      ],
      "execution_count": 319,
      "outputs": [
        {
          "output_type": "stream",
          "text": [
            "ROC_AUC Sscore without Risk is: 0.6681911271998658\n"
          ],
          "name": "stdout"
        }
      ]
    },
    {
      "cell_type": "markdown",
      "metadata": {
        "id": "yr1XiI1E9Fm6",
        "colab_type": "text"
      },
      "source": [
        "Having Inspection Type and removing Risk leads to a higher ROC_AUC score, indicating that inspection type is the leakage feature."
      ]
    },
    {
      "cell_type": "markdown",
      "metadata": {
        "id": "ouHcfXb7UY6U",
        "colab_type": "text"
      },
      "source": [
        "### Part 2: Modeling\n",
        "\n",
        "**Fit a model** with the train set. (You may use scikit-learn, xgboost, or any other library.) **Use cross-validation** to **do hyperparameter optimization**, and **estimate your ROC AUC** validation score.\n",
        "\n",
        "Use your model to **predict probabilities** for the test set. **Get an ROC AUC test score >= 0.60.**\n",
        "\n",
        "_To earn a score of 3 for this part, get an ROC AUC test score >= 0.70 (without using the feature with leakage)._\n",
        "\n"
      ]
    },
    {
      "cell_type": "markdown",
      "metadata": {
        "id": "_tjbBo4Mx3v-",
        "colab_type": "text"
      },
      "source": [
        "##Without the Risk feature"
      ]
    },
    {
      "cell_type": "code",
      "metadata": {
        "id": "oRbHaItYnRl-",
        "colab_type": "code",
        "colab": {}
      },
      "source": [
        "features = ['Facility Type', 'Inspection Date', 'Inspection Type',\n",
        "           'Violations']\n",
        "target = 'Fail'\n",
        "\n",
        "X_train = train[features]\n",
        "y_train = train[target]\n",
        "\n",
        "X_test = test[features]\n",
        "y_test = test[target]"
      ],
      "execution_count": 0,
      "outputs": []
    },
    {
      "cell_type": "code",
      "metadata": {
        "id": "NNOzNLGLna_b",
        "colab_type": "code",
        "colab": {}
      },
      "source": [
        "encoder = ce.OrdinalEncoder()\n",
        "X_train = encoder.fit_transform(X_train[features])"
      ],
      "execution_count": 0,
      "outputs": []
    },
    {
      "cell_type": "code",
      "metadata": {
        "id": "OsYOzQYmUdyO",
        "colab_type": "code",
        "colab": {
          "base_uri": "https://localhost:8080/",
          "height": 322
        },
        "outputId": "f50fd2cf-a161-476e-9455-25dec970e801"
      },
      "source": [
        "param_distributions = {\n",
        "    'n_estimators': randint(50, 300), \n",
        "    'max_depth': randint(2, 4)\n",
        "}\n",
        "\n",
        "# n_iter & cv parameters are low here so the example runs faster\n",
        "search = RandomizedSearchCV(\n",
        "    estimator=XGBClassifier(n_jobs=-1, random_state=42), #estimator = pipeline makes us put piepline in\n",
        "    param_distributions=param_distributions, \n",
        "    n_iter=4, \n",
        "    scoring='roc_auc', \n",
        "    n_jobs=-1, \n",
        "    cv=3, \n",
        "    verbose=10, \n",
        "    return_train_score=True, \n",
        "    random_state=42\n",
        ")\n",
        "\n",
        "search.fit(X_train.values, y_train.values)"
      ],
      "execution_count": 167,
      "outputs": [
        {
          "output_type": "stream",
          "text": [
            "Fitting 3 folds for each of 4 candidates, totalling 12 fits\n"
          ],
          "name": "stdout"
        },
        {
          "output_type": "stream",
          "text": [
            "[Parallel(n_jobs=-1)]: Using backend LokyBackend with 2 concurrent workers.\n",
            "[Parallel(n_jobs=-1)]: Done   1 tasks      | elapsed:    5.5s\n",
            "[Parallel(n_jobs=-1)]: Done   4 tasks      | elapsed:    8.0s\n",
            "[Parallel(n_jobs=-1)]: Done   9 tasks      | elapsed:   12.8s\n",
            "[Parallel(n_jobs=-1)]: Done  12 out of  12 | elapsed:   14.5s finished\n"
          ],
          "name": "stderr"
        },
        {
          "output_type": "execute_result",
          "data": {
            "text/plain": [
              "RandomizedSearchCV(cv=3, error_score='raise-deprecating',\n",
              "          estimator=XGBClassifier(base_score=0.5, booster='gbtree', colsample_bylevel=1,\n",
              "       colsample_bytree=1, gamma=0, learning_rate=0.1, max_delta_step=0,\n",
              "       max_depth=3, min_child_weight=1, missing=None, n_estimators=100,\n",
              "       n_jobs=-1, nthread=None, objective='binary:logistic',\n",
              "       random_state=42, reg_alpha=0, reg_lambda=1, scale_pos_weight=1,\n",
              "       seed=None, silent=True, subsample=1),\n",
              "          fit_params=None, iid='warn', n_iter=4, n_jobs=-1,\n",
              "          param_distributions={'n_estimators': <scipy.stats._distn_infrastructure.rv_frozen object at 0x7fb8678e5278>, 'max_depth': <scipy.stats._distn_infrastructure.rv_frozen object at 0x7fb8678e5048>},\n",
              "          pre_dispatch='2*n_jobs', random_state=42, refit=True,\n",
              "          return_train_score=True, scoring='roc_auc', verbose=10)"
            ]
          },
          "metadata": {
            "tags": []
          },
          "execution_count": 167
        }
      ]
    },
    {
      "cell_type": "code",
      "metadata": {
        "id": "awrlaNgBUdu8",
        "colab_type": "code",
        "colab": {
          "base_uri": "https://localhost:8080/",
          "height": 34
        },
        "outputId": "ad37dfc5-b72b-44e5-ffb5-353a524e4909"
      },
      "source": [
        "print('Cross-Validation ROC_AUC score:', search.best_score_)"
      ],
      "execution_count": 168,
      "outputs": [
        {
          "output_type": "stream",
          "text": [
            "Cross-Validation ROC_AUC score: 0.6756909601511316\n"
          ],
          "name": "stdout"
        }
      ]
    },
    {
      "cell_type": "markdown",
      "metadata": {
        "id": "8t65NfpLiQQ6",
        "colab_type": "text"
      },
      "source": [
        "Seems too easy. I dropped the Risk feature and it gave me a high roc_auc score as well as a high test score."
      ]
    },
    {
      "cell_type": "code",
      "metadata": {
        "id": "FqxRnKqBitRL",
        "colab_type": "code",
        "colab": {}
      },
      "source": [
        "encoder = ce.OrdinalEncoder()\n",
        "X_test = encoder.fit_transform(X_test[features])"
      ],
      "execution_count": 0,
      "outputs": []
    },
    {
      "cell_type": "code",
      "metadata": {
        "id": "l2PRM60iifyH",
        "colab_type": "code",
        "colab": {
          "base_uri": "https://localhost:8080/",
          "height": 34
        },
        "outputId": "7742991f-d3e8-4151-9aad-2cfa25748519"
      },
      "source": [
        "from sklearn.metrics import roc_auc_score\n",
        "best = search.best_estimator_\n",
        "y_pred_proba = best.predict_proba(X_test.values)[:,1]\n",
        "print('Test ROC AUC:', roc_auc_score(y_test, y_pred_proba))"
      ],
      "execution_count": 170,
      "outputs": [
        {
          "output_type": "stream",
          "text": [
            "Test ROC AUC: 0.6119821364894467\n"
          ],
          "name": "stdout"
        }
      ]
    },
    {
      "cell_type": "markdown",
      "metadata": {
        "id": "IF0a-mbBi02H",
        "colab_type": "text"
      },
      "source": [
        "The test score is almost at 0.60, let's see which were most important."
      ]
    },
    {
      "cell_type": "code",
      "metadata": {
        "id": "jqiTb_HZjSgX",
        "colab_type": "code",
        "colab": {}
      },
      "source": [
        "import matplotlib.pyplot as plt"
      ],
      "execution_count": 0,
      "outputs": []
    },
    {
      "cell_type": "code",
      "metadata": {
        "id": "Y_ZVu4ZRifqu",
        "colab_type": "code",
        "colab": {
          "base_uri": "https://localhost:8080/",
          "height": 323
        },
        "outputId": "33e654a3-d47d-41cc-9f68-74bd5ad83144"
      },
      "source": [
        "best.feature_importances_\n",
        "\n",
        "figsize = (5,5)\n",
        "importances = pd.Series(best.feature_importances_, X_train.columns)\n",
        "top_n = importances.sort_values()\n",
        "plt.figure(figsize = figsize)\n",
        "top_n.plot.barh(color = 'coral');"
      ],
      "execution_count": 172,
      "outputs": [
        {
          "output_type": "display_data",
          "data": {
            "image/png": "[encoded data removed]",
            "text/plain": [
              "<Figure size 360x360 with 1 Axes>"
            ]
          },
          "metadata": {
            "tags": []
          }
        }
      ]
    },
    {
      "cell_type": "markdown",
      "metadata": {
        "id": "sBrghvvqx9jV",
        "colab_type": "text"
      },
      "source": [
        "##Without the Inspection feature"
      ]
    },
    {
      "cell_type": "markdown",
      "metadata": {
        "id": "Kuezkq79nuhS",
        "colab_type": "text"
      },
      "source": [
        "###Let's try dropping the inspection type feature. It makes sense that inspection type would be leakage feature as if they're coming in based on a complaint, there is a higher chance that the facility would fail the inspection.###"
      ]
    },
    {
      "cell_type": "code",
      "metadata": {
        "id": "qGYMMg8voBva",
        "colab_type": "code",
        "colab": {}
      },
      "source": [
        "features = ['Facility Type', 'Risk', 'Inspection Date',\n",
        "           'Violations']\n",
        "target = 'Fail'\n",
        "\n",
        "X_train = train[features]\n",
        "y_train = train[target]\n",
        "\n",
        "X_test = test[features]\n",
        "y_test = test[target]\n",
        "\n",
        "encoder = ce.OrdinalEncoder()\n",
        "X_train = encoder.fit_transform(X_train[features])\n"
      ],
      "execution_count": 0,
      "outputs": []
    },
    {
      "cell_type": "code",
      "metadata": {
        "id": "L6hIDDbloJY0",
        "colab_type": "code",
        "colab": {}
      },
      "source": [
        "encoder = ce.OrdinalEncoder()\n",
        "X_test = encoder.fit_transform(X_test[features])"
      ],
      "execution_count": 0,
      "outputs": []
    },
    {
      "cell_type": "code",
      "metadata": {
        "id": "9ouq7henoJVn",
        "colab_type": "code",
        "colab": {
          "base_uri": "https://localhost:8080/",
          "height": 322
        },
        "outputId": "5fdb956c-08e1-4b86-f113-5acf95c7b41d"
      },
      "source": [
        "param_distributions = {\n",
        "    'n_estimators': randint(50, 300), \n",
        "    'max_depth': randint(2, 5)\n",
        "}\n",
        "\n",
        "# n_iter & cv parameters are low here so the example runs faster\n",
        "search = RandomizedSearchCV(\n",
        "    estimator=XGBClassifier(n_jobs=-1, random_state=42), #estimator = pipeline makes us put piepline in\n",
        "    param_distributions=param_distributions, \n",
        "    n_iter=4, \n",
        "    scoring='roc_auc', \n",
        "    n_jobs=-1, \n",
        "    cv=4, \n",
        "    verbose=10, \n",
        "    return_train_score=True, \n",
        "    random_state=42\n",
        ")\n",
        "\n",
        "search.fit(X_train.values, y_train.values)"
      ],
      "execution_count": 322,
      "outputs": [
        {
          "output_type": "stream",
          "text": [
            "Fitting 4 folds for each of 4 candidates, totalling 16 fits\n"
          ],
          "name": "stdout"
        },
        {
          "output_type": "stream",
          "text": [
            "[Parallel(n_jobs=-1)]: Using backend LokyBackend with 2 concurrent workers.\n",
            "[Parallel(n_jobs=-1)]: Done   1 tasks      | elapsed:    7.9s\n",
            "[Parallel(n_jobs=-1)]: Done   4 tasks      | elapsed:   15.0s\n",
            "[Parallel(n_jobs=-1)]: Done   9 tasks      | elapsed:   21.0s\n",
            "[Parallel(n_jobs=-1)]: Done  16 out of  16 | elapsed:   27.6s finished\n"
          ],
          "name": "stderr"
        },
        {
          "output_type": "execute_result",
          "data": {
            "text/plain": [
              "RandomizedSearchCV(cv=4, error_score='raise-deprecating',\n",
              "          estimator=XGBClassifier(base_score=0.5, booster='gbtree', colsample_bylevel=1,\n",
              "       colsample_bytree=1, gamma=0, learning_rate=0.1, max_delta_step=0,\n",
              "       max_depth=3, min_child_weight=1, missing=None, n_estimators=100,\n",
              "       n_jobs=-1, nthread=None, objective='binary:logistic',\n",
              "       random_state=42, reg_alpha=0, reg_lambda=1, scale_pos_weight=1,\n",
              "       seed=None, silent=True, subsample=1),\n",
              "          fit_params=None, iid='warn', n_iter=4, n_jobs=-1,\n",
              "          param_distributions={'n_estimators': <scipy.stats._distn_infrastructure.rv_frozen object at 0x7fb8492fbe48>, 'max_depth': <scipy.stats._distn_infrastructure.rv_frozen object at 0x7fb8492fb0f0>},\n",
              "          pre_dispatch='2*n_jobs', random_state=42, refit=True,\n",
              "          return_train_score=True, scoring='roc_auc', verbose=10)"
            ]
          },
          "metadata": {
            "tags": []
          },
          "execution_count": 322
        }
      ]
    },
    {
      "cell_type": "code",
      "metadata": {
        "id": "_O4OvEIYoY7x",
        "colab_type": "code",
        "colab": {
          "base_uri": "https://localhost:8080/",
          "height": 34
        },
        "outputId": "7592af94-6238-4e76-a6f9-e2b89d41f777"
      },
      "source": [
        "print('Cross-Validation ROC_AUC score:', search.best_score_)"
      ],
      "execution_count": 323,
      "outputs": [
        {
          "output_type": "stream",
          "text": [
            "Cross-Validation ROC_AUC score: 0.5541768791331421\n"
          ],
          "name": "stdout"
        }
      ]
    },
    {
      "cell_type": "code",
      "metadata": {
        "id": "8sV3PgFvofED",
        "colab_type": "code",
        "colab": {
          "base_uri": "https://localhost:8080/",
          "height": 34
        },
        "outputId": "c76d865b-b006-46cc-c924-2ae06635a205"
      },
      "source": [
        "from sklearn.metrics import roc_auc_score\n",
        "best = search.best_estimator_\n",
        "y_pred_proba = best.predict_proba(X_test.values)[:,1]\n",
        "print('Test ROC AUC:', roc_auc_score(y_test, y_pred_proba))"
      ],
      "execution_count": 324,
      "outputs": [
        {
          "output_type": "stream",
          "text": [
            "Test ROC AUC: 0.5605706762036252\n"
          ],
          "name": "stdout"
        }
      ]
    },
    {
      "cell_type": "markdown",
      "metadata": {
        "id": "kCRg_FLQyBZu",
        "colab_type": "text"
      },
      "source": [
        "##Cross-validation scores with and without Inspection Type"
      ]
    },
    {
      "cell_type": "markdown",
      "metadata": {
        "id": "RaMLQdE_n89u",
        "colab_type": "text"
      },
      "source": [
        "Inspection Tye could indeed be the leakage feature as it gets me a lower ROC_AUC score but I don't want to drop a feature that holds importance to the model."
      ]
    },
    {
      "cell_type": "code",
      "metadata": {
        "id": "EaTcH3ewifhA",
        "colab_type": "code",
        "colab": {
          "base_uri": "https://localhost:8080/",
          "height": 67
        },
        "outputId": "b1daaf56-c03c-4b3c-fb2e-74db4ac95671"
      },
      "source": [
        "from sklearn.model_selection import cross_val_score\n",
        "\n",
        "X_train_Inspection_type = X_train.drop(columns='Inspection Type')\n",
        "new_model = XGBClassifier(max_depth=2, n_estimators=200, n_jobs=-1, random_state=42)\n",
        "\n",
        "score_with = cross_val_score(new_model, X_train, y_train, cv=2, scoring='roc_auc').mean()\n",
        "print('Cross-Validation ROC AUC with Inspection type:', score_with)\n",
        "\n",
        "#use cross_val_score with XGBClassifier\n",
        "\n",
        "score_without = cross_val_score(new_model, X_train_Inspection_type, y_train, cv=2, scoring='roc_auc').mean()\n",
        "print('Cross-Validation ROC AUC without inspection type:', score_without)\n",
        "\n",
        "print('Drop-Column Importance:', score_with - score_without)"
      ],
      "execution_count": 192,
      "outputs": [
        {
          "output_type": "stream",
          "text": [
            "Cross-Validation ROC AUC with Inspection type: 0.6855185204063249\n",
            "Cross-Validation ROC AUC without inspection type: 0.5801446838471067\n",
            "Drop-Column Importance: 0.10537383655921817\n"
          ],
          "name": "stdout"
        }
      ]
    },
    {
      "cell_type": "markdown",
      "metadata": {
        "id": "mgqIF_DMyF-4",
        "colab_type": "text"
      },
      "source": [
        "##Cross Validation socre with and without Risk "
      ]
    },
    {
      "cell_type": "code",
      "metadata": {
        "id": "XtaE-Syiwe8s",
        "colab_type": "code",
        "colab": {
          "base_uri": "https://localhost:8080/",
          "height": 67
        },
        "outputId": "32a6f2e2-60d4-40e8-d75f-e2140a8177d5"
      },
      "source": [
        "from sklearn.model_selection import cross_val_score\n",
        "\n",
        "X_train_Risk = X_train.drop(columns='Risk')\n",
        "new_model = XGBClassifier(max_depth=2, n_estimators=200, n_jobs=-1, random_state=42)\n",
        "\n",
        "score_with = cross_val_score(new_model, X_train, y_train, cv=2, scoring='roc_auc').mean()\n",
        "print('Cross-Validation ROC AUC with Risk:', score_with)\n",
        "\n",
        "#use cross_val_score with XGBClassifier\n",
        "\n",
        "score_without = cross_val_score(new_model, X_train_Risk, y_train, cv=2, scoring='roc_auc').mean()\n",
        "print('Cross-Validation ROC AUC without Risk:', score_without)\n",
        "\n",
        "print('Drop-Column Importance:', score_with - score_without)"
      ],
      "execution_count": 190,
      "outputs": [
        {
          "output_type": "stream",
          "text": [
            "Cross-Validation ROC AUC with Risk: 0.6855185204063249\n",
            "Cross-Validation ROC AUC without Risk: 0.6836420432166358\n",
            "Drop-Column Importance: 0.0018764771896890853\n"
          ],
          "name": "stdout"
        }
      ]
    },
    {
      "cell_type": "markdown",
      "metadata": {
        "id": "67AufE--yKJ1",
        "colab_type": "text"
      },
      "source": [
        "#Generating feature\n",
        "\n",
        "- taking in risk feature and making columns based on the risk level"
      ]
    },
    {
      "cell_type": "code",
      "metadata": {
        "id": "K0IdCapqyQad",
        "colab_type": "code",
        "colab": {
          "base_uri": "https://localhost:8080/",
          "height": 278
        },
        "outputId": "3bfe0de9-34f9-4376-a120-7fb48e5ae626"
      },
      "source": [
        "train.head(2)"
      ],
      "execution_count": 194,
      "outputs": [
        {
          "output_type": "execute_result",
          "data": {
            "text/html": [
              "<div>\n",
              "<style scoped>\n",
              "    .dataframe tbody tr th:only-of-type {\n",
              "        vertical-align: middle;\n",
              "    }\n",
              "\n",
              "    .dataframe tbody tr th {\n",
              "        vertical-align: top;\n",
              "    }\n",
              "\n",
              "    .dataframe thead th {\n",
              "        text-align: right;\n",
              "    }\n",
              "</style>\n",
              "<table border=\"1\" class=\"dataframe\">\n",
              "  <thead>\n",
              "    <tr style=\"text-align: right;\">\n",
              "      <th></th>\n",
              "      <th>Inspection ID</th>\n",
              "      <th>DBA Name</th>\n",
              "      <th>AKA Name</th>\n",
              "      <th>License #</th>\n",
              "      <th>Facility Type</th>\n",
              "      <th>Risk</th>\n",
              "      <th>Address</th>\n",
              "      <th>City</th>\n",
              "      <th>State</th>\n",
              "      <th>Zip</th>\n",
              "      <th>Inspection Date</th>\n",
              "      <th>Inspection Type</th>\n",
              "      <th>Violations</th>\n",
              "      <th>Latitude</th>\n",
              "      <th>Longitude</th>\n",
              "      <th>Location</th>\n",
              "      <th>Fail</th>\n",
              "    </tr>\n",
              "  </thead>\n",
              "  <tbody>\n",
              "    <tr>\n",
              "      <th>0</th>\n",
              "      <td>2088270</td>\n",
              "      <td>TOM YUM RICE &amp; NOODLE, INC.</td>\n",
              "      <td>TOM YUM CAFE</td>\n",
              "      <td>2354911.0</td>\n",
              "      <td>Restaurant</td>\n",
              "      <td>Risk 1 (High)</td>\n",
              "      <td>608 W BARRY</td>\n",
              "      <td>CHICAGO</td>\n",
              "      <td>IL</td>\n",
              "      <td>60657.0</td>\n",
              "      <td>2017-09-15T00:00:00</td>\n",
              "      <td>Canvass</td>\n",
              "      <td>3. POTENTIALLY HAZARDOUS FOOD MEETS TEMPERATUR...</td>\n",
              "      <td>41.938007</td>\n",
              "      <td>-87.644755</td>\n",
              "      <td>{'longitude': '-87.6447545707008', 'latitude':...</td>\n",
              "      <td>1</td>\n",
              "    </tr>\n",
              "    <tr>\n",
              "      <th>1</th>\n",
              "      <td>555268</td>\n",
              "      <td>FILLING STATION  &amp; CONVENIENCE  STORE</td>\n",
              "      <td>FILLING STATION  &amp; CONVENIENCE  STORE</td>\n",
              "      <td>1044901.0</td>\n",
              "      <td>Grocery Store</td>\n",
              "      <td>Risk 3 (Low)</td>\n",
              "      <td>6646-6658 S WESTERN AVE</td>\n",
              "      <td>CHICAGO</td>\n",
              "      <td>IL</td>\n",
              "      <td>60636.0</td>\n",
              "      <td>2011-10-20T00:00:00</td>\n",
              "      <td>Complaint Re-Inspection</td>\n",
              "      <td>32. FOOD AND NON-FOOD CONTACT SURFACES PROPERL...</td>\n",
              "      <td>41.772402</td>\n",
              "      <td>-87.683603</td>\n",
              "      <td>{'longitude': '-87.68360273081268', 'latitude'...</td>\n",
              "      <td>0</td>\n",
              "    </tr>\n",
              "  </tbody>\n",
              "</table>\n",
              "</div>"
            ],
            "text/plain": [
              "   Inspection ID  ... Fail\n",
              "0        2088270  ...    1\n",
              "1         555268  ...    0\n",
              "\n",
              "[2 rows x 17 columns]"
            ]
          },
          "metadata": {
            "tags": []
          },
          "execution_count": 194
        }
      ]
    },
    {
      "cell_type": "code",
      "metadata": {
        "id": "r9L4LA1HyhAz",
        "colab_type": "code",
        "colab": {
          "base_uri": "https://localhost:8080/",
          "height": 84
        },
        "outputId": "5c1902e6-31f9-4223-ff69-16eddfe30575"
      },
      "source": [
        "train['Risk'].value_counts()"
      ],
      "execution_count": 195,
      "outputs": [
        {
          "output_type": "execute_result",
          "data": {
            "text/plain": [
              "Risk 1 (High)      37731\n",
              "Risk 2 (Medium)    10136\n",
              "Risk 3 (Low)        4037\n",
              "Name: Risk, dtype: int64"
            ]
          },
          "metadata": {
            "tags": []
          },
          "execution_count": 195
        }
      ]
    },
    {
      "cell_type": "code",
      "metadata": {
        "id": "biXNAjOOyPWu",
        "colab_type": "code",
        "colab": {
          "base_uri": "https://localhost:8080/",
          "height": 118
        },
        "outputId": "10fafae8-db57-4e85-c17e-cb657b7eec61"
      },
      "source": [
        " #train['Risk'] = X['Risk'].str.lower()\n",
        "train['High_risk'] = train['Risk'].str.contains('Risk 1 (High)', na=False)\n",
        "train['Low_risk'] = train['Risk'].str.contains('Risk 3 (Low)', na=False)\n",
        "train['Medium Risk']   = train['Risk'].str.contains('Risk 2 (Medium)', na=False)"
      ],
      "execution_count": 198,
      "outputs": [
        {
          "output_type": "stream",
          "text": [
            "/usr/local/lib/python3.6/dist-packages/ipykernel_launcher.py:1: UserWarning: This pattern has match groups. To actually get the groups, use str.extract.\n",
            "  \"\"\"Entry point for launching an IPython kernel.\n",
            "/usr/local/lib/python3.6/dist-packages/ipykernel_launcher.py:2: UserWarning: This pattern has match groups. To actually get the groups, use str.extract.\n",
            "  \n",
            "/usr/local/lib/python3.6/dist-packages/ipykernel_launcher.py:3: UserWarning: This pattern has match groups. To actually get the groups, use str.extract.\n",
            "  This is separate from the ipykernel package so we can avoid doing imports until\n"
          ],
          "name": "stderr"
        }
      ]
    },
    {
      "cell_type": "code",
      "metadata": {
        "id": "8JofFLGSzp_r",
        "colab_type": "code",
        "colab": {
          "base_uri": "https://localhost:8080/",
          "height": 118
        },
        "outputId": "78a09e9c-376c-4ac1-c383-a8b49e430904"
      },
      "source": [
        "test['High_risk'] = test['Risk'].str.contains('Risk 1 (High)', na=False)\n",
        "test['Low_risk'] = test['Risk'].str.contains('Risk 3 (Low)', na=False)\n",
        "test['Medium Risk']   = test['Risk'].str.contains('Risk 2 (Medium)', na=False)\n"
      ],
      "execution_count": 201,
      "outputs": [
        {
          "output_type": "stream",
          "text": [
            "/usr/local/lib/python3.6/dist-packages/ipykernel_launcher.py:1: UserWarning: This pattern has match groups. To actually get the groups, use str.extract.\n",
            "  \"\"\"Entry point for launching an IPython kernel.\n",
            "/usr/local/lib/python3.6/dist-packages/ipykernel_launcher.py:2: UserWarning: This pattern has match groups. To actually get the groups, use str.extract.\n",
            "  \n",
            "/usr/local/lib/python3.6/dist-packages/ipykernel_launcher.py:3: UserWarning: This pattern has match groups. To actually get the groups, use str.extract.\n",
            "  This is separate from the ipykernel package so we can avoid doing imports until\n"
          ],
          "name": "stderr"
        }
      ]
    },
    {
      "cell_type": "code",
      "metadata": {
        "id": "H9A2TUL-zY_o",
        "colab_type": "code",
        "colab": {
          "base_uri": "https://localhost:8080/",
          "height": 353
        },
        "outputId": "887fe8ed-cd98-4dbc-ed75-96c903cf0066"
      },
      "source": [
        "train.columns.tolist()"
      ],
      "execution_count": 199,
      "outputs": [
        {
          "output_type": "execute_result",
          "data": {
            "text/plain": [
              "['Inspection ID',\n",
              " 'DBA Name',\n",
              " 'AKA Name',\n",
              " 'License #',\n",
              " 'Facility Type',\n",
              " 'Risk',\n",
              " 'Address',\n",
              " 'City',\n",
              " 'State',\n",
              " 'Zip',\n",
              " 'Inspection Date',\n",
              " 'Inspection Type',\n",
              " 'Violations',\n",
              " 'Latitude',\n",
              " 'Longitude',\n",
              " 'Location',\n",
              " 'Fail',\n",
              " 'High_risk',\n",
              " 'Low_risk',\n",
              " 'Medium Risk']"
            ]
          },
          "metadata": {
            "tags": []
          },
          "execution_count": 199
        }
      ]
    },
    {
      "cell_type": "markdown",
      "metadata": {
        "id": "m8OGjaXUy9fr",
        "colab_type": "text"
      },
      "source": [
        "###Modeling with the new features"
      ]
    },
    {
      "cell_type": "code",
      "metadata": {
        "id": "zvGsPT-vy9He",
        "colab_type": "code",
        "colab": {
          "base_uri": "https://localhost:8080/",
          "height": 322
        },
        "outputId": "40adc8e3-f750-4c7c-c419-dd77fc694443"
      },
      "source": [
        "features = ['Facility Type', 'Risk', 'Inspection Date',\n",
        "           'Violations', 'High_risk', 'Low_risk', 'Medium Risk']\n",
        "target = 'Fail'\n",
        "\n",
        "X_train = train[features]\n",
        "y_train = train[target]\n",
        "\n",
        "X_test = test[features]\n",
        "y_test = test[target]\n",
        "\n",
        "encoder = ce.OrdinalEncoder()\n",
        "X_train = encoder.fit_transform(X_train[features])\n",
        "\n",
        "encoder = ce.OrdinalEncoder()\n",
        "X_test = encoder.fit_transform(X_test[features])\n",
        "\n",
        "param_distributions = {\n",
        "    'n_estimators': randint(50, 300), \n",
        "    'max_depth': randint(2, 5)\n",
        "}\n",
        "\n",
        "# n_iter & cv parameters are low here so the example runs faster\n",
        "search = RandomizedSearchCV(\n",
        "    estimator=XGBClassifier(n_jobs=-1, random_state=42), #estimator = pipeline makes us put piepline in\n",
        "    param_distributions=param_distributions, \n",
        "    n_iter=4, \n",
        "    scoring='roc_auc', \n",
        "    n_jobs=-1, \n",
        "    cv=4, \n",
        "    verbose=10, \n",
        "    return_train_score=True, \n",
        "    random_state=42\n",
        ")\n",
        "\n",
        "search.fit(X_train.values, y_train.values)"
      ],
      "execution_count": 202,
      "outputs": [
        {
          "output_type": "stream",
          "text": [
            "Fitting 4 folds for each of 4 candidates, totalling 16 fits\n"
          ],
          "name": "stdout"
        },
        {
          "output_type": "stream",
          "text": [
            "[Parallel(n_jobs=-1)]: Using backend LokyBackend with 2 concurrent workers.\n",
            "[Parallel(n_jobs=-1)]: Done   1 tasks      | elapsed:    9.2s\n",
            "[Parallel(n_jobs=-1)]: Done   4 tasks      | elapsed:   17.5s\n",
            "[Parallel(n_jobs=-1)]: Done   9 tasks      | elapsed:   25.0s\n",
            "[Parallel(n_jobs=-1)]: Done  16 out of  16 | elapsed:   32.9s finished\n"
          ],
          "name": "stderr"
        },
        {
          "output_type": "execute_result",
          "data": {
            "text/plain": [
              "RandomizedSearchCV(cv=4, error_score='raise-deprecating',\n",
              "          estimator=XGBClassifier(base_score=0.5, booster='gbtree', colsample_bylevel=1,\n",
              "       colsample_bytree=1, gamma=0, learning_rate=0.1, max_delta_step=0,\n",
              "       max_depth=3, min_child_weight=1, missing=None, n_estimators=100,\n",
              "       n_jobs=-1, nthread=None, objective='binary:logistic',\n",
              "       random_state=42, reg_alpha=0, reg_lambda=1, scale_pos_weight=1,\n",
              "       seed=None, silent=True, subsample=1),\n",
              "          fit_params=None, iid='warn', n_iter=4, n_jobs=-1,\n",
              "          param_distributions={'n_estimators': <scipy.stats._distn_infrastructure.rv_frozen object at 0x7fb85ac6bd30>, 'max_depth': <scipy.stats._distn_infrastructure.rv_frozen object at 0x7fb867588550>},\n",
              "          pre_dispatch='2*n_jobs', random_state=42, refit=True,\n",
              "          return_train_score=True, scoring='roc_auc', verbose=10)"
            ]
          },
          "metadata": {
            "tags": []
          },
          "execution_count": 202
        }
      ]
    },
    {
      "cell_type": "code",
      "metadata": {
        "id": "vjHtQUAEzSpv",
        "colab_type": "code",
        "colab": {
          "base_uri": "https://localhost:8080/",
          "height": 50
        },
        "outputId": "1700d3e0-7f04-4a89-a4c6-1d5b770b8761"
      },
      "source": [
        "print('Cross-Validation ROC_AUC score:', search.best_score_)\n",
        "\n",
        "from sklearn.metrics import roc_auc_score\n",
        "best = search.best_estimator_\n",
        "y_pred_proba = best.predict_proba(X_test.values)[:,1]\n",
        "print('Test ROC AUC:', roc_auc_score(y_test, y_pred_proba))"
      ],
      "execution_count": 203,
      "outputs": [
        {
          "output_type": "stream",
          "text": [
            "Cross-Validation ROC_AUC score: 0.5541768791331421\n",
            "Test ROC AUC: 0.5605706762036252\n"
          ],
          "name": "stdout"
        }
      ]
    },
    {
      "cell_type": "code",
      "metadata": {
        "id": "e3O2qjfj0R16",
        "colab_type": "code",
        "colab": {
          "base_uri": "https://localhost:8080/",
          "height": 568
        },
        "outputId": "ca1b9495-3901-4aa6-bfdf-db5247f329ef"
      },
      "source": [
        "train.head()"
      ],
      "execution_count": 204,
      "outputs": [
        {
          "output_type": "execute_result",
          "data": {
            "text/html": [
              "<div>\n",
              "<style scoped>\n",
              "    .dataframe tbody tr th:only-of-type {\n",
              "        vertical-align: middle;\n",
              "    }\n",
              "\n",
              "    .dataframe tbody tr th {\n",
              "        vertical-align: top;\n",
              "    }\n",
              "\n",
              "    .dataframe thead th {\n",
              "        text-align: right;\n",
              "    }\n",
              "</style>\n",
              "<table border=\"1\" class=\"dataframe\">\n",
              "  <thead>\n",
              "    <tr style=\"text-align: right;\">\n",
              "      <th></th>\n",
              "      <th>Inspection ID</th>\n",
              "      <th>DBA Name</th>\n",
              "      <th>AKA Name</th>\n",
              "      <th>License #</th>\n",
              "      <th>Facility Type</th>\n",
              "      <th>Risk</th>\n",
              "      <th>Address</th>\n",
              "      <th>City</th>\n",
              "      <th>State</th>\n",
              "      <th>Zip</th>\n",
              "      <th>Inspection Date</th>\n",
              "      <th>Inspection Type</th>\n",
              "      <th>Violations</th>\n",
              "      <th>Latitude</th>\n",
              "      <th>Longitude</th>\n",
              "      <th>Location</th>\n",
              "      <th>Fail</th>\n",
              "      <th>High_risk</th>\n",
              "      <th>Low_risk</th>\n",
              "      <th>Medium Risk</th>\n",
              "    </tr>\n",
              "  </thead>\n",
              "  <tbody>\n",
              "    <tr>\n",
              "      <th>0</th>\n",
              "      <td>2088270</td>\n",
              "      <td>TOM YUM RICE &amp; NOODLE, INC.</td>\n",
              "      <td>TOM YUM CAFE</td>\n",
              "      <td>2354911.0</td>\n",
              "      <td>Restaurant</td>\n",
              "      <td>Risk 1 (High)</td>\n",
              "      <td>608 W BARRY</td>\n",
              "      <td>CHICAGO</td>\n",
              "      <td>IL</td>\n",
              "      <td>60657.0</td>\n",
              "      <td>2017-09-15T00:00:00</td>\n",
              "      <td>Canvass</td>\n",
              "      <td>3. POTENTIALLY HAZARDOUS FOOD MEETS TEMPERATUR...</td>\n",
              "      <td>41.938007</td>\n",
              "      <td>-87.644755</td>\n",
              "      <td>{'longitude': '-87.6447545707008', 'latitude':...</td>\n",
              "      <td>1</td>\n",
              "      <td>False</td>\n",
              "      <td>False</td>\n",
              "      <td>False</td>\n",
              "    </tr>\n",
              "    <tr>\n",
              "      <th>1</th>\n",
              "      <td>555268</td>\n",
              "      <td>FILLING STATION  &amp; CONVENIENCE  STORE</td>\n",
              "      <td>FILLING STATION  &amp; CONVENIENCE  STORE</td>\n",
              "      <td>1044901.0</td>\n",
              "      <td>Grocery Store</td>\n",
              "      <td>Risk 3 (Low)</td>\n",
              "      <td>6646-6658 S WESTERN AVE</td>\n",
              "      <td>CHICAGO</td>\n",
              "      <td>IL</td>\n",
              "      <td>60636.0</td>\n",
              "      <td>2011-10-20T00:00:00</td>\n",
              "      <td>Complaint Re-Inspection</td>\n",
              "      <td>32. FOOD AND NON-FOOD CONTACT SURFACES PROPERL...</td>\n",
              "      <td>41.772402</td>\n",
              "      <td>-87.683603</td>\n",
              "      <td>{'longitude': '-87.68360273081268', 'latitude'...</td>\n",
              "      <td>0</td>\n",
              "      <td>False</td>\n",
              "      <td>False</td>\n",
              "      <td>False</td>\n",
              "    </tr>\n",
              "    <tr>\n",
              "      <th>2</th>\n",
              "      <td>1751394</td>\n",
              "      <td>A P DELI</td>\n",
              "      <td>A P DELI</td>\n",
              "      <td>47405.0</td>\n",
              "      <td>Restaurant</td>\n",
              "      <td>Risk 1 (High)</td>\n",
              "      <td>2025 E 75TH ST</td>\n",
              "      <td>CHICAGO</td>\n",
              "      <td>IL</td>\n",
              "      <td>60649.0</td>\n",
              "      <td>2016-04-05T00:00:00</td>\n",
              "      <td>Canvass Re-Inspection</td>\n",
              "      <td>35. WALLS, CEILINGS, ATTACHED EQUIPMENT CONSTR...</td>\n",
              "      <td>41.758779</td>\n",
              "      <td>-87.575054</td>\n",
              "      <td>{'longitude': '-87.57505446746121', 'latitude'...</td>\n",
              "      <td>0</td>\n",
              "      <td>False</td>\n",
              "      <td>False</td>\n",
              "      <td>False</td>\n",
              "    </tr>\n",
              "    <tr>\n",
              "      <th>3</th>\n",
              "      <td>1763905</td>\n",
              "      <td>FRANK'S CHICAGO SHRIMP HOUSE</td>\n",
              "      <td>FRANK'S CHICAGO SHRIMP HOUSE</td>\n",
              "      <td>6414.0</td>\n",
              "      <td>Restaurant</td>\n",
              "      <td>Risk 2 (Medium)</td>\n",
              "      <td>4459 S ARCHER AVE</td>\n",
              "      <td>CHICAGO</td>\n",
              "      <td>IL</td>\n",
              "      <td>60632.0</td>\n",
              "      <td>2016-04-29T00:00:00</td>\n",
              "      <td>Canvass</td>\n",
              "      <td>38. VENTILATION: ROOMS AND EQUIPMENT VENTED AS...</td>\n",
              "      <td>41.812181</td>\n",
              "      <td>-87.707125</td>\n",
              "      <td>{'longitude': '-87.70712481334274', 'latitude'...</td>\n",
              "      <td>0</td>\n",
              "      <td>False</td>\n",
              "      <td>False</td>\n",
              "      <td>False</td>\n",
              "    </tr>\n",
              "    <tr>\n",
              "      <th>4</th>\n",
              "      <td>453326</td>\n",
              "      <td>MORRILL</td>\n",
              "      <td>MORRILL</td>\n",
              "      <td>24571.0</td>\n",
              "      <td>School</td>\n",
              "      <td>Risk 1 (High)</td>\n",
              "      <td>6011 S Rockwell (2600W) AVE</td>\n",
              "      <td>CHICAGO</td>\n",
              "      <td>IL</td>\n",
              "      <td>60629.0</td>\n",
              "      <td>2011-01-10T00:00:00</td>\n",
              "      <td>Canvass</td>\n",
              "      <td>34. FLOORS: CONSTRUCTED PER CODE, CLEANED, GOO...</td>\n",
              "      <td>NaN</td>\n",
              "      <td>NaN</td>\n",
              "      <td>NaN</td>\n",
              "      <td>0</td>\n",
              "      <td>False</td>\n",
              "      <td>False</td>\n",
              "      <td>False</td>\n",
              "    </tr>\n",
              "  </tbody>\n",
              "</table>\n",
              "</div>"
            ],
            "text/plain": [
              "   Inspection ID                               DBA Name  ... Low_risk  Medium Risk\n",
              "0        2088270            TOM YUM RICE & NOODLE, INC.  ...    False        False\n",
              "1         555268  FILLING STATION  & CONVENIENCE  STORE  ...    False        False\n",
              "2        1751394                               A P DELI  ...    False        False\n",
              "3        1763905           FRANK'S CHICAGO SHRIMP HOUSE  ...    False        False\n",
              "4         453326                                MORRILL  ...    False        False\n",
              "\n",
              "[5 rows x 20 columns]"
            ]
          },
          "metadata": {
            "tags": []
          },
          "execution_count": 204
        }
      ]
    },
    {
      "cell_type": "code",
      "metadata": {
        "id": "Kcf-B9nL08Gf",
        "colab_type": "code",
        "colab": {
          "base_uri": "https://localhost:8080/",
          "height": 67
        },
        "outputId": "ea91e5d3-6071-4972-c33b-e4f92f003192"
      },
      "source": [
        "(train['DBA Name'].value_counts() >=10).value_counts()"
      ],
      "execution_count": 216,
      "outputs": [
        {
          "output_type": "execute_result",
          "data": {
            "text/plain": [
              "False    16667\n",
              "True       382\n",
              "Name: DBA Name, dtype: int64"
            ]
          },
          "metadata": {
            "tags": []
          },
          "execution_count": 216
        }
      ]
    },
    {
      "cell_type": "code",
      "metadata": {
        "id": "TqzX4M1k1eIo",
        "colab_type": "code",
        "colab": {}
      },
      "source": [
        ""
      ],
      "execution_count": 0,
      "outputs": []
    },
    {
      "cell_type": "code",
      "metadata": {
        "id": "U0Mr89cu1HEl",
        "colab_type": "code",
        "colab": {
          "base_uri": "https://localhost:8080/",
          "height": 50
        },
        "outputId": "446ad0f2-9594-45eb-d23a-35fd02a916ce"
      },
      "source": [
        "((train['DBA Name'].value_counts() >=6) & ((train['Fail'] ==1).value_counts() >= 6)).value_counts()"
      ],
      "execution_count": 221,
      "outputs": [
        {
          "output_type": "execute_result",
          "data": {
            "text/plain": [
              "False    17051\n",
              "dtype: int64"
            ]
          },
          "metadata": {
            "tags": []
          },
          "execution_count": 221
        }
      ]
    },
    {
      "cell_type": "code",
      "metadata": {
        "id": "UurtRln82Cy9",
        "colab_type": "code",
        "colab": {
          "base_uri": "https://localhost:8080/",
          "height": 67
        },
        "outputId": "c083c67e-d9a7-479a-8fbb-9bce1b01dceb"
      },
      "source": [
        "((train['Fail'] == 1).value_counts())"
      ],
      "execution_count": 231,
      "outputs": [
        {
          "output_type": "execute_result",
          "data": {
            "text/plain": [
              "False    38490\n",
              "True     13426\n",
              "Name: Fail, dtype: int64"
            ]
          },
          "metadata": {
            "tags": []
          },
          "execution_count": 231
        }
      ]
    },
    {
      "cell_type": "code",
      "metadata": {
        "id": "-06S8h2D0UiK",
        "colab_type": "code",
        "colab": {}
      },
      "source": [
        "train['Numbers of inspections'] = ((train['DBA Name'].value_counts() >= 2))# & (train['Fail'] == 1))"
      ],
      "execution_count": 0,
      "outputs": []
    },
    {
      "cell_type": "code",
      "metadata": {
        "id": "YTcrqoTN0uxr",
        "colab_type": "code",
        "colab": {
          "base_uri": "https://localhost:8080/",
          "height": 34
        },
        "outputId": "0117fae0-e83a-42e0-b457-782f0726d2b9"
      },
      "source": [
        "train['Numbers of inspections'].value_counts()"
      ],
      "execution_count": 211,
      "outputs": [
        {
          "output_type": "execute_result",
          "data": {
            "text/plain": [
              "Series([], Name: Numbers of inspections, dtype: int64)"
            ]
          },
          "metadata": {
            "tags": []
          },
          "execution_count": 211
        }
      ]
    },
    {
      "cell_type": "markdown",
      "metadata": {
        "id": "zf3_jl-8UdKx",
        "colab_type": "text"
      },
      "source": [
        "### Part 3: Visualization\n",
        "\n",
        "Make one visualization for model interpretation. (You may use any libraries.) Choose one of these types:\n",
        "\n",
        "- Feature Importances\n",
        "- Permutation Importances\n",
        "- Partial Dependence Plot\n",
        "- Shapley Values\n",
        "\n",
        "_To earn a score of 3 for this part, make at least two of these visualization types._\n"
      ]
    },
    {
      "cell_type": "code",
      "metadata": {
        "id": "EpKeEhv9UhZW",
        "colab_type": "code",
        "colab": {
          "base_uri": "https://localhost:8080/",
          "height": 151
        },
        "outputId": "07724dd3-3241-4311-ab49-2a615453076f"
      },
      "source": [
        "import eli5\n",
        "from eli5.sklearn import PermutationImportance\n",
        "\n",
        "permuter = PermutationImportance(best, scoring='roc_auc', cv='prefit',\n",
        "                     n_iter=2, random_state=42) \n",
        "#the first argument is you pass in the estimator\n",
        "\n",
        "permuter.fit(X_test.values, y_test)"
      ],
      "execution_count": 223,
      "outputs": [
        {
          "output_type": "execute_result",
          "data": {
            "text/plain": [
              "PermutationImportance(cv='prefit',\n",
              "           estimator=XGBClassifier(base_score=0.5, booster='gbtree', colsample_bylevel=1,\n",
              "       colsample_bytree=1, gamma=0, learning_rate=0.1, max_delta_step=0,\n",
              "       max_depth=2, min_child_weight=1, missing=None, n_estimators=64,\n",
              "       n_jobs=-1, nthread=None, objective='binary:logistic',\n",
              "       random_state=42, reg_alpha=0, reg_lambda=1, scale_pos_weight=1,\n",
              "       seed=None, silent=True, subsample=1),\n",
              "           n_iter=2, random_state=42, refit=True, scoring='roc_auc')"
            ]
          },
          "metadata": {
            "tags": []
          },
          "execution_count": 223
        }
      ]
    },
    {
      "cell_type": "code",
      "metadata": {
        "id": "T4Sxtxv113cF",
        "colab_type": "code",
        "colab": {
          "base_uri": "https://localhost:8080/",
          "height": 151
        },
        "outputId": "45104e7b-1c1d-44ba-cc9f-eef96d199661"
      },
      "source": [
        "feature_names = X_test.columns.tolist()\n",
        "eli5.show_weights(permuter, top=None, feature_names = feature_names)"
      ],
      "execution_count": 224,
      "outputs": [
        {
          "output_type": "execute_result",
          "data": {
            "text/html": [
              "\n",
              "    <style>\n",
              "    table.eli5-weights tr:hover {\n",
              "        filter: brightness(85%);\n",
              "    }\n",
              "</style>\n",
              "\n",
              "\n",
              "\n",
              "    \n",
              "\n",
              "    \n",
              "\n",
              "    \n",
              "\n",
              "    \n",
              "\n",
              "    \n",
              "\n",
              "    \n",
              "\n",
              "\n",
              "    \n",
              "\n",
              "    \n",
              "\n",
              "    \n",
              "\n",
              "    \n",
              "\n",
              "    \n",
              "\n",
              "    \n",
              "\n",
              "\n",
              "    \n",
              "\n",
              "    \n",
              "\n",
              "    \n",
              "\n",
              "    \n",
              "\n",
              "    \n",
              "        <table class=\"eli5-weights eli5-feature-importances\" style=\"border-collapse: collapse; border: none; margin-top: 0em; table-layout: auto;\">\n",
              "    <thead>\n",
              "    <tr style=\"border: none;\">\n",
              "        <th style=\"padding: 0 1em 0 0.5em; text-align: right; border: none;\">Weight</th>\n",
              "        <th style=\"padding: 0 0.5em 0 0.5em; text-align: left; border: none;\">Feature</th>\n",
              "    </tr>\n",
              "    </thead>\n",
              "    <tbody>\n",
              "    \n",
              "        <tr style=\"background-color: hsl(120, 100.00%, 80.00%); border: none;\">\n",
              "            <td style=\"padding: 0 1em 0 0.5em; text-align: right; border: none;\">\n",
              "                0.0621\n",
              "                \n",
              "                    &plusmn; 0.0027\n",
              "                \n",
              "            </td>\n",
              "            <td style=\"padding: 0 0.5em 0 0.5em; text-align: left; border: none;\">\n",
              "                Violations\n",
              "            </td>\n",
              "        </tr>\n",
              "    \n",
              "        <tr style=\"background-color: hsl(120, 100.00%, 96.21%); border: none;\">\n",
              "            <td style=\"padding: 0 1em 0 0.5em; text-align: right; border: none;\">\n",
              "                0.0058\n",
              "                \n",
              "                    &plusmn; 0.0014\n",
              "                \n",
              "            </td>\n",
              "            <td style=\"padding: 0 0.5em 0 0.5em; text-align: left; border: none;\">\n",
              "                Facility Type\n",
              "            </td>\n",
              "        </tr>\n",
              "    \n",
              "        <tr style=\"background-color: hsl(120, 100.00%, 98.28%); border: none;\">\n",
              "            <td style=\"padding: 0 1em 0 0.5em; text-align: right; border: none;\">\n",
              "                0.0019\n",
              "                \n",
              "                    &plusmn; 0.0014\n",
              "                \n",
              "            </td>\n",
              "            <td style=\"padding: 0 0.5em 0 0.5em; text-align: left; border: none;\">\n",
              "                Inspection Date\n",
              "            </td>\n",
              "        </tr>\n",
              "    \n",
              "        <tr style=\"background-color: hsl(0, 100.00%, 100.00%); border: none;\">\n",
              "            <td style=\"padding: 0 1em 0 0.5em; text-align: right; border: none;\">\n",
              "                0\n",
              "                \n",
              "                    &plusmn; 0.0000\n",
              "                \n",
              "            </td>\n",
              "            <td style=\"padding: 0 0.5em 0 0.5em; text-align: left; border: none;\">\n",
              "                Medium Risk\n",
              "            </td>\n",
              "        </tr>\n",
              "    \n",
              "        <tr style=\"background-color: hsl(0, 100.00%, 100.00%); border: none;\">\n",
              "            <td style=\"padding: 0 1em 0 0.5em; text-align: right; border: none;\">\n",
              "                0\n",
              "                \n",
              "                    &plusmn; 0.0000\n",
              "                \n",
              "            </td>\n",
              "            <td style=\"padding: 0 0.5em 0 0.5em; text-align: left; border: none;\">\n",
              "                Low_risk\n",
              "            </td>\n",
              "        </tr>\n",
              "    \n",
              "        <tr style=\"background-color: hsl(0, 100.00%, 100.00%); border: none;\">\n",
              "            <td style=\"padding: 0 1em 0 0.5em; text-align: right; border: none;\">\n",
              "                0\n",
              "                \n",
              "                    &plusmn; 0.0000\n",
              "                \n",
              "            </td>\n",
              "            <td style=\"padding: 0 0.5em 0 0.5em; text-align: left; border: none;\">\n",
              "                High_risk\n",
              "            </td>\n",
              "        </tr>\n",
              "    \n",
              "        <tr style=\"background-color: hsl(0, 100.00%, 96.03%); border: none;\">\n",
              "            <td style=\"padding: 0 1em 0 0.5em; text-align: right; border: none;\">\n",
              "                -0.0062\n",
              "                \n",
              "                    &plusmn; 0.0004\n",
              "                \n",
              "            </td>\n",
              "            <td style=\"padding: 0 0.5em 0 0.5em; text-align: left; border: none;\">\n",
              "                Risk\n",
              "            </td>\n",
              "        </tr>\n",
              "    \n",
              "    \n",
              "    </tbody>\n",
              "</table>\n",
              "    \n",
              "\n",
              "    \n",
              "\n",
              "\n",
              "    \n",
              "\n",
              "    \n",
              "\n",
              "    \n",
              "\n",
              "    \n",
              "\n",
              "    \n",
              "\n",
              "    \n",
              "\n",
              "\n",
              "\n"
            ],
            "text/plain": [
              "<IPython.core.display.HTML object>"
            ]
          },
          "metadata": {
            "tags": []
          },
          "execution_count": 224
        }
      ]
    },
    {
      "cell_type": "markdown",
      "metadata": {
        "id": "Z3F_KkxZUYvc",
        "colab_type": "text"
      },
      "source": [
        "### Part 4: Gradient Descent\n",
        "\n",
        "Answer both of these two questions:\n",
        "\n",
        "- What does Gradient Descent seek to minimize?\n",
        "- What is the \"Learning Rate\" and what is its function?\n",
        "\n",
        "One sentence is sufficient for each.\n",
        "\n",
        "_To earn a score of 3 for this part, go above and beyond. Show depth of understanding and mastery of intuition in your answers._"
      ]
    },
    {
      "cell_type": "markdown",
      "metadata": {
        "id": "uWPRn7ps2e3i",
        "colab_type": "text"
      },
      "source": [
        "Gradient Descent attempts to minimize the output given inputs.  It helps in finding the minimum of a certain function. In Linear Regression, it is used to minimize the squared error cost function.\n",
        "\n",
        "Learning rate is multiple of the gradient. It is also called alpha sometimes, often a small positive value.\n",
        "It is a hyper-paremeter that controls how much we adjust to the change in input i.e. the smaller the value the slower we move downwards and slower do we get to the minimum of any function."
      ]
    },
    {
      "cell_type": "code",
      "metadata": {
        "id": "SFD2_gYoUlHp",
        "colab_type": "code",
        "colab": {}
      },
      "source": [
        "Gradient Descent "
      ],
      "execution_count": 0,
      "outputs": []
    }
  ]
}